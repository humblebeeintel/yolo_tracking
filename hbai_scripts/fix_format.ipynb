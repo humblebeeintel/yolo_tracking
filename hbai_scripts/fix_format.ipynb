{
 "cells": [
  {
   "cell_type": "code",
   "execution_count": null,
   "metadata": {},
   "outputs": [],
   "source": [
    "import os\n",
    "import re\n",
    "from PIL import Image\n",
    "from tqdm import tqdm\n",
    "\n",
    "def get_image_dimensions(image_directory):\n",
    "    image_files = os.listdir(image_directory)\n",
    "    if not image_files:\n",
    "        raise FileNotFoundError(f\"No images found in directory: {image_directory}\")\n",
    "    \n",
    "    example_image_path = os.path.join(image_directory, image_files[0])\n",
    "    with Image.open(example_image_path) as img:\n",
    "        width, height = img.size\n",
    "    return width, height\n",
    "\n",
    "def process_file(file_path, image_width, image_height):\n",
    "    frame_number = int(os.path.basename(file_path).split('_')[-1].split('.')[0])\n",
    "    \n",
    "    output_data = []\n",
    "    \n",
    "    with open(file_path, 'r') as file:\n",
    "        lines = file.readlines()  # Read all lines\n",
    "        if not lines:\n",
    "            print(f\"File {file_path} is empty.\")\n",
    "        for line in lines:\n",
    "            data = line.strip().split()\n",
    "            if len(data) == 6:\n",
    "                try:\n",
    "                    track_id = data[-1]\n",
    "                    bbox_data = data[1:5]  # Ignore the first column\n",
    "                    \n",
    "                    x_center, y_center, width, height = map(float, bbox_data)\n",
    "                \n",
    "                    # Convert center coordinates to top-left coordinates\n",
    "                    x_top_left = x_center - (width / 2)\n",
    "                    y_top_left = y_center - (height / 2)\n",
    "                    \n",
    "                    output_line = f\"{frame_number},{track_id},{x_top_left:.2f},{y_top_left:.2f},{width:.2f},{height:.2f},1,-1,-1,-1\"\n",
    "                    output_data.append(output_line)\n",
    "                except ValueError as e:\n",
    "                    print(f\"Error processing line in file {file_path}: {line} -> {e}\")\n",
    "    \n",
    "    return output_data\n",
    "\n",
    "def sorted_numerically(file_list):\n",
    "    def numerical_sort(value):\n",
    "        numbers = re.findall(r'\\d+', value)\n",
    "        return list(map(int, numbers)) if numbers else [0]\n",
    "    return sorted(file_list, key=numerical_sort)\n",
    "\n",
    "def process_video(video_name, input_directory, image_directory, output_directory):\n",
    "    try:\n",
    "        # Get the dimensions of one image\n",
    "        image_width, image_height = get_image_dimensions(image_directory)\n",
    "    except FileNotFoundError as e:\n",
    "        print(e)\n",
    "        return\n",
    "    \n",
    "    output_file = os.path.join(output_directory, f\"{video_name}.txt\")\n",
    "    \n",
    "    label_directory = os.path.join(input_directory, 'labels')\n",
    "    if not os.path.exists(label_directory):\n",
    "        print(f\"Label directory does not exist: {label_directory}\")\n",
    "        return\n",
    "    \n",
    "    files = [file_name for file_name in os.listdir(label_directory) if file_name.endswith('.txt')]\n",
    "    if not files:\n",
    "        print(f\"No label files found in directory: {label_directory}\")\n",
    "        return\n",
    "    \n",
    "    files = sorted_numerically(files)\n",
    "    \n",
    "    all_data = []\n",
    "    \n",
    "    for file_name in files:\n",
    "        file_path = os.path.join(label_directory, file_name)\n",
    "        output_data = process_file(file_path, image_width, image_height)\n",
    "        if not output_data:\n",
    "            print(f\"No data processed for file: {file_path}\")\n",
    "        all_data.extend(output_data)\n",
    "    \n",
    "    if not all_data:\n",
    "        print(f\"No data to write for video: {video_name}\")\n",
    "        return\n",
    "    \n",
    "    # Sort all data by frame number first, then by track ID\n",
    "    all_data.sort(key=lambda x: (int(x.split(',')[0]), int(x.split(',')[1])))\n",
    "    \n",
    "    with open(output_file, 'w') as out_file:\n",
    "        for line in all_data:\n",
    "            out_file.write(line + '\\n')\n",
    "    \n",
    "    print(f\"Data has been written to {output_file}\")\n",
    "\n",
    "def main(dataset_dir, result_base_dir, output_base_dir):\n",
    "    trackers = ['ocsort', 'deepocsort']\n",
    "    \n",
    "    for tracker in trackers:\n",
    "        # from 0.2 to 0.8 with 0.05 step\n",
    "        for iou in [0.2, 0.25, 0.3, 0.35, 0.4, 0.45, 0.5, 0.55, 0.6, 0.65, 0.7, 0.75, 0.8]:\n",
    "        \n",
    "            result_dir = os.path.join(result_base_dir, f\"{tracker}__input_1280__conf_.25__IoU_{iou}\", 'data')\n",
    "            output_dir = os.path.join(output_base_dir, f\"{tracker}__input_1280__conf_.25__IoU_{iou}\", \"data\")\n",
    "            \n",
    "            # Ensure the output directory exists\n",
    "            os.makedirs(output_dir, exist_ok=True)\n",
    "            \n",
    "            sequences = [d for d in os.listdir(dataset_dir) if os.path.isdir(os.path.join(dataset_dir, d))]\n",
    "            \n",
    "            for seq in tqdm(sequences, desc=f\"Converting seq for {tracker}\", unit=\"video\"):\n",
    "                video_name = seq\n",
    "                input_directory = os.path.join(result_dir, video_name)\n",
    "\n",
    "                process_video(video_name, input_directory, output_dir)\n",
    "\n",
    "# Specify the dataset directory, base result directory, and base output directory\n",
    "dataset_dir = '/media/hbai/data/code/LiteSORT/datasets/DanceTrack/train'\n",
    "result_base_dir = '/media/hbai/data/code/LiteSORT/yolo_tracking/hbai_scripts/DanceTrack-train_IoU'\n",
    "output_base_dir = '/media/hbai/data/code/LiteSORT/yolo_tracking/hbai_scripts/DanceTrack-train_fixed_format'\n",
    "\n",
    "# Run the processing for all videos in the dataset for all trackers\n",
    "main(dataset_dir, result_base_dir, output_base_dir)\n"
   ]
  },
  {
   "cell_type": "code",
   "execution_count": null,
   "metadata": {},
   "outputs": [],
   "source": []
  },
  {
   "cell_type": "code",
   "execution_count": 1,
   "metadata": {},
   "outputs": [
    {
     "name": "stderr",
     "output_type": "stream",
     "text": [
      "Converting seq for ocsort:  50%|█████     | 20/40 [00:00<00:00, 93.42file/s]"
     ]
    },
    {
     "name": "stdout",
     "output_type": "stream",
     "text": [
      "Data has been written to /media/hbai/data/code/LiteSORT/yolo_tracking/hbai_scripts/DanceTrack-train_fixed_format/ocsort__input_1280__conf_.25__IoU_0.2/data/dancetrack0023.txt\n",
      "Data has been written to /media/hbai/data/code/LiteSORT/yolo_tracking/hbai_scripts/DanceTrack-train_fixed_format/ocsort__input_1280__conf_.25__IoU_0.2/data/dancetrack0096.txt\n",
      "Data has been written to /media/hbai/data/code/LiteSORT/yolo_tracking/hbai_scripts/DanceTrack-train_fixed_format/ocsort__input_1280__conf_.25__IoU_0.2/data/dancetrack0062.txt\n",
      "Data has been written to /media/hbai/data/code/LiteSORT/yolo_tracking/hbai_scripts/DanceTrack-train_fixed_format/ocsort__input_1280__conf_.25__IoU_0.2/data/dancetrack0098.txt\n",
      "Data has been written to /media/hbai/data/code/LiteSORT/yolo_tracking/hbai_scripts/DanceTrack-train_fixed_format/ocsort__input_1280__conf_.25__IoU_0.2/data/dancetrack0051.txt\n",
      "Data has been written to /media/hbai/data/code/LiteSORT/yolo_tracking/hbai_scripts/DanceTrack-train_fixed_format/ocsort__input_1280__conf_.25__IoU_0.2/data/dancetrack0080.txt\n",
      "Data has been written to /media/hbai/data/code/LiteSORT/yolo_tracking/hbai_scripts/DanceTrack-train_fixed_format/ocsort__input_1280__conf_.25__IoU_0.2/data/dancetrack0052.txt\n",
      "Data has been written to /media/hbai/data/code/LiteSORT/yolo_tracking/hbai_scripts/DanceTrack-train_fixed_format/ocsort__input_1280__conf_.25__IoU_0.2/data/dancetrack0055.txt\n",
      "Data has been written to /media/hbai/data/code/LiteSORT/yolo_tracking/hbai_scripts/DanceTrack-train_fixed_format/ocsort__input_1280__conf_.25__IoU_0.2/data/dancetrack0066.txt\n",
      "Data has been written to /media/hbai/data/code/LiteSORT/yolo_tracking/hbai_scripts/DanceTrack-train_fixed_format/ocsort__input_1280__conf_.25__IoU_0.2/data/dancetrack0016.txt\n",
      "Data has been written to /media/hbai/data/code/LiteSORT/yolo_tracking/hbai_scripts/DanceTrack-train_fixed_format/ocsort__input_1280__conf_.25__IoU_0.2/data/dancetrack0087.txt\n",
      "Data has been written to /media/hbai/data/code/LiteSORT/yolo_tracking/hbai_scripts/DanceTrack-train_fixed_format/ocsort__input_1280__conf_.25__IoU_0.2/data/dancetrack0039.txt\n",
      "Data has been written to /media/hbai/data/code/LiteSORT/yolo_tracking/hbai_scripts/DanceTrack-train_fixed_format/ocsort__input_1280__conf_.25__IoU_0.2/data/dancetrack0020.txt\n",
      "Data has been written to /media/hbai/data/code/LiteSORT/yolo_tracking/hbai_scripts/DanceTrack-train_fixed_format/ocsort__input_1280__conf_.25__IoU_0.2/data/dancetrack0082.txt\n",
      "Data has been written to /media/hbai/data/code/LiteSORT/yolo_tracking/hbai_scripts/DanceTrack-train_fixed_format/ocsort__input_1280__conf_.25__IoU_0.2/data/dancetrack0012.txt\n",
      "Data has been written to /media/hbai/data/code/LiteSORT/yolo_tracking/hbai_scripts/DanceTrack-train_fixed_format/ocsort__input_1280__conf_.25__IoU_0.2/data/dancetrack0001.txt\n",
      "Data has been written to /media/hbai/data/code/LiteSORT/yolo_tracking/hbai_scripts/DanceTrack-train_fixed_format/ocsort__input_1280__conf_.25__IoU_0.2/data/dancetrack0075.txt\n",
      "Data has been written to /media/hbai/data/code/LiteSORT/yolo_tracking/hbai_scripts/DanceTrack-train_fixed_format/ocsort__input_1280__conf_.25__IoU_0.2/data/dancetrack0045.txt\n",
      "Data has been written to /media/hbai/data/code/LiteSORT/yolo_tracking/hbai_scripts/DanceTrack-train_fixed_format/ocsort__input_1280__conf_.25__IoU_0.2/data/dancetrack0057.txt\n",
      "Data has been written to /media/hbai/data/code/LiteSORT/yolo_tracking/hbai_scripts/DanceTrack-train_fixed_format/ocsort__input_1280__conf_.25__IoU_0.2/data/dancetrack0074.txt\n"
     ]
    },
    {
     "name": "stderr",
     "output_type": "stream",
     "text": [
      "Converting seq for ocsort: 100%|██████████| 40/40 [00:00<00:00, 100.61file/s]\n"
     ]
    },
    {
     "name": "stdout",
     "output_type": "stream",
     "text": [
      "Data has been written to /media/hbai/data/code/LiteSORT/yolo_tracking/hbai_scripts/DanceTrack-train_fixed_format/ocsort__input_1280__conf_.25__IoU_0.2/data/dancetrack0053.txt\n",
      "Data has been written to /media/hbai/data/code/LiteSORT/yolo_tracking/hbai_scripts/DanceTrack-train_fixed_format/ocsort__input_1280__conf_.25__IoU_0.2/data/dancetrack0086.txt\n",
      "Data has been written to /media/hbai/data/code/LiteSORT/yolo_tracking/hbai_scripts/DanceTrack-train_fixed_format/ocsort__input_1280__conf_.25__IoU_0.2/data/dancetrack0083.txt\n",
      "Data has been written to /media/hbai/data/code/LiteSORT/yolo_tracking/hbai_scripts/DanceTrack-train_fixed_format/ocsort__input_1280__conf_.25__IoU_0.2/data/dancetrack0027.txt\n",
      "Data has been written to /media/hbai/data/code/LiteSORT/yolo_tracking/hbai_scripts/DanceTrack-train_fixed_format/ocsort__input_1280__conf_.25__IoU_0.2/data/dancetrack0061.txt\n",
      "Data has been written to /media/hbai/data/code/LiteSORT/yolo_tracking/hbai_scripts/DanceTrack-train_fixed_format/ocsort__input_1280__conf_.25__IoU_0.2/data/dancetrack0068.txt\n",
      "Data has been written to /media/hbai/data/code/LiteSORT/yolo_tracking/hbai_scripts/DanceTrack-train_fixed_format/ocsort__input_1280__conf_.25__IoU_0.2/data/dancetrack0049.txt\n",
      "Data has been written to /media/hbai/data/code/LiteSORT/yolo_tracking/hbai_scripts/DanceTrack-train_fixed_format/ocsort__input_1280__conf_.25__IoU_0.2/data/dancetrack0037.txt\n",
      "Data has been written to /media/hbai/data/code/LiteSORT/yolo_tracking/hbai_scripts/DanceTrack-train_fixed_format/ocsort__input_1280__conf_.25__IoU_0.2/data/dancetrack0006.txt\n",
      "Data has been written to /media/hbai/data/code/LiteSORT/yolo_tracking/hbai_scripts/DanceTrack-train_fixed_format/ocsort__input_1280__conf_.25__IoU_0.2/data/dancetrack0032.txt\n",
      "Data has been written to /media/hbai/data/code/LiteSORT/yolo_tracking/hbai_scripts/DanceTrack-train_fixed_format/ocsort__input_1280__conf_.25__IoU_0.2/data/dancetrack0044.txt\n",
      "Data has been written to /media/hbai/data/code/LiteSORT/yolo_tracking/hbai_scripts/DanceTrack-train_fixed_format/ocsort__input_1280__conf_.25__IoU_0.2/data/dancetrack0008.txt\n",
      "Data has been written to /media/hbai/data/code/LiteSORT/yolo_tracking/hbai_scripts/DanceTrack-train_fixed_format/ocsort__input_1280__conf_.25__IoU_0.2/data/dancetrack0099.txt\n",
      "Data has been written to /media/hbai/data/code/LiteSORT/yolo_tracking/hbai_scripts/DanceTrack-train_fixed_format/ocsort__input_1280__conf_.25__IoU_0.2/data/dancetrack0002.txt\n",
      "Data has been written to /media/hbai/data/code/LiteSORT/yolo_tracking/hbai_scripts/DanceTrack-train_fixed_format/ocsort__input_1280__conf_.25__IoU_0.2/data/dancetrack0029.txt\n",
      "Data has been written to /media/hbai/data/code/LiteSORT/yolo_tracking/hbai_scripts/DanceTrack-train_fixed_format/ocsort__input_1280__conf_.25__IoU_0.2/data/dancetrack0069.txt\n",
      "Data has been written to /media/hbai/data/code/LiteSORT/yolo_tracking/hbai_scripts/DanceTrack-train_fixed_format/ocsort__input_1280__conf_.25__IoU_0.2/data/dancetrack0033.txt\n",
      "Data has been written to /media/hbai/data/code/LiteSORT/yolo_tracking/hbai_scripts/DanceTrack-train_fixed_format/ocsort__input_1280__conf_.25__IoU_0.2/data/dancetrack0024.txt\n",
      "Data has been written to /media/hbai/data/code/LiteSORT/yolo_tracking/hbai_scripts/DanceTrack-train_fixed_format/ocsort__input_1280__conf_.25__IoU_0.2/data/dancetrack0072.txt\n",
      "Data has been written to /media/hbai/data/code/LiteSORT/yolo_tracking/hbai_scripts/DanceTrack-train_fixed_format/ocsort__input_1280__conf_.25__IoU_0.2/data/dancetrack0015.txt\n"
     ]
    },
    {
     "name": "stderr",
     "output_type": "stream",
     "text": [
      "Converting seq for ocsort:   0%|          | 0/40 [00:00<?, ?file/s]"
     ]
    },
    {
     "name": "stdout",
     "output_type": "stream",
     "text": [
      "Data has been written to /media/hbai/data/code/LiteSORT/yolo_tracking/hbai_scripts/DanceTrack-train_fixed_format/ocsort__input_1280__conf_.25__IoU_0.25/data/dancetrack0023.txt\n"
     ]
    },
    {
     "name": "stderr",
     "output_type": "stream",
     "text": [
      "Converting seq for ocsort:  22%|██▎       | 9/40 [00:00<00:00, 88.36file/s]"
     ]
    },
    {
     "name": "stdout",
     "output_type": "stream",
     "text": [
      "Data has been written to /media/hbai/data/code/LiteSORT/yolo_tracking/hbai_scripts/DanceTrack-train_fixed_format/ocsort__input_1280__conf_.25__IoU_0.25/data/dancetrack0096.txt\n",
      "Data has been written to /media/hbai/data/code/LiteSORT/yolo_tracking/hbai_scripts/DanceTrack-train_fixed_format/ocsort__input_1280__conf_.25__IoU_0.25/data/dancetrack0062.txt\n",
      "Data has been written to /media/hbai/data/code/LiteSORT/yolo_tracking/hbai_scripts/DanceTrack-train_fixed_format/ocsort__input_1280__conf_.25__IoU_0.25/data/dancetrack0098.txt\n",
      "Data has been written to /media/hbai/data/code/LiteSORT/yolo_tracking/hbai_scripts/DanceTrack-train_fixed_format/ocsort__input_1280__conf_.25__IoU_0.25/data/dancetrack0051.txt\n",
      "Data has been written to /media/hbai/data/code/LiteSORT/yolo_tracking/hbai_scripts/DanceTrack-train_fixed_format/ocsort__input_1280__conf_.25__IoU_0.25/data/dancetrack0080.txt\n",
      "Data has been written to /media/hbai/data/code/LiteSORT/yolo_tracking/hbai_scripts/DanceTrack-train_fixed_format/ocsort__input_1280__conf_.25__IoU_0.25/data/dancetrack0052.txt\n",
      "Data has been written to /media/hbai/data/code/LiteSORT/yolo_tracking/hbai_scripts/DanceTrack-train_fixed_format/ocsort__input_1280__conf_.25__IoU_0.25/data/dancetrack0055.txt\n",
      "Data has been written to /media/hbai/data/code/LiteSORT/yolo_tracking/hbai_scripts/DanceTrack-train_fixed_format/ocsort__input_1280__conf_.25__IoU_0.25/data/dancetrack0066.txt\n",
      "Data has been written to /media/hbai/data/code/LiteSORT/yolo_tracking/hbai_scripts/DanceTrack-train_fixed_format/ocsort__input_1280__conf_.25__IoU_0.25/data/dancetrack0016.txt\n",
      "Data has been written to /media/hbai/data/code/LiteSORT/yolo_tracking/hbai_scripts/DanceTrack-train_fixed_format/ocsort__input_1280__conf_.25__IoU_0.25/data/dancetrack0087.txt\n",
      "Data has been written to /media/hbai/data/code/LiteSORT/yolo_tracking/hbai_scripts/DanceTrack-train_fixed_format/ocsort__input_1280__conf_.25__IoU_0.25/data/dancetrack0039.txt\n",
      "Data has been written to /media/hbai/data/code/LiteSORT/yolo_tracking/hbai_scripts/DanceTrack-train_fixed_format/ocsort__input_1280__conf_.25__IoU_0.25/data/dancetrack0020.txt\n",
      "Data has been written to /media/hbai/data/code/LiteSORT/yolo_tracking/hbai_scripts/DanceTrack-train_fixed_format/ocsort__input_1280__conf_.25__IoU_0.25/data/dancetrack0082.txt\n",
      "Data has been written to /media/hbai/data/code/LiteSORT/yolo_tracking/hbai_scripts/DanceTrack-train_fixed_format/ocsort__input_1280__conf_.25__IoU_0.25/data/dancetrack0012.txt\n",
      "Data has been written to /media/hbai/data/code/LiteSORT/yolo_tracking/hbai_scripts/DanceTrack-train_fixed_format/ocsort__input_1280__conf_.25__IoU_0.25/data/dancetrack0001.txt\n",
      "Data has been written to /media/hbai/data/code/LiteSORT/yolo_tracking/hbai_scripts/DanceTrack-train_fixed_format/ocsort__input_1280__conf_.25__IoU_0.25/data/dancetrack0075.txt\n",
      "Data has been written to /media/hbai/data/code/LiteSORT/yolo_tracking/hbai_scripts/DanceTrack-train_fixed_format/ocsort__input_1280__conf_.25__IoU_0.25/data/dancetrack0045.txt\n"
     ]
    },
    {
     "name": "stderr",
     "output_type": "stream",
     "text": [
      "Converting seq for ocsort:  45%|████▌     | 18/40 [00:00<00:00, 81.59file/s]"
     ]
    },
    {
     "name": "stdout",
     "output_type": "stream",
     "text": [
      "Data has been written to /media/hbai/data/code/LiteSORT/yolo_tracking/hbai_scripts/DanceTrack-train_fixed_format/ocsort__input_1280__conf_.25__IoU_0.25/data/dancetrack0057.txt\n",
      "Data has been written to /media/hbai/data/code/LiteSORT/yolo_tracking/hbai_scripts/DanceTrack-train_fixed_format/ocsort__input_1280__conf_.25__IoU_0.25/data/dancetrack0074.txt\n"
     ]
    },
    {
     "name": "stderr",
     "output_type": "stream",
     "text": [
      "Converting seq for ocsort: 100%|██████████| 40/40 [00:00<00:00, 95.93file/s]\n"
     ]
    },
    {
     "name": "stdout",
     "output_type": "stream",
     "text": [
      "Data has been written to /media/hbai/data/code/LiteSORT/yolo_tracking/hbai_scripts/DanceTrack-train_fixed_format/ocsort__input_1280__conf_.25__IoU_0.25/data/dancetrack0053.txt\n",
      "Data has been written to /media/hbai/data/code/LiteSORT/yolo_tracking/hbai_scripts/DanceTrack-train_fixed_format/ocsort__input_1280__conf_.25__IoU_0.25/data/dancetrack0086.txt\n",
      "Data has been written to /media/hbai/data/code/LiteSORT/yolo_tracking/hbai_scripts/DanceTrack-train_fixed_format/ocsort__input_1280__conf_.25__IoU_0.25/data/dancetrack0083.txt\n",
      "Data has been written to /media/hbai/data/code/LiteSORT/yolo_tracking/hbai_scripts/DanceTrack-train_fixed_format/ocsort__input_1280__conf_.25__IoU_0.25/data/dancetrack0027.txt\n",
      "Data has been written to /media/hbai/data/code/LiteSORT/yolo_tracking/hbai_scripts/DanceTrack-train_fixed_format/ocsort__input_1280__conf_.25__IoU_0.25/data/dancetrack0061.txt\n",
      "Data has been written to /media/hbai/data/code/LiteSORT/yolo_tracking/hbai_scripts/DanceTrack-train_fixed_format/ocsort__input_1280__conf_.25__IoU_0.25/data/dancetrack0068.txt\n",
      "Data has been written to /media/hbai/data/code/LiteSORT/yolo_tracking/hbai_scripts/DanceTrack-train_fixed_format/ocsort__input_1280__conf_.25__IoU_0.25/data/dancetrack0049.txt\n",
      "Data has been written to /media/hbai/data/code/LiteSORT/yolo_tracking/hbai_scripts/DanceTrack-train_fixed_format/ocsort__input_1280__conf_.25__IoU_0.25/data/dancetrack0037.txt\n",
      "Data has been written to /media/hbai/data/code/LiteSORT/yolo_tracking/hbai_scripts/DanceTrack-train_fixed_format/ocsort__input_1280__conf_.25__IoU_0.25/data/dancetrack0006.txt\n",
      "Data has been written to /media/hbai/data/code/LiteSORT/yolo_tracking/hbai_scripts/DanceTrack-train_fixed_format/ocsort__input_1280__conf_.25__IoU_0.25/data/dancetrack0032.txt\n",
      "Data has been written to /media/hbai/data/code/LiteSORT/yolo_tracking/hbai_scripts/DanceTrack-train_fixed_format/ocsort__input_1280__conf_.25__IoU_0.25/data/dancetrack0044.txt\n",
      "Data has been written to /media/hbai/data/code/LiteSORT/yolo_tracking/hbai_scripts/DanceTrack-train_fixed_format/ocsort__input_1280__conf_.25__IoU_0.25/data/dancetrack0008.txt\n",
      "Data has been written to /media/hbai/data/code/LiteSORT/yolo_tracking/hbai_scripts/DanceTrack-train_fixed_format/ocsort__input_1280__conf_.25__IoU_0.25/data/dancetrack0099.txt\n",
      "Data has been written to /media/hbai/data/code/LiteSORT/yolo_tracking/hbai_scripts/DanceTrack-train_fixed_format/ocsort__input_1280__conf_.25__IoU_0.25/data/dancetrack0002.txt\n",
      "Data has been written to /media/hbai/data/code/LiteSORT/yolo_tracking/hbai_scripts/DanceTrack-train_fixed_format/ocsort__input_1280__conf_.25__IoU_0.25/data/dancetrack0029.txt\n",
      "Data has been written to /media/hbai/data/code/LiteSORT/yolo_tracking/hbai_scripts/DanceTrack-train_fixed_format/ocsort__input_1280__conf_.25__IoU_0.25/data/dancetrack0069.txt\n",
      "Data has been written to /media/hbai/data/code/LiteSORT/yolo_tracking/hbai_scripts/DanceTrack-train_fixed_format/ocsort__input_1280__conf_.25__IoU_0.25/data/dancetrack0033.txt\n",
      "Data has been written to /media/hbai/data/code/LiteSORT/yolo_tracking/hbai_scripts/DanceTrack-train_fixed_format/ocsort__input_1280__conf_.25__IoU_0.25/data/dancetrack0024.txt\n",
      "Data has been written to /media/hbai/data/code/LiteSORT/yolo_tracking/hbai_scripts/DanceTrack-train_fixed_format/ocsort__input_1280__conf_.25__IoU_0.25/data/dancetrack0072.txt\n",
      "Data has been written to /media/hbai/data/code/LiteSORT/yolo_tracking/hbai_scripts/DanceTrack-train_fixed_format/ocsort__input_1280__conf_.25__IoU_0.25/data/dancetrack0015.txt\n"
     ]
    },
    {
     "name": "stderr",
     "output_type": "stream",
     "text": [
      "Converting seq for ocsort:   0%|          | 0/40 [00:00<?, ?file/s]"
     ]
    },
    {
     "name": "stdout",
     "output_type": "stream",
     "text": [
      "Data has been written to /media/hbai/data/code/LiteSORT/yolo_tracking/hbai_scripts/DanceTrack-train_fixed_format/ocsort__input_1280__conf_.25__IoU_0.3/data/dancetrack0023.txt\n"
     ]
    },
    {
     "name": "stderr",
     "output_type": "stream",
     "text": [
      "Converting seq for ocsort:  22%|██▎       | 9/40 [00:00<00:00, 84.85file/s]"
     ]
    },
    {
     "name": "stdout",
     "output_type": "stream",
     "text": [
      "Data has been written to /media/hbai/data/code/LiteSORT/yolo_tracking/hbai_scripts/DanceTrack-train_fixed_format/ocsort__input_1280__conf_.25__IoU_0.3/data/dancetrack0096.txt\n",
      "Data has been written to /media/hbai/data/code/LiteSORT/yolo_tracking/hbai_scripts/DanceTrack-train_fixed_format/ocsort__input_1280__conf_.25__IoU_0.3/data/dancetrack0062.txt\n",
      "Data has been written to /media/hbai/data/code/LiteSORT/yolo_tracking/hbai_scripts/DanceTrack-train_fixed_format/ocsort__input_1280__conf_.25__IoU_0.3/data/dancetrack0098.txt\n",
      "Data has been written to /media/hbai/data/code/LiteSORT/yolo_tracking/hbai_scripts/DanceTrack-train_fixed_format/ocsort__input_1280__conf_.25__IoU_0.3/data/dancetrack0051.txt\n",
      "Data has been written to /media/hbai/data/code/LiteSORT/yolo_tracking/hbai_scripts/DanceTrack-train_fixed_format/ocsort__input_1280__conf_.25__IoU_0.3/data/dancetrack0080.txt\n",
      "Data has been written to /media/hbai/data/code/LiteSORT/yolo_tracking/hbai_scripts/DanceTrack-train_fixed_format/ocsort__input_1280__conf_.25__IoU_0.3/data/dancetrack0052.txt\n",
      "Data has been written to /media/hbai/data/code/LiteSORT/yolo_tracking/hbai_scripts/DanceTrack-train_fixed_format/ocsort__input_1280__conf_.25__IoU_0.3/data/dancetrack0055.txt\n",
      "Data has been written to /media/hbai/data/code/LiteSORT/yolo_tracking/hbai_scripts/DanceTrack-train_fixed_format/ocsort__input_1280__conf_.25__IoU_0.3/data/dancetrack0066.txt\n",
      "Data has been written to /media/hbai/data/code/LiteSORT/yolo_tracking/hbai_scripts/DanceTrack-train_fixed_format/ocsort__input_1280__conf_.25__IoU_0.3/data/dancetrack0016.txt\n",
      "Data has been written to /media/hbai/data/code/LiteSORT/yolo_tracking/hbai_scripts/DanceTrack-train_fixed_format/ocsort__input_1280__conf_.25__IoU_0.3/data/dancetrack0087.txt\n",
      "Data has been written to /media/hbai/data/code/LiteSORT/yolo_tracking/hbai_scripts/DanceTrack-train_fixed_format/ocsort__input_1280__conf_.25__IoU_0.3/data/dancetrack0039.txt\n",
      "Data has been written to /media/hbai/data/code/LiteSORT/yolo_tracking/hbai_scripts/DanceTrack-train_fixed_format/ocsort__input_1280__conf_.25__IoU_0.3/data/dancetrack0020.txt\n",
      "Data has been written to /media/hbai/data/code/LiteSORT/yolo_tracking/hbai_scripts/DanceTrack-train_fixed_format/ocsort__input_1280__conf_.25__IoU_0.3/data/dancetrack0082.txt\n",
      "Data has been written to /media/hbai/data/code/LiteSORT/yolo_tracking/hbai_scripts/DanceTrack-train_fixed_format/ocsort__input_1280__conf_.25__IoU_0.3/data/dancetrack0012.txt\n",
      "Data has been written to /media/hbai/data/code/LiteSORT/yolo_tracking/hbai_scripts/DanceTrack-train_fixed_format/ocsort__input_1280__conf_.25__IoU_0.3/data/dancetrack0001.txt\n",
      "Data has been written to /media/hbai/data/code/LiteSORT/yolo_tracking/hbai_scripts/DanceTrack-train_fixed_format/ocsort__input_1280__conf_.25__IoU_0.3/data/dancetrack0075.txt\n"
     ]
    },
    {
     "name": "stderr",
     "output_type": "stream",
     "text": [
      "Converting seq for ocsort:  45%|████▌     | 18/40 [00:00<00:00, 79.42file/s]"
     ]
    },
    {
     "name": "stdout",
     "output_type": "stream",
     "text": [
      "Data has been written to /media/hbai/data/code/LiteSORT/yolo_tracking/hbai_scripts/DanceTrack-train_fixed_format/ocsort__input_1280__conf_.25__IoU_0.3/data/dancetrack0045.txt\n",
      "Data has been written to /media/hbai/data/code/LiteSORT/yolo_tracking/hbai_scripts/DanceTrack-train_fixed_format/ocsort__input_1280__conf_.25__IoU_0.3/data/dancetrack0057.txt\n",
      "Data has been written to /media/hbai/data/code/LiteSORT/yolo_tracking/hbai_scripts/DanceTrack-train_fixed_format/ocsort__input_1280__conf_.25__IoU_0.3/data/dancetrack0074.txt\n"
     ]
    },
    {
     "name": "stderr",
     "output_type": "stream",
     "text": [
      "Converting seq for ocsort:  72%|███████▎  | 29/40 [00:00<00:00, 91.56file/s]"
     ]
    },
    {
     "name": "stdout",
     "output_type": "stream",
     "text": [
      "Data has been written to /media/hbai/data/code/LiteSORT/yolo_tracking/hbai_scripts/DanceTrack-train_fixed_format/ocsort__input_1280__conf_.25__IoU_0.3/data/dancetrack0053.txt\n",
      "Data has been written to /media/hbai/data/code/LiteSORT/yolo_tracking/hbai_scripts/DanceTrack-train_fixed_format/ocsort__input_1280__conf_.25__IoU_0.3/data/dancetrack0086.txt\n",
      "Data has been written to /media/hbai/data/code/LiteSORT/yolo_tracking/hbai_scripts/DanceTrack-train_fixed_format/ocsort__input_1280__conf_.25__IoU_0.3/data/dancetrack0083.txt\n",
      "Data has been written to /media/hbai/data/code/LiteSORT/yolo_tracking/hbai_scripts/DanceTrack-train_fixed_format/ocsort__input_1280__conf_.25__IoU_0.3/data/dancetrack0027.txt\n",
      "Data has been written to /media/hbai/data/code/LiteSORT/yolo_tracking/hbai_scripts/DanceTrack-train_fixed_format/ocsort__input_1280__conf_.25__IoU_0.3/data/dancetrack0061.txt\n",
      "Data has been written to /media/hbai/data/code/LiteSORT/yolo_tracking/hbai_scripts/DanceTrack-train_fixed_format/ocsort__input_1280__conf_.25__IoU_0.3/data/dancetrack0068.txt\n",
      "Data has been written to /media/hbai/data/code/LiteSORT/yolo_tracking/hbai_scripts/DanceTrack-train_fixed_format/ocsort__input_1280__conf_.25__IoU_0.3/data/dancetrack0049.txt\n",
      "Data has been written to /media/hbai/data/code/LiteSORT/yolo_tracking/hbai_scripts/DanceTrack-train_fixed_format/ocsort__input_1280__conf_.25__IoU_0.3/data/dancetrack0037.txt\n",
      "Data has been written to /media/hbai/data/code/LiteSORT/yolo_tracking/hbai_scripts/DanceTrack-train_fixed_format/ocsort__input_1280__conf_.25__IoU_0.3/data/dancetrack0006.txt\n",
      "Data has been written to /media/hbai/data/code/LiteSORT/yolo_tracking/hbai_scripts/DanceTrack-train_fixed_format/ocsort__input_1280__conf_.25__IoU_0.3/data/dancetrack0032.txt\n",
      "Data has been written to /media/hbai/data/code/LiteSORT/yolo_tracking/hbai_scripts/DanceTrack-train_fixed_format/ocsort__input_1280__conf_.25__IoU_0.3/data/dancetrack0044.txt\n",
      "Data has been written to /media/hbai/data/code/LiteSORT/yolo_tracking/hbai_scripts/DanceTrack-train_fixed_format/ocsort__input_1280__conf_.25__IoU_0.3/data/dancetrack0008.txt\n",
      "Data has been written to /media/hbai/data/code/LiteSORT/yolo_tracking/hbai_scripts/DanceTrack-train_fixed_format/ocsort__input_1280__conf_.25__IoU_0.3/data/dancetrack0099.txt\n",
      "Data has been written to /media/hbai/data/code/LiteSORT/yolo_tracking/hbai_scripts/DanceTrack-train_fixed_format/ocsort__input_1280__conf_.25__IoU_0.3/data/dancetrack0002.txt\n",
      "Data has been written to /media/hbai/data/code/LiteSORT/yolo_tracking/hbai_scripts/DanceTrack-train_fixed_format/ocsort__input_1280__conf_.25__IoU_0.3/data/dancetrack0029.txt\n",
      "Data has been written to /media/hbai/data/code/LiteSORT/yolo_tracking/hbai_scripts/DanceTrack-train_fixed_format/ocsort__input_1280__conf_.25__IoU_0.3/data/dancetrack0069.txt\n",
      "Data has been written to /media/hbai/data/code/LiteSORT/yolo_tracking/hbai_scripts/DanceTrack-train_fixed_format/ocsort__input_1280__conf_.25__IoU_0.3/data/dancetrack0033.txt\n",
      "Data has been written to /media/hbai/data/code/LiteSORT/yolo_tracking/hbai_scripts/DanceTrack-train_fixed_format/ocsort__input_1280__conf_.25__IoU_0.3/data/dancetrack0024.txt\n",
      "Data has been written to /media/hbai/data/code/LiteSORT/yolo_tracking/hbai_scripts/DanceTrack-train_fixed_format/ocsort__input_1280__conf_.25__IoU_0.3/data/dancetrack0072.txt\n"
     ]
    },
    {
     "name": "stderr",
     "output_type": "stream",
     "text": [
      "Converting seq for ocsort: 100%|██████████| 40/40 [00:00<00:00, 93.24file/s]\n"
     ]
    },
    {
     "name": "stdout",
     "output_type": "stream",
     "text": [
      "Data has been written to /media/hbai/data/code/LiteSORT/yolo_tracking/hbai_scripts/DanceTrack-train_fixed_format/ocsort__input_1280__conf_.25__IoU_0.3/data/dancetrack0015.txt\n"
     ]
    },
    {
     "name": "stderr",
     "output_type": "stream",
     "text": [
      "Converting seq for ocsort:  22%|██▎       | 9/40 [00:00<00:00, 84.04file/s]"
     ]
    },
    {
     "name": "stdout",
     "output_type": "stream",
     "text": [
      "Data has been written to /media/hbai/data/code/LiteSORT/yolo_tracking/hbai_scripts/DanceTrack-train_fixed_format/ocsort__input_1280__conf_.25__IoU_0.35/data/dancetrack0023.txt\n",
      "Data has been written to /media/hbai/data/code/LiteSORT/yolo_tracking/hbai_scripts/DanceTrack-train_fixed_format/ocsort__input_1280__conf_.25__IoU_0.35/data/dancetrack0096.txt\n",
      "Data has been written to /media/hbai/data/code/LiteSORT/yolo_tracking/hbai_scripts/DanceTrack-train_fixed_format/ocsort__input_1280__conf_.25__IoU_0.35/data/dancetrack0062.txt\n",
      "Data has been written to /media/hbai/data/code/LiteSORT/yolo_tracking/hbai_scripts/DanceTrack-train_fixed_format/ocsort__input_1280__conf_.25__IoU_0.35/data/dancetrack0098.txt\n",
      "Data has been written to /media/hbai/data/code/LiteSORT/yolo_tracking/hbai_scripts/DanceTrack-train_fixed_format/ocsort__input_1280__conf_.25__IoU_0.35/data/dancetrack0051.txt\n",
      "Data has been written to /media/hbai/data/code/LiteSORT/yolo_tracking/hbai_scripts/DanceTrack-train_fixed_format/ocsort__input_1280__conf_.25__IoU_0.35/data/dancetrack0080.txt\n",
      "Data has been written to /media/hbai/data/code/LiteSORT/yolo_tracking/hbai_scripts/DanceTrack-train_fixed_format/ocsort__input_1280__conf_.25__IoU_0.35/data/dancetrack0052.txt\n",
      "Data has been written to /media/hbai/data/code/LiteSORT/yolo_tracking/hbai_scripts/DanceTrack-train_fixed_format/ocsort__input_1280__conf_.25__IoU_0.35/data/dancetrack0055.txt\n",
      "Data has been written to /media/hbai/data/code/LiteSORT/yolo_tracking/hbai_scripts/DanceTrack-train_fixed_format/ocsort__input_1280__conf_.25__IoU_0.35/data/dancetrack0066.txt\n",
      "Data has been written to /media/hbai/data/code/LiteSORT/yolo_tracking/hbai_scripts/DanceTrack-train_fixed_format/ocsort__input_1280__conf_.25__IoU_0.35/data/dancetrack0016.txt\n",
      "Data has been written to /media/hbai/data/code/LiteSORT/yolo_tracking/hbai_scripts/DanceTrack-train_fixed_format/ocsort__input_1280__conf_.25__IoU_0.35/data/dancetrack0087.txt\n",
      "Data has been written to /media/hbai/data/code/LiteSORT/yolo_tracking/hbai_scripts/DanceTrack-train_fixed_format/ocsort__input_1280__conf_.25__IoU_0.35/data/dancetrack0039.txt\n",
      "Data has been written to /media/hbai/data/code/LiteSORT/yolo_tracking/hbai_scripts/DanceTrack-train_fixed_format/ocsort__input_1280__conf_.25__IoU_0.35/data/dancetrack0020.txt\n",
      "Data has been written to /media/hbai/data/code/LiteSORT/yolo_tracking/hbai_scripts/DanceTrack-train_fixed_format/ocsort__input_1280__conf_.25__IoU_0.35/data/dancetrack0082.txt\n",
      "Data has been written to /media/hbai/data/code/LiteSORT/yolo_tracking/hbai_scripts/DanceTrack-train_fixed_format/ocsort__input_1280__conf_.25__IoU_0.35/data/dancetrack0012.txt\n",
      "Data has been written to /media/hbai/data/code/LiteSORT/yolo_tracking/hbai_scripts/DanceTrack-train_fixed_format/ocsort__input_1280__conf_.25__IoU_0.35/data/dancetrack0001.txt\n",
      "Data has been written to /media/hbai/data/code/LiteSORT/yolo_tracking/hbai_scripts/DanceTrack-train_fixed_format/ocsort__input_1280__conf_.25__IoU_0.35/data/dancetrack0075.txt\n"
     ]
    },
    {
     "name": "stderr",
     "output_type": "stream",
     "text": [
      "Converting seq for ocsort:  72%|███████▎  | 29/40 [00:00<00:00, 89.02file/s]"
     ]
    },
    {
     "name": "stdout",
     "output_type": "stream",
     "text": [
      "Data has been written to /media/hbai/data/code/LiteSORT/yolo_tracking/hbai_scripts/DanceTrack-train_fixed_format/ocsort__input_1280__conf_.25__IoU_0.35/data/dancetrack0045.txt\n",
      "Data has been written to /media/hbai/data/code/LiteSORT/yolo_tracking/hbai_scripts/DanceTrack-train_fixed_format/ocsort__input_1280__conf_.25__IoU_0.35/data/dancetrack0057.txt\n",
      "Data has been written to /media/hbai/data/code/LiteSORT/yolo_tracking/hbai_scripts/DanceTrack-train_fixed_format/ocsort__input_1280__conf_.25__IoU_0.35/data/dancetrack0074.txt\n",
      "Data has been written to /media/hbai/data/code/LiteSORT/yolo_tracking/hbai_scripts/DanceTrack-train_fixed_format/ocsort__input_1280__conf_.25__IoU_0.35/data/dancetrack0053.txt\n",
      "Data has been written to /media/hbai/data/code/LiteSORT/yolo_tracking/hbai_scripts/DanceTrack-train_fixed_format/ocsort__input_1280__conf_.25__IoU_0.35/data/dancetrack0086.txt\n",
      "Data has been written to /media/hbai/data/code/LiteSORT/yolo_tracking/hbai_scripts/DanceTrack-train_fixed_format/ocsort__input_1280__conf_.25__IoU_0.35/data/dancetrack0083.txt\n",
      "Data has been written to /media/hbai/data/code/LiteSORT/yolo_tracking/hbai_scripts/DanceTrack-train_fixed_format/ocsort__input_1280__conf_.25__IoU_0.35/data/dancetrack0027.txt\n",
      "Data has been written to /media/hbai/data/code/LiteSORT/yolo_tracking/hbai_scripts/DanceTrack-train_fixed_format/ocsort__input_1280__conf_.25__IoU_0.35/data/dancetrack0061.txt\n",
      "Data has been written to /media/hbai/data/code/LiteSORT/yolo_tracking/hbai_scripts/DanceTrack-train_fixed_format/ocsort__input_1280__conf_.25__IoU_0.35/data/dancetrack0068.txt\n",
      "Data has been written to /media/hbai/data/code/LiteSORT/yolo_tracking/hbai_scripts/DanceTrack-train_fixed_format/ocsort__input_1280__conf_.25__IoU_0.35/data/dancetrack0049.txt\n",
      "Data has been written to /media/hbai/data/code/LiteSORT/yolo_tracking/hbai_scripts/DanceTrack-train_fixed_format/ocsort__input_1280__conf_.25__IoU_0.35/data/dancetrack0037.txt\n",
      "Data has been written to /media/hbai/data/code/LiteSORT/yolo_tracking/hbai_scripts/DanceTrack-train_fixed_format/ocsort__input_1280__conf_.25__IoU_0.35/data/dancetrack0006.txt\n",
      "Data has been written to /media/hbai/data/code/LiteSORT/yolo_tracking/hbai_scripts/DanceTrack-train_fixed_format/ocsort__input_1280__conf_.25__IoU_0.35/data/dancetrack0032.txt\n",
      "Data has been written to /media/hbai/data/code/LiteSORT/yolo_tracking/hbai_scripts/DanceTrack-train_fixed_format/ocsort__input_1280__conf_.25__IoU_0.35/data/dancetrack0044.txt\n",
      "Data has been written to /media/hbai/data/code/LiteSORT/yolo_tracking/hbai_scripts/DanceTrack-train_fixed_format/ocsort__input_1280__conf_.25__IoU_0.35/data/dancetrack0008.txt\n",
      "Data has been written to /media/hbai/data/code/LiteSORT/yolo_tracking/hbai_scripts/DanceTrack-train_fixed_format/ocsort__input_1280__conf_.25__IoU_0.35/data/dancetrack0099.txt\n",
      "Data has been written to /media/hbai/data/code/LiteSORT/yolo_tracking/hbai_scripts/DanceTrack-train_fixed_format/ocsort__input_1280__conf_.25__IoU_0.35/data/dancetrack0002.txt\n",
      "Data has been written to /media/hbai/data/code/LiteSORT/yolo_tracking/hbai_scripts/DanceTrack-train_fixed_format/ocsort__input_1280__conf_.25__IoU_0.35/data/dancetrack0029.txt\n",
      "Data has been written to /media/hbai/data/code/LiteSORT/yolo_tracking/hbai_scripts/DanceTrack-train_fixed_format/ocsort__input_1280__conf_.25__IoU_0.35/data/dancetrack0069.txt\n",
      "Data has been written to /media/hbai/data/code/LiteSORT/yolo_tracking/hbai_scripts/DanceTrack-train_fixed_format/ocsort__input_1280__conf_.25__IoU_0.35/data/dancetrack0033.txt\n",
      "Data has been written to /media/hbai/data/code/LiteSORT/yolo_tracking/hbai_scripts/DanceTrack-train_fixed_format/ocsort__input_1280__conf_.25__IoU_0.35/data/dancetrack0024.txt\n",
      "Data has been written to /media/hbai/data/code/LiteSORT/yolo_tracking/hbai_scripts/DanceTrack-train_fixed_format/ocsort__input_1280__conf_.25__IoU_0.35/data/dancetrack0072.txt\n"
     ]
    },
    {
     "name": "stderr",
     "output_type": "stream",
     "text": [
      "Converting seq for ocsort: 100%|██████████| 40/40 [00:00<00:00, 90.72file/s]\n"
     ]
    },
    {
     "name": "stdout",
     "output_type": "stream",
     "text": [
      "Data has been written to /media/hbai/data/code/LiteSORT/yolo_tracking/hbai_scripts/DanceTrack-train_fixed_format/ocsort__input_1280__conf_.25__IoU_0.35/data/dancetrack0015.txt\n"
     ]
    },
    {
     "name": "stderr",
     "output_type": "stream",
     "text": [
      "Converting seq for ocsort:  20%|██        | 8/40 [00:00<00:00, 79.02file/s]"
     ]
    },
    {
     "name": "stdout",
     "output_type": "stream",
     "text": [
      "Data has been written to /media/hbai/data/code/LiteSORT/yolo_tracking/hbai_scripts/DanceTrack-train_fixed_format/ocsort__input_1280__conf_.25__IoU_0.4/data/dancetrack0023.txt\n",
      "Data has been written to /media/hbai/data/code/LiteSORT/yolo_tracking/hbai_scripts/DanceTrack-train_fixed_format/ocsort__input_1280__conf_.25__IoU_0.4/data/dancetrack0096.txt\n",
      "Data has been written to /media/hbai/data/code/LiteSORT/yolo_tracking/hbai_scripts/DanceTrack-train_fixed_format/ocsort__input_1280__conf_.25__IoU_0.4/data/dancetrack0062.txt\n",
      "Data has been written to /media/hbai/data/code/LiteSORT/yolo_tracking/hbai_scripts/DanceTrack-train_fixed_format/ocsort__input_1280__conf_.25__IoU_0.4/data/dancetrack0098.txt\n",
      "Data has been written to /media/hbai/data/code/LiteSORT/yolo_tracking/hbai_scripts/DanceTrack-train_fixed_format/ocsort__input_1280__conf_.25__IoU_0.4/data/dancetrack0051.txt\n",
      "Data has been written to /media/hbai/data/code/LiteSORT/yolo_tracking/hbai_scripts/DanceTrack-train_fixed_format/ocsort__input_1280__conf_.25__IoU_0.4/data/dancetrack0080.txt\n",
      "Data has been written to /media/hbai/data/code/LiteSORT/yolo_tracking/hbai_scripts/DanceTrack-train_fixed_format/ocsort__input_1280__conf_.25__IoU_0.4/data/dancetrack0052.txt\n",
      "Data has been written to /media/hbai/data/code/LiteSORT/yolo_tracking/hbai_scripts/DanceTrack-train_fixed_format/ocsort__input_1280__conf_.25__IoU_0.4/data/dancetrack0055.txt\n",
      "Data has been written to /media/hbai/data/code/LiteSORT/yolo_tracking/hbai_scripts/DanceTrack-train_fixed_format/ocsort__input_1280__conf_.25__IoU_0.4/data/dancetrack0066.txt\n",
      "Data has been written to /media/hbai/data/code/LiteSORT/yolo_tracking/hbai_scripts/DanceTrack-train_fixed_format/ocsort__input_1280__conf_.25__IoU_0.4/data/dancetrack0016.txt\n",
      "Data has been written to /media/hbai/data/code/LiteSORT/yolo_tracking/hbai_scripts/DanceTrack-train_fixed_format/ocsort__input_1280__conf_.25__IoU_0.4/data/dancetrack0087.txt\n",
      "Data has been written to /media/hbai/data/code/LiteSORT/yolo_tracking/hbai_scripts/DanceTrack-train_fixed_format/ocsort__input_1280__conf_.25__IoU_0.4/data/dancetrack0039.txt\n",
      "Data has been written to /media/hbai/data/code/LiteSORT/yolo_tracking/hbai_scripts/DanceTrack-train_fixed_format/ocsort__input_1280__conf_.25__IoU_0.4/data/dancetrack0020.txt\n",
      "Data has been written to /media/hbai/data/code/LiteSORT/yolo_tracking/hbai_scripts/DanceTrack-train_fixed_format/ocsort__input_1280__conf_.25__IoU_0.4/data/dancetrack0082.txt\n",
      "Data has been written to /media/hbai/data/code/LiteSORT/yolo_tracking/hbai_scripts/DanceTrack-train_fixed_format/ocsort__input_1280__conf_.25__IoU_0.4/data/dancetrack0012.txt\n"
     ]
    },
    {
     "name": "stderr",
     "output_type": "stream",
     "text": [
      "Converting seq for ocsort:  40%|████      | 16/40 [00:00<00:00, 75.84file/s]"
     ]
    },
    {
     "name": "stdout",
     "output_type": "stream",
     "text": [
      "Data has been written to /media/hbai/data/code/LiteSORT/yolo_tracking/hbai_scripts/DanceTrack-train_fixed_format/ocsort__input_1280__conf_.25__IoU_0.4/data/dancetrack0001.txt\n",
      "Data has been written to /media/hbai/data/code/LiteSORT/yolo_tracking/hbai_scripts/DanceTrack-train_fixed_format/ocsort__input_1280__conf_.25__IoU_0.4/data/dancetrack0075.txt\n"
     ]
    },
    {
     "name": "stderr",
     "output_type": "stream",
     "text": [
      "Converting seq for ocsort:  68%|██████▊   | 27/40 [00:00<00:00, 87.80file/s]"
     ]
    },
    {
     "name": "stdout",
     "output_type": "stream",
     "text": [
      "Data has been written to /media/hbai/data/code/LiteSORT/yolo_tracking/hbai_scripts/DanceTrack-train_fixed_format/ocsort__input_1280__conf_.25__IoU_0.4/data/dancetrack0045.txt\n",
      "Data has been written to /media/hbai/data/code/LiteSORT/yolo_tracking/hbai_scripts/DanceTrack-train_fixed_format/ocsort__input_1280__conf_.25__IoU_0.4/data/dancetrack0057.txt\n",
      "Data has been written to /media/hbai/data/code/LiteSORT/yolo_tracking/hbai_scripts/DanceTrack-train_fixed_format/ocsort__input_1280__conf_.25__IoU_0.4/data/dancetrack0074.txt\n",
      "Data has been written to /media/hbai/data/code/LiteSORT/yolo_tracking/hbai_scripts/DanceTrack-train_fixed_format/ocsort__input_1280__conf_.25__IoU_0.4/data/dancetrack0053.txt\n",
      "Data has been written to /media/hbai/data/code/LiteSORT/yolo_tracking/hbai_scripts/DanceTrack-train_fixed_format/ocsort__input_1280__conf_.25__IoU_0.4/data/dancetrack0086.txt\n",
      "Data has been written to /media/hbai/data/code/LiteSORT/yolo_tracking/hbai_scripts/DanceTrack-train_fixed_format/ocsort__input_1280__conf_.25__IoU_0.4/data/dancetrack0083.txt\n",
      "Data has been written to /media/hbai/data/code/LiteSORT/yolo_tracking/hbai_scripts/DanceTrack-train_fixed_format/ocsort__input_1280__conf_.25__IoU_0.4/data/dancetrack0027.txt\n",
      "Data has been written to /media/hbai/data/code/LiteSORT/yolo_tracking/hbai_scripts/DanceTrack-train_fixed_format/ocsort__input_1280__conf_.25__IoU_0.4/data/dancetrack0061.txt\n",
      "Data has been written to /media/hbai/data/code/LiteSORT/yolo_tracking/hbai_scripts/DanceTrack-train_fixed_format/ocsort__input_1280__conf_.25__IoU_0.4/data/dancetrack0068.txt\n",
      "Data has been written to /media/hbai/data/code/LiteSORT/yolo_tracking/hbai_scripts/DanceTrack-train_fixed_format/ocsort__input_1280__conf_.25__IoU_0.4/data/dancetrack0049.txt\n",
      "Data has been written to /media/hbai/data/code/LiteSORT/yolo_tracking/hbai_scripts/DanceTrack-train_fixed_format/ocsort__input_1280__conf_.25__IoU_0.4/data/dancetrack0037.txt\n",
      "Data has been written to /media/hbai/data/code/LiteSORT/yolo_tracking/hbai_scripts/DanceTrack-train_fixed_format/ocsort__input_1280__conf_.25__IoU_0.4/data/dancetrack0006.txt\n",
      "Data has been written to /media/hbai/data/code/LiteSORT/yolo_tracking/hbai_scripts/DanceTrack-train_fixed_format/ocsort__input_1280__conf_.25__IoU_0.4/data/dancetrack0032.txt\n",
      "Data has been written to /media/hbai/data/code/LiteSORT/yolo_tracking/hbai_scripts/DanceTrack-train_fixed_format/ocsort__input_1280__conf_.25__IoU_0.4/data/dancetrack0044.txt\n",
      "Data has been written to /media/hbai/data/code/LiteSORT/yolo_tracking/hbai_scripts/DanceTrack-train_fixed_format/ocsort__input_1280__conf_.25__IoU_0.4/data/dancetrack0008.txt\n",
      "Data has been written to /media/hbai/data/code/LiteSORT/yolo_tracking/hbai_scripts/DanceTrack-train_fixed_format/ocsort__input_1280__conf_.25__IoU_0.4/data/dancetrack0099.txt\n",
      "Data has been written to /media/hbai/data/code/LiteSORT/yolo_tracking/hbai_scripts/DanceTrack-train_fixed_format/ocsort__input_1280__conf_.25__IoU_0.4/data/dancetrack0002.txt\n",
      "Data has been written to /media/hbai/data/code/LiteSORT/yolo_tracking/hbai_scripts/DanceTrack-train_fixed_format/ocsort__input_1280__conf_.25__IoU_0.4/data/dancetrack0029.txt\n"
     ]
    },
    {
     "name": "stderr",
     "output_type": "stream",
     "text": [
      "Converting seq for ocsort:  92%|█████████▎| 37/40 [00:00<00:00, 91.30file/s]"
     ]
    },
    {
     "name": "stdout",
     "output_type": "stream",
     "text": [
      "Data has been written to /media/hbai/data/code/LiteSORT/yolo_tracking/hbai_scripts/DanceTrack-train_fixed_format/ocsort__input_1280__conf_.25__IoU_0.4/data/dancetrack0069.txt\n",
      "Data has been written to /media/hbai/data/code/LiteSORT/yolo_tracking/hbai_scripts/DanceTrack-train_fixed_format/ocsort__input_1280__conf_.25__IoU_0.4/data/dancetrack0033.txt\n",
      "Data has been written to /media/hbai/data/code/LiteSORT/yolo_tracking/hbai_scripts/DanceTrack-train_fixed_format/ocsort__input_1280__conf_.25__IoU_0.4/data/dancetrack0024.txt\n"
     ]
    },
    {
     "name": "stderr",
     "output_type": "stream",
     "text": [
      "Converting seq for ocsort: 100%|██████████| 40/40 [00:00<00:00, 88.22file/s]\n"
     ]
    },
    {
     "name": "stdout",
     "output_type": "stream",
     "text": [
      "Data has been written to /media/hbai/data/code/LiteSORT/yolo_tracking/hbai_scripts/DanceTrack-train_fixed_format/ocsort__input_1280__conf_.25__IoU_0.4/data/dancetrack0072.txt\n",
      "Data has been written to /media/hbai/data/code/LiteSORT/yolo_tracking/hbai_scripts/DanceTrack-train_fixed_format/ocsort__input_1280__conf_.25__IoU_0.4/data/dancetrack0015.txt\n"
     ]
    },
    {
     "name": "stderr",
     "output_type": "stream",
     "text": [
      "Converting seq for ocsort:  20%|██        | 8/40 [00:00<00:00, 79.10file/s]"
     ]
    },
    {
     "name": "stdout",
     "output_type": "stream",
     "text": [
      "Data has been written to /media/hbai/data/code/LiteSORT/yolo_tracking/hbai_scripts/DanceTrack-train_fixed_format/ocsort__input_1280__conf_.25__IoU_0.45/data/dancetrack0023.txt\n",
      "Data has been written to /media/hbai/data/code/LiteSORT/yolo_tracking/hbai_scripts/DanceTrack-train_fixed_format/ocsort__input_1280__conf_.25__IoU_0.45/data/dancetrack0096.txt\n",
      "Data has been written to /media/hbai/data/code/LiteSORT/yolo_tracking/hbai_scripts/DanceTrack-train_fixed_format/ocsort__input_1280__conf_.25__IoU_0.45/data/dancetrack0062.txt\n",
      "Data has been written to /media/hbai/data/code/LiteSORT/yolo_tracking/hbai_scripts/DanceTrack-train_fixed_format/ocsort__input_1280__conf_.25__IoU_0.45/data/dancetrack0098.txt\n",
      "Data has been written to /media/hbai/data/code/LiteSORT/yolo_tracking/hbai_scripts/DanceTrack-train_fixed_format/ocsort__input_1280__conf_.25__IoU_0.45/data/dancetrack0051.txt\n",
      "Data has been written to /media/hbai/data/code/LiteSORT/yolo_tracking/hbai_scripts/DanceTrack-train_fixed_format/ocsort__input_1280__conf_.25__IoU_0.45/data/dancetrack0080.txt\n",
      "Data has been written to /media/hbai/data/code/LiteSORT/yolo_tracking/hbai_scripts/DanceTrack-train_fixed_format/ocsort__input_1280__conf_.25__IoU_0.45/data/dancetrack0052.txt\n",
      "Data has been written to /media/hbai/data/code/LiteSORT/yolo_tracking/hbai_scripts/DanceTrack-train_fixed_format/ocsort__input_1280__conf_.25__IoU_0.45/data/dancetrack0055.txt\n",
      "Data has been written to /media/hbai/data/code/LiteSORT/yolo_tracking/hbai_scripts/DanceTrack-train_fixed_format/ocsort__input_1280__conf_.25__IoU_0.45/data/dancetrack0066.txt\n",
      "Data has been written to /media/hbai/data/code/LiteSORT/yolo_tracking/hbai_scripts/DanceTrack-train_fixed_format/ocsort__input_1280__conf_.25__IoU_0.45/data/dancetrack0016.txt\n",
      "Data has been written to /media/hbai/data/code/LiteSORT/yolo_tracking/hbai_scripts/DanceTrack-train_fixed_format/ocsort__input_1280__conf_.25__IoU_0.45/data/dancetrack0087.txt\n",
      "Data has been written to /media/hbai/data/code/LiteSORT/yolo_tracking/hbai_scripts/DanceTrack-train_fixed_format/ocsort__input_1280__conf_.25__IoU_0.45/data/dancetrack0039.txt\n",
      "Data has been written to /media/hbai/data/code/LiteSORT/yolo_tracking/hbai_scripts/DanceTrack-train_fixed_format/ocsort__input_1280__conf_.25__IoU_0.45/data/dancetrack0020.txt\n"
     ]
    },
    {
     "name": "stderr",
     "output_type": "stream",
     "text": [
      "Converting seq for ocsort:  40%|████      | 16/40 [00:00<00:00, 74.84file/s]"
     ]
    },
    {
     "name": "stdout",
     "output_type": "stream",
     "text": [
      "Data has been written to /media/hbai/data/code/LiteSORT/yolo_tracking/hbai_scripts/DanceTrack-train_fixed_format/ocsort__input_1280__conf_.25__IoU_0.45/data/dancetrack0082.txt\n",
      "Data has been written to /media/hbai/data/code/LiteSORT/yolo_tracking/hbai_scripts/DanceTrack-train_fixed_format/ocsort__input_1280__conf_.25__IoU_0.45/data/dancetrack0012.txt\n",
      "Data has been written to /media/hbai/data/code/LiteSORT/yolo_tracking/hbai_scripts/DanceTrack-train_fixed_format/ocsort__input_1280__conf_.25__IoU_0.45/data/dancetrack0001.txt\n"
     ]
    },
    {
     "name": "stderr",
     "output_type": "stream",
     "text": [
      "Converting seq for ocsort:  68%|██████▊   | 27/40 [00:00<00:00, 87.01file/s]"
     ]
    },
    {
     "name": "stdout",
     "output_type": "stream",
     "text": [
      "Data has been written to /media/hbai/data/code/LiteSORT/yolo_tracking/hbai_scripts/DanceTrack-train_fixed_format/ocsort__input_1280__conf_.25__IoU_0.45/data/dancetrack0075.txt\n",
      "Data has been written to /media/hbai/data/code/LiteSORT/yolo_tracking/hbai_scripts/DanceTrack-train_fixed_format/ocsort__input_1280__conf_.25__IoU_0.45/data/dancetrack0045.txt\n",
      "Data has been written to /media/hbai/data/code/LiteSORT/yolo_tracking/hbai_scripts/DanceTrack-train_fixed_format/ocsort__input_1280__conf_.25__IoU_0.45/data/dancetrack0057.txt\n",
      "Data has been written to /media/hbai/data/code/LiteSORT/yolo_tracking/hbai_scripts/DanceTrack-train_fixed_format/ocsort__input_1280__conf_.25__IoU_0.45/data/dancetrack0074.txt\n",
      "Data has been written to /media/hbai/data/code/LiteSORT/yolo_tracking/hbai_scripts/DanceTrack-train_fixed_format/ocsort__input_1280__conf_.25__IoU_0.45/data/dancetrack0053.txt\n",
      "Data has been written to /media/hbai/data/code/LiteSORT/yolo_tracking/hbai_scripts/DanceTrack-train_fixed_format/ocsort__input_1280__conf_.25__IoU_0.45/data/dancetrack0086.txt\n",
      "Data has been written to /media/hbai/data/code/LiteSORT/yolo_tracking/hbai_scripts/DanceTrack-train_fixed_format/ocsort__input_1280__conf_.25__IoU_0.45/data/dancetrack0083.txt\n",
      "Data has been written to /media/hbai/data/code/LiteSORT/yolo_tracking/hbai_scripts/DanceTrack-train_fixed_format/ocsort__input_1280__conf_.25__IoU_0.45/data/dancetrack0027.txt\n",
      "Data has been written to /media/hbai/data/code/LiteSORT/yolo_tracking/hbai_scripts/DanceTrack-train_fixed_format/ocsort__input_1280__conf_.25__IoU_0.45/data/dancetrack0061.txt\n",
      "Data has been written to /media/hbai/data/code/LiteSORT/yolo_tracking/hbai_scripts/DanceTrack-train_fixed_format/ocsort__input_1280__conf_.25__IoU_0.45/data/dancetrack0068.txt\n",
      "Data has been written to /media/hbai/data/code/LiteSORT/yolo_tracking/hbai_scripts/DanceTrack-train_fixed_format/ocsort__input_1280__conf_.25__IoU_0.45/data/dancetrack0049.txt\n",
      "Data has been written to /media/hbai/data/code/LiteSORT/yolo_tracking/hbai_scripts/DanceTrack-train_fixed_format/ocsort__input_1280__conf_.25__IoU_0.45/data/dancetrack0037.txt\n",
      "Data has been written to /media/hbai/data/code/LiteSORT/yolo_tracking/hbai_scripts/DanceTrack-train_fixed_format/ocsort__input_1280__conf_.25__IoU_0.45/data/dancetrack0006.txt\n",
      "Data has been written to /media/hbai/data/code/LiteSORT/yolo_tracking/hbai_scripts/DanceTrack-train_fixed_format/ocsort__input_1280__conf_.25__IoU_0.45/data/dancetrack0032.txt\n",
      "Data has been written to /media/hbai/data/code/LiteSORT/yolo_tracking/hbai_scripts/DanceTrack-train_fixed_format/ocsort__input_1280__conf_.25__IoU_0.45/data/dancetrack0044.txt\n",
      "Data has been written to /media/hbai/data/code/LiteSORT/yolo_tracking/hbai_scripts/DanceTrack-train_fixed_format/ocsort__input_1280__conf_.25__IoU_0.45/data/dancetrack0008.txt\n",
      "Data has been written to /media/hbai/data/code/LiteSORT/yolo_tracking/hbai_scripts/DanceTrack-train_fixed_format/ocsort__input_1280__conf_.25__IoU_0.45/data/dancetrack0099.txt\n",
      "Data has been written to /media/hbai/data/code/LiteSORT/yolo_tracking/hbai_scripts/DanceTrack-train_fixed_format/ocsort__input_1280__conf_.25__IoU_0.45/data/dancetrack0002.txt\n",
      "Data has been written to /media/hbai/data/code/LiteSORT/yolo_tracking/hbai_scripts/DanceTrack-train_fixed_format/ocsort__input_1280__conf_.25__IoU_0.45/data/dancetrack0029.txt\n",
      "Data has been written to /media/hbai/data/code/LiteSORT/yolo_tracking/hbai_scripts/DanceTrack-train_fixed_format/ocsort__input_1280__conf_.25__IoU_0.45/data/dancetrack0069.txt\n"
     ]
    },
    {
     "name": "stderr",
     "output_type": "stream",
     "text": [
      "Converting seq for ocsort: 100%|██████████| 40/40 [00:00<00:00, 87.39file/s]\n"
     ]
    },
    {
     "name": "stdout",
     "output_type": "stream",
     "text": [
      "Data has been written to /media/hbai/data/code/LiteSORT/yolo_tracking/hbai_scripts/DanceTrack-train_fixed_format/ocsort__input_1280__conf_.25__IoU_0.45/data/dancetrack0033.txt\n",
      "Data has been written to /media/hbai/data/code/LiteSORT/yolo_tracking/hbai_scripts/DanceTrack-train_fixed_format/ocsort__input_1280__conf_.25__IoU_0.45/data/dancetrack0024.txt\n",
      "Data has been written to /media/hbai/data/code/LiteSORT/yolo_tracking/hbai_scripts/DanceTrack-train_fixed_format/ocsort__input_1280__conf_.25__IoU_0.45/data/dancetrack0072.txt\n",
      "Data has been written to /media/hbai/data/code/LiteSORT/yolo_tracking/hbai_scripts/DanceTrack-train_fixed_format/ocsort__input_1280__conf_.25__IoU_0.45/data/dancetrack0015.txt\n"
     ]
    },
    {
     "name": "stderr",
     "output_type": "stream",
     "text": [
      "Converting seq for ocsort:   0%|          | 0/40 [00:00<?, ?file/s]"
     ]
    },
    {
     "name": "stdout",
     "output_type": "stream",
     "text": [
      "Data has been written to /media/hbai/data/code/LiteSORT/yolo_tracking/hbai_scripts/DanceTrack-train_fixed_format/ocsort__input_1280__conf_.25__IoU_0.5/data/dancetrack0023.txt\n",
      "Data has been written to /media/hbai/data/code/LiteSORT/yolo_tracking/hbai_scripts/DanceTrack-train_fixed_format/ocsort__input_1280__conf_.25__IoU_0.5/data/dancetrack0096.txt\n",
      "Data has been written to /media/hbai/data/code/LiteSORT/yolo_tracking/hbai_scripts/DanceTrack-train_fixed_format/ocsort__input_1280__conf_.25__IoU_0.5/data/dancetrack0062.txt\n",
      "Data has been written to /media/hbai/data/code/LiteSORT/yolo_tracking/hbai_scripts/DanceTrack-train_fixed_format/ocsort__input_1280__conf_.25__IoU_0.5/data/dancetrack0098.txt\n",
      "Data has been written to /media/hbai/data/code/LiteSORT/yolo_tracking/hbai_scripts/DanceTrack-train_fixed_format/ocsort__input_1280__conf_.25__IoU_0.5/data/dancetrack0051.txt\n",
      "Data has been written to /media/hbai/data/code/LiteSORT/yolo_tracking/hbai_scripts/DanceTrack-train_fixed_format/ocsort__input_1280__conf_.25__IoU_0.5/data/dancetrack0080.txt\n"
     ]
    },
    {
     "name": "stderr",
     "output_type": "stream",
     "text": [
      "Converting seq for ocsort:  20%|██        | 8/40 [00:00<00:00, 79.41file/s]"
     ]
    },
    {
     "name": "stdout",
     "output_type": "stream",
     "text": [
      "Data has been written to /media/hbai/data/code/LiteSORT/yolo_tracking/hbai_scripts/DanceTrack-train_fixed_format/ocsort__input_1280__conf_.25__IoU_0.5/data/dancetrack0052.txt\n",
      "Data has been written to /media/hbai/data/code/LiteSORT/yolo_tracking/hbai_scripts/DanceTrack-train_fixed_format/ocsort__input_1280__conf_.25__IoU_0.5/data/dancetrack0055.txt\n",
      "Data has been written to /media/hbai/data/code/LiteSORT/yolo_tracking/hbai_scripts/DanceTrack-train_fixed_format/ocsort__input_1280__conf_.25__IoU_0.5/data/dancetrack0066.txt\n",
      "Data has been written to /media/hbai/data/code/LiteSORT/yolo_tracking/hbai_scripts/DanceTrack-train_fixed_format/ocsort__input_1280__conf_.25__IoU_0.5/data/dancetrack0016.txt\n",
      "Data has been written to /media/hbai/data/code/LiteSORT/yolo_tracking/hbai_scripts/DanceTrack-train_fixed_format/ocsort__input_1280__conf_.25__IoU_0.5/data/dancetrack0087.txt\n",
      "Data has been written to /media/hbai/data/code/LiteSORT/yolo_tracking/hbai_scripts/DanceTrack-train_fixed_format/ocsort__input_1280__conf_.25__IoU_0.5/data/dancetrack0039.txt\n",
      "Data has been written to /media/hbai/data/code/LiteSORT/yolo_tracking/hbai_scripts/DanceTrack-train_fixed_format/ocsort__input_1280__conf_.25__IoU_0.5/data/dancetrack0020.txt\n"
     ]
    },
    {
     "name": "stderr",
     "output_type": "stream",
     "text": [
      "Converting seq for ocsort:  40%|████      | 16/40 [00:00<00:00, 75.18file/s]"
     ]
    },
    {
     "name": "stdout",
     "output_type": "stream",
     "text": [
      "Data has been written to /media/hbai/data/code/LiteSORT/yolo_tracking/hbai_scripts/DanceTrack-train_fixed_format/ocsort__input_1280__conf_.25__IoU_0.5/data/dancetrack0082.txt\n",
      "Data has been written to /media/hbai/data/code/LiteSORT/yolo_tracking/hbai_scripts/DanceTrack-train_fixed_format/ocsort__input_1280__conf_.25__IoU_0.5/data/dancetrack0012.txt\n",
      "Data has been written to /media/hbai/data/code/LiteSORT/yolo_tracking/hbai_scripts/DanceTrack-train_fixed_format/ocsort__input_1280__conf_.25__IoU_0.5/data/dancetrack0001.txt\n",
      "Data has been written to /media/hbai/data/code/LiteSORT/yolo_tracking/hbai_scripts/DanceTrack-train_fixed_format/ocsort__input_1280__conf_.25__IoU_0.5/data/dancetrack0075.txt\n",
      "Data has been written to /media/hbai/data/code/LiteSORT/yolo_tracking/hbai_scripts/DanceTrack-train_fixed_format/ocsort__input_1280__conf_.25__IoU_0.5/data/dancetrack0045.txt\n",
      "Data has been written to /media/hbai/data/code/LiteSORT/yolo_tracking/hbai_scripts/DanceTrack-train_fixed_format/ocsort__input_1280__conf_.25__IoU_0.5/data/dancetrack0057.txt\n",
      "Data has been written to /media/hbai/data/code/LiteSORT/yolo_tracking/hbai_scripts/DanceTrack-train_fixed_format/ocsort__input_1280__conf_.25__IoU_0.5/data/dancetrack0074.txt\n",
      "Data has been written to /media/hbai/data/code/LiteSORT/yolo_tracking/hbai_scripts/DanceTrack-train_fixed_format/ocsort__input_1280__conf_.25__IoU_0.5/data/dancetrack0053.txt\n",
      "Data has been written to /media/hbai/data/code/LiteSORT/yolo_tracking/hbai_scripts/DanceTrack-train_fixed_format/ocsort__input_1280__conf_.25__IoU_0.5/data/dancetrack0086.txt\n",
      "Data has been written to /media/hbai/data/code/LiteSORT/yolo_tracking/hbai_scripts/DanceTrack-train_fixed_format/ocsort__input_1280__conf_.25__IoU_0.5/data/dancetrack0083.txt\n",
      "Data has been written to /media/hbai/data/code/LiteSORT/yolo_tracking/hbai_scripts/DanceTrack-train_fixed_format/ocsort__input_1280__conf_.25__IoU_0.5/data/dancetrack0027.txt\n"
     ]
    },
    {
     "name": "stderr",
     "output_type": "stream",
     "text": [
      "Converting seq for ocsort:  68%|██████▊   | 27/40 [00:00<00:00, 87.81file/s]"
     ]
    },
    {
     "name": "stdout",
     "output_type": "stream",
     "text": [
      "Data has been written to /media/hbai/data/code/LiteSORT/yolo_tracking/hbai_scripts/DanceTrack-train_fixed_format/ocsort__input_1280__conf_.25__IoU_0.5/data/dancetrack0061.txt\n",
      "Data has been written to /media/hbai/data/code/LiteSORT/yolo_tracking/hbai_scripts/DanceTrack-train_fixed_format/ocsort__input_1280__conf_.25__IoU_0.5/data/dancetrack0068.txt\n",
      "Data has been written to /media/hbai/data/code/LiteSORT/yolo_tracking/hbai_scripts/DanceTrack-train_fixed_format/ocsort__input_1280__conf_.25__IoU_0.5/data/dancetrack0049.txt\n",
      "Data has been written to /media/hbai/data/code/LiteSORT/yolo_tracking/hbai_scripts/DanceTrack-train_fixed_format/ocsort__input_1280__conf_.25__IoU_0.5/data/dancetrack0037.txt\n",
      "Data has been written to /media/hbai/data/code/LiteSORT/yolo_tracking/hbai_scripts/DanceTrack-train_fixed_format/ocsort__input_1280__conf_.25__IoU_0.5/data/dancetrack0006.txt\n",
      "Data has been written to /media/hbai/data/code/LiteSORT/yolo_tracking/hbai_scripts/DanceTrack-train_fixed_format/ocsort__input_1280__conf_.25__IoU_0.5/data/dancetrack0032.txt\n",
      "Data has been written to /media/hbai/data/code/LiteSORT/yolo_tracking/hbai_scripts/DanceTrack-train_fixed_format/ocsort__input_1280__conf_.25__IoU_0.5/data/dancetrack0044.txt\n",
      "Data has been written to /media/hbai/data/code/LiteSORT/yolo_tracking/hbai_scripts/DanceTrack-train_fixed_format/ocsort__input_1280__conf_.25__IoU_0.5/data/dancetrack0008.txt\n",
      "Data has been written to /media/hbai/data/code/LiteSORT/yolo_tracking/hbai_scripts/DanceTrack-train_fixed_format/ocsort__input_1280__conf_.25__IoU_0.5/data/dancetrack0099.txt\n",
      "Data has been written to /media/hbai/data/code/LiteSORT/yolo_tracking/hbai_scripts/DanceTrack-train_fixed_format/ocsort__input_1280__conf_.25__IoU_0.5/data/dancetrack0002.txt\n",
      "Data has been written to /media/hbai/data/code/LiteSORT/yolo_tracking/hbai_scripts/DanceTrack-train_fixed_format/ocsort__input_1280__conf_.25__IoU_0.5/data/dancetrack0029.txt\n",
      "Data has been written to /media/hbai/data/code/LiteSORT/yolo_tracking/hbai_scripts/DanceTrack-train_fixed_format/ocsort__input_1280__conf_.25__IoU_0.5/data/dancetrack0069.txt\n"
     ]
    },
    {
     "name": "stderr",
     "output_type": "stream",
     "text": [
      "Converting seq for ocsort: 100%|██████████| 40/40 [00:00<00:00, 87.98file/s]\n"
     ]
    },
    {
     "name": "stdout",
     "output_type": "stream",
     "text": [
      "Data has been written to /media/hbai/data/code/LiteSORT/yolo_tracking/hbai_scripts/DanceTrack-train_fixed_format/ocsort__input_1280__conf_.25__IoU_0.5/data/dancetrack0033.txt\n",
      "Data has been written to /media/hbai/data/code/LiteSORT/yolo_tracking/hbai_scripts/DanceTrack-train_fixed_format/ocsort__input_1280__conf_.25__IoU_0.5/data/dancetrack0024.txt\n",
      "Data has been written to /media/hbai/data/code/LiteSORT/yolo_tracking/hbai_scripts/DanceTrack-train_fixed_format/ocsort__input_1280__conf_.25__IoU_0.5/data/dancetrack0072.txt\n",
      "Data has been written to /media/hbai/data/code/LiteSORT/yolo_tracking/hbai_scripts/DanceTrack-train_fixed_format/ocsort__input_1280__conf_.25__IoU_0.5/data/dancetrack0015.txt\n"
     ]
    },
    {
     "name": "stderr",
     "output_type": "stream",
     "text": [
      "Converting seq for ocsort:   0%|          | 0/40 [00:00<?, ?file/s]"
     ]
    },
    {
     "name": "stdout",
     "output_type": "stream",
     "text": [
      "Data has been written to /media/hbai/data/code/LiteSORT/yolo_tracking/hbai_scripts/DanceTrack-train_fixed_format/ocsort__input_1280__conf_.25__IoU_0.55/data/dancetrack0023.txt\n",
      "Data has been written to /media/hbai/data/code/LiteSORT/yolo_tracking/hbai_scripts/DanceTrack-train_fixed_format/ocsort__input_1280__conf_.25__IoU_0.55/data/dancetrack0096.txt\n",
      "Data has been written to /media/hbai/data/code/LiteSORT/yolo_tracking/hbai_scripts/DanceTrack-train_fixed_format/ocsort__input_1280__conf_.25__IoU_0.55/data/dancetrack0062.txt\n",
      "Data has been written to /media/hbai/data/code/LiteSORT/yolo_tracking/hbai_scripts/DanceTrack-train_fixed_format/ocsort__input_1280__conf_.25__IoU_0.55/data/dancetrack0098.txt\n",
      "Data has been written to /media/hbai/data/code/LiteSORT/yolo_tracking/hbai_scripts/DanceTrack-train_fixed_format/ocsort__input_1280__conf_.25__IoU_0.55/data/dancetrack0051.txt\n",
      "Data has been written to /media/hbai/data/code/LiteSORT/yolo_tracking/hbai_scripts/DanceTrack-train_fixed_format/ocsort__input_1280__conf_.25__IoU_0.55/data/dancetrack0080.txt\n"
     ]
    },
    {
     "name": "stderr",
     "output_type": "stream",
     "text": [
      "Converting seq for ocsort:  22%|██▎       | 9/40 [00:00<00:00, 84.11file/s]"
     ]
    },
    {
     "name": "stdout",
     "output_type": "stream",
     "text": [
      "Data has been written to /media/hbai/data/code/LiteSORT/yolo_tracking/hbai_scripts/DanceTrack-train_fixed_format/ocsort__input_1280__conf_.25__IoU_0.55/data/dancetrack0052.txt\n",
      "Data has been written to /media/hbai/data/code/LiteSORT/yolo_tracking/hbai_scripts/DanceTrack-train_fixed_format/ocsort__input_1280__conf_.25__IoU_0.55/data/dancetrack0055.txt\n",
      "Data has been written to /media/hbai/data/code/LiteSORT/yolo_tracking/hbai_scripts/DanceTrack-train_fixed_format/ocsort__input_1280__conf_.25__IoU_0.55/data/dancetrack0066.txt\n",
      "Data has been written to /media/hbai/data/code/LiteSORT/yolo_tracking/hbai_scripts/DanceTrack-train_fixed_format/ocsort__input_1280__conf_.25__IoU_0.55/data/dancetrack0016.txt\n",
      "Data has been written to /media/hbai/data/code/LiteSORT/yolo_tracking/hbai_scripts/DanceTrack-train_fixed_format/ocsort__input_1280__conf_.25__IoU_0.55/data/dancetrack0087.txt\n",
      "Data has been written to /media/hbai/data/code/LiteSORT/yolo_tracking/hbai_scripts/DanceTrack-train_fixed_format/ocsort__input_1280__conf_.25__IoU_0.55/data/dancetrack0039.txt\n",
      "Data has been written to /media/hbai/data/code/LiteSORT/yolo_tracking/hbai_scripts/DanceTrack-train_fixed_format/ocsort__input_1280__conf_.25__IoU_0.55/data/dancetrack0020.txt\n",
      "Data has been written to /media/hbai/data/code/LiteSORT/yolo_tracking/hbai_scripts/DanceTrack-train_fixed_format/ocsort__input_1280__conf_.25__IoU_0.55/data/dancetrack0082.txt\n",
      "Data has been written to /media/hbai/data/code/LiteSORT/yolo_tracking/hbai_scripts/DanceTrack-train_fixed_format/ocsort__input_1280__conf_.25__IoU_0.55/data/dancetrack0012.txt\n",
      "Data has been written to /media/hbai/data/code/LiteSORT/yolo_tracking/hbai_scripts/DanceTrack-train_fixed_format/ocsort__input_1280__conf_.25__IoU_0.55/data/dancetrack0001.txt\n",
      "Data has been written to /media/hbai/data/code/LiteSORT/yolo_tracking/hbai_scripts/DanceTrack-train_fixed_format/ocsort__input_1280__conf_.25__IoU_0.55/data/dancetrack0075.txt\n"
     ]
    },
    {
     "name": "stderr",
     "output_type": "stream",
     "text": [
      "Converting seq for ocsort:  45%|████▌     | 18/40 [00:00<00:00, 76.10file/s]"
     ]
    },
    {
     "name": "stdout",
     "output_type": "stream",
     "text": [
      "Data has been written to /media/hbai/data/code/LiteSORT/yolo_tracking/hbai_scripts/DanceTrack-train_fixed_format/ocsort__input_1280__conf_.25__IoU_0.55/data/dancetrack0045.txt\n",
      "Data has been written to /media/hbai/data/code/LiteSORT/yolo_tracking/hbai_scripts/DanceTrack-train_fixed_format/ocsort__input_1280__conf_.25__IoU_0.55/data/dancetrack0057.txt\n",
      "Data has been written to /media/hbai/data/code/LiteSORT/yolo_tracking/hbai_scripts/DanceTrack-train_fixed_format/ocsort__input_1280__conf_.25__IoU_0.55/data/dancetrack0074.txt\n",
      "Data has been written to /media/hbai/data/code/LiteSORT/yolo_tracking/hbai_scripts/DanceTrack-train_fixed_format/ocsort__input_1280__conf_.25__IoU_0.55/data/dancetrack0053.txt\n",
      "Data has been written to /media/hbai/data/code/LiteSORT/yolo_tracking/hbai_scripts/DanceTrack-train_fixed_format/ocsort__input_1280__conf_.25__IoU_0.55/data/dancetrack0086.txt\n",
      "Data has been written to /media/hbai/data/code/LiteSORT/yolo_tracking/hbai_scripts/DanceTrack-train_fixed_format/ocsort__input_1280__conf_.25__IoU_0.55/data/dancetrack0083.txt\n",
      "Data has been written to /media/hbai/data/code/LiteSORT/yolo_tracking/hbai_scripts/DanceTrack-train_fixed_format/ocsort__input_1280__conf_.25__IoU_0.55/data/dancetrack0027.txt\n"
     ]
    },
    {
     "name": "stderr",
     "output_type": "stream",
     "text": [
      "Converting seq for ocsort:  72%|███████▎  | 29/40 [00:00<00:00, 87.75file/s]"
     ]
    },
    {
     "name": "stdout",
     "output_type": "stream",
     "text": [
      "Data has been written to /media/hbai/data/code/LiteSORT/yolo_tracking/hbai_scripts/DanceTrack-train_fixed_format/ocsort__input_1280__conf_.25__IoU_0.55/data/dancetrack0061.txt\n",
      "Data has been written to /media/hbai/data/code/LiteSORT/yolo_tracking/hbai_scripts/DanceTrack-train_fixed_format/ocsort__input_1280__conf_.25__IoU_0.55/data/dancetrack0068.txt\n",
      "Data has been written to /media/hbai/data/code/LiteSORT/yolo_tracking/hbai_scripts/DanceTrack-train_fixed_format/ocsort__input_1280__conf_.25__IoU_0.55/data/dancetrack0049.txt\n",
      "Data has been written to /media/hbai/data/code/LiteSORT/yolo_tracking/hbai_scripts/DanceTrack-train_fixed_format/ocsort__input_1280__conf_.25__IoU_0.55/data/dancetrack0037.txt\n",
      "Data has been written to /media/hbai/data/code/LiteSORT/yolo_tracking/hbai_scripts/DanceTrack-train_fixed_format/ocsort__input_1280__conf_.25__IoU_0.55/data/dancetrack0006.txt\n",
      "Data has been written to /media/hbai/data/code/LiteSORT/yolo_tracking/hbai_scripts/DanceTrack-train_fixed_format/ocsort__input_1280__conf_.25__IoU_0.55/data/dancetrack0032.txt\n",
      "Data has been written to /media/hbai/data/code/LiteSORT/yolo_tracking/hbai_scripts/DanceTrack-train_fixed_format/ocsort__input_1280__conf_.25__IoU_0.55/data/dancetrack0044.txt\n",
      "Data has been written to /media/hbai/data/code/LiteSORT/yolo_tracking/hbai_scripts/DanceTrack-train_fixed_format/ocsort__input_1280__conf_.25__IoU_0.55/data/dancetrack0008.txt\n",
      "Data has been written to /media/hbai/data/code/LiteSORT/yolo_tracking/hbai_scripts/DanceTrack-train_fixed_format/ocsort__input_1280__conf_.25__IoU_0.55/data/dancetrack0099.txt\n",
      "Data has been written to /media/hbai/data/code/LiteSORT/yolo_tracking/hbai_scripts/DanceTrack-train_fixed_format/ocsort__input_1280__conf_.25__IoU_0.55/data/dancetrack0002.txt\n",
      "Data has been written to /media/hbai/data/code/LiteSORT/yolo_tracking/hbai_scripts/DanceTrack-train_fixed_format/ocsort__input_1280__conf_.25__IoU_0.55/data/dancetrack0029.txt\n",
      "Data has been written to /media/hbai/data/code/LiteSORT/yolo_tracking/hbai_scripts/DanceTrack-train_fixed_format/ocsort__input_1280__conf_.25__IoU_0.55/data/dancetrack0069.txt\n",
      "Data has been written to /media/hbai/data/code/LiteSORT/yolo_tracking/hbai_scripts/DanceTrack-train_fixed_format/ocsort__input_1280__conf_.25__IoU_0.55/data/dancetrack0033.txt\n",
      "Data has been written to /media/hbai/data/code/LiteSORT/yolo_tracking/hbai_scripts/DanceTrack-train_fixed_format/ocsort__input_1280__conf_.25__IoU_0.55/data/dancetrack0024.txt\n",
      "Data has been written to /media/hbai/data/code/LiteSORT/yolo_tracking/hbai_scripts/DanceTrack-train_fixed_format/ocsort__input_1280__conf_.25__IoU_0.55/data/dancetrack0072.txt\n"
     ]
    },
    {
     "name": "stderr",
     "output_type": "stream",
     "text": [
      "Converting seq for ocsort: 100%|██████████| 40/40 [00:00<00:00, 89.52file/s]\n"
     ]
    },
    {
     "name": "stdout",
     "output_type": "stream",
     "text": [
      "Data has been written to /media/hbai/data/code/LiteSORT/yolo_tracking/hbai_scripts/DanceTrack-train_fixed_format/ocsort__input_1280__conf_.25__IoU_0.55/data/dancetrack0015.txt\n"
     ]
    },
    {
     "name": "stderr",
     "output_type": "stream",
     "text": [
      "Converting seq for ocsort:   0%|          | 0/40 [00:00<?, ?file/s]"
     ]
    },
    {
     "name": "stdout",
     "output_type": "stream",
     "text": [
      "Data has been written to /media/hbai/data/code/LiteSORT/yolo_tracking/hbai_scripts/DanceTrack-train_fixed_format/ocsort__input_1280__conf_.25__IoU_0.6/data/dancetrack0023.txt\n",
      "Data has been written to /media/hbai/data/code/LiteSORT/yolo_tracking/hbai_scripts/DanceTrack-train_fixed_format/ocsort__input_1280__conf_.25__IoU_0.6/data/dancetrack0096.txt\n",
      "Data has been written to /media/hbai/data/code/LiteSORT/yolo_tracking/hbai_scripts/DanceTrack-train_fixed_format/ocsort__input_1280__conf_.25__IoU_0.6/data/dancetrack0062.txt\n",
      "Data has been written to /media/hbai/data/code/LiteSORT/yolo_tracking/hbai_scripts/DanceTrack-train_fixed_format/ocsort__input_1280__conf_.25__IoU_0.6/data/dancetrack0098.txt\n",
      "Data has been written to /media/hbai/data/code/LiteSORT/yolo_tracking/hbai_scripts/DanceTrack-train_fixed_format/ocsort__input_1280__conf_.25__IoU_0.6/data/dancetrack0051.txt\n",
      "Data has been written to /media/hbai/data/code/LiteSORT/yolo_tracking/hbai_scripts/DanceTrack-train_fixed_format/ocsort__input_1280__conf_.25__IoU_0.6/data/dancetrack0080.txt\n",
      "Data has been written to /media/hbai/data/code/LiteSORT/yolo_tracking/hbai_scripts/DanceTrack-train_fixed_format/ocsort__input_1280__conf_.25__IoU_0.6/data/dancetrack0052.txt\n",
      "Data has been written to /media/hbai/data/code/LiteSORT/yolo_tracking/hbai_scripts/DanceTrack-train_fixed_format/ocsort__input_1280__conf_.25__IoU_0.6/data/dancetrack0055.txt\n"
     ]
    },
    {
     "name": "stderr",
     "output_type": "stream",
     "text": [
      "Converting seq for ocsort:  22%|██▎       | 9/40 [00:00<00:00, 86.94file/s]"
     ]
    },
    {
     "name": "stdout",
     "output_type": "stream",
     "text": [
      "Data has been written to /media/hbai/data/code/LiteSORT/yolo_tracking/hbai_scripts/DanceTrack-train_fixed_format/ocsort__input_1280__conf_.25__IoU_0.6/data/dancetrack0066.txt\n",
      "Data has been written to /media/hbai/data/code/LiteSORT/yolo_tracking/hbai_scripts/DanceTrack-train_fixed_format/ocsort__input_1280__conf_.25__IoU_0.6/data/dancetrack0016.txt\n",
      "Data has been written to /media/hbai/data/code/LiteSORT/yolo_tracking/hbai_scripts/DanceTrack-train_fixed_format/ocsort__input_1280__conf_.25__IoU_0.6/data/dancetrack0087.txt\n",
      "Data has been written to /media/hbai/data/code/LiteSORT/yolo_tracking/hbai_scripts/DanceTrack-train_fixed_format/ocsort__input_1280__conf_.25__IoU_0.6/data/dancetrack0039.txt\n",
      "Data has been written to /media/hbai/data/code/LiteSORT/yolo_tracking/hbai_scripts/DanceTrack-train_fixed_format/ocsort__input_1280__conf_.25__IoU_0.6/data/dancetrack0020.txt\n",
      "Data has been written to /media/hbai/data/code/LiteSORT/yolo_tracking/hbai_scripts/DanceTrack-train_fixed_format/ocsort__input_1280__conf_.25__IoU_0.6/data/dancetrack0082.txt\n",
      "Data has been written to /media/hbai/data/code/LiteSORT/yolo_tracking/hbai_scripts/DanceTrack-train_fixed_format/ocsort__input_1280__conf_.25__IoU_0.6/data/dancetrack0012.txt\n",
      "Data has been written to /media/hbai/data/code/LiteSORT/yolo_tracking/hbai_scripts/DanceTrack-train_fixed_format/ocsort__input_1280__conf_.25__IoU_0.6/data/dancetrack0001.txt\n",
      "Data has been written to /media/hbai/data/code/LiteSORT/yolo_tracking/hbai_scripts/DanceTrack-train_fixed_format/ocsort__input_1280__conf_.25__IoU_0.6/data/dancetrack0075.txt\n"
     ]
    },
    {
     "name": "stderr",
     "output_type": "stream",
     "text": [
      "Converting seq for ocsort:  45%|████▌     | 18/40 [00:00<00:00, 77.73file/s]"
     ]
    },
    {
     "name": "stdout",
     "output_type": "stream",
     "text": [
      "Data has been written to /media/hbai/data/code/LiteSORT/yolo_tracking/hbai_scripts/DanceTrack-train_fixed_format/ocsort__input_1280__conf_.25__IoU_0.6/data/dancetrack0045.txt\n",
      "Data has been written to /media/hbai/data/code/LiteSORT/yolo_tracking/hbai_scripts/DanceTrack-train_fixed_format/ocsort__input_1280__conf_.25__IoU_0.6/data/dancetrack0057.txt\n",
      "Data has been written to /media/hbai/data/code/LiteSORT/yolo_tracking/hbai_scripts/DanceTrack-train_fixed_format/ocsort__input_1280__conf_.25__IoU_0.6/data/dancetrack0074.txt\n",
      "Data has been written to /media/hbai/data/code/LiteSORT/yolo_tracking/hbai_scripts/DanceTrack-train_fixed_format/ocsort__input_1280__conf_.25__IoU_0.6/data/dancetrack0053.txt\n",
      "Data has been written to /media/hbai/data/code/LiteSORT/yolo_tracking/hbai_scripts/DanceTrack-train_fixed_format/ocsort__input_1280__conf_.25__IoU_0.6/data/dancetrack0086.txt\n",
      "Data has been written to /media/hbai/data/code/LiteSORT/yolo_tracking/hbai_scripts/DanceTrack-train_fixed_format/ocsort__input_1280__conf_.25__IoU_0.6/data/dancetrack0083.txt\n",
      "Data has been written to /media/hbai/data/code/LiteSORT/yolo_tracking/hbai_scripts/DanceTrack-train_fixed_format/ocsort__input_1280__conf_.25__IoU_0.6/data/dancetrack0027.txt\n",
      "Data has been written to /media/hbai/data/code/LiteSORT/yolo_tracking/hbai_scripts/DanceTrack-train_fixed_format/ocsort__input_1280__conf_.25__IoU_0.6/data/dancetrack0061.txt\n",
      "Data has been written to /media/hbai/data/code/LiteSORT/yolo_tracking/hbai_scripts/DanceTrack-train_fixed_format/ocsort__input_1280__conf_.25__IoU_0.6/data/dancetrack0068.txt\n",
      "Data has been written to /media/hbai/data/code/LiteSORT/yolo_tracking/hbai_scripts/DanceTrack-train_fixed_format/ocsort__input_1280__conf_.25__IoU_0.6/data/dancetrack0049.txt\n"
     ]
    },
    {
     "name": "stderr",
     "output_type": "stream",
     "text": [
      "Converting seq for ocsort:  72%|███████▎  | 29/40 [00:00<00:00, 90.75file/s]"
     ]
    },
    {
     "name": "stdout",
     "output_type": "stream",
     "text": [
      "Data has been written to /media/hbai/data/code/LiteSORT/yolo_tracking/hbai_scripts/DanceTrack-train_fixed_format/ocsort__input_1280__conf_.25__IoU_0.6/data/dancetrack0037.txt\n",
      "Data has been written to /media/hbai/data/code/LiteSORT/yolo_tracking/hbai_scripts/DanceTrack-train_fixed_format/ocsort__input_1280__conf_.25__IoU_0.6/data/dancetrack0006.txt\n",
      "Data has been written to /media/hbai/data/code/LiteSORT/yolo_tracking/hbai_scripts/DanceTrack-train_fixed_format/ocsort__input_1280__conf_.25__IoU_0.6/data/dancetrack0032.txt\n",
      "Data has been written to /media/hbai/data/code/LiteSORT/yolo_tracking/hbai_scripts/DanceTrack-train_fixed_format/ocsort__input_1280__conf_.25__IoU_0.6/data/dancetrack0044.txt\n",
      "Data has been written to /media/hbai/data/code/LiteSORT/yolo_tracking/hbai_scripts/DanceTrack-train_fixed_format/ocsort__input_1280__conf_.25__IoU_0.6/data/dancetrack0008.txt\n",
      "Data has been written to /media/hbai/data/code/LiteSORT/yolo_tracking/hbai_scripts/DanceTrack-train_fixed_format/ocsort__input_1280__conf_.25__IoU_0.6/data/dancetrack0099.txt\n",
      "Data has been written to /media/hbai/data/code/LiteSORT/yolo_tracking/hbai_scripts/DanceTrack-train_fixed_format/ocsort__input_1280__conf_.25__IoU_0.6/data/dancetrack0002.txt\n",
      "Data has been written to /media/hbai/data/code/LiteSORT/yolo_tracking/hbai_scripts/DanceTrack-train_fixed_format/ocsort__input_1280__conf_.25__IoU_0.6/data/dancetrack0029.txt\n",
      "Data has been written to /media/hbai/data/code/LiteSORT/yolo_tracking/hbai_scripts/DanceTrack-train_fixed_format/ocsort__input_1280__conf_.25__IoU_0.6/data/dancetrack0069.txt\n",
      "Data has been written to /media/hbai/data/code/LiteSORT/yolo_tracking/hbai_scripts/DanceTrack-train_fixed_format/ocsort__input_1280__conf_.25__IoU_0.6/data/dancetrack0033.txt\n",
      "Data has been written to /media/hbai/data/code/LiteSORT/yolo_tracking/hbai_scripts/DanceTrack-train_fixed_format/ocsort__input_1280__conf_.25__IoU_0.6/data/dancetrack0024.txt\n",
      "Data has been written to /media/hbai/data/code/LiteSORT/yolo_tracking/hbai_scripts/DanceTrack-train_fixed_format/ocsort__input_1280__conf_.25__IoU_0.6/data/dancetrack0072.txt\n"
     ]
    },
    {
     "name": "stderr",
     "output_type": "stream",
     "text": [
      "Converting seq for ocsort: 100%|██████████| 40/40 [00:00<00:00, 92.23file/s]\n"
     ]
    },
    {
     "name": "stdout",
     "output_type": "stream",
     "text": [
      "Data has been written to /media/hbai/data/code/LiteSORT/yolo_tracking/hbai_scripts/DanceTrack-train_fixed_format/ocsort__input_1280__conf_.25__IoU_0.6/data/dancetrack0015.txt\n"
     ]
    },
    {
     "name": "stderr",
     "output_type": "stream",
     "text": [
      "Converting seq for ocsort:   0%|          | 0/40 [00:00<?, ?file/s]"
     ]
    },
    {
     "name": "stdout",
     "output_type": "stream",
     "text": [
      "Data has been written to /media/hbai/data/code/LiteSORT/yolo_tracking/hbai_scripts/DanceTrack-train_fixed_format/ocsort__input_1280__conf_.25__IoU_0.65/data/dancetrack0023.txt\n",
      "Data has been written to /media/hbai/data/code/LiteSORT/yolo_tracking/hbai_scripts/DanceTrack-train_fixed_format/ocsort__input_1280__conf_.25__IoU_0.65/data/dancetrack0096.txt\n",
      "Data has been written to /media/hbai/data/code/LiteSORT/yolo_tracking/hbai_scripts/DanceTrack-train_fixed_format/ocsort__input_1280__conf_.25__IoU_0.65/data/dancetrack0062.txt\n",
      "Data has been written to /media/hbai/data/code/LiteSORT/yolo_tracking/hbai_scripts/DanceTrack-train_fixed_format/ocsort__input_1280__conf_.25__IoU_0.65/data/dancetrack0098.txt\n",
      "Data has been written to /media/hbai/data/code/LiteSORT/yolo_tracking/hbai_scripts/DanceTrack-train_fixed_format/ocsort__input_1280__conf_.25__IoU_0.65/data/dancetrack0051.txt\n",
      "Data has been written to /media/hbai/data/code/LiteSORT/yolo_tracking/hbai_scripts/DanceTrack-train_fixed_format/ocsort__input_1280__conf_.25__IoU_0.65/data/dancetrack0080.txt\n"
     ]
    },
    {
     "name": "stderr",
     "output_type": "stream",
     "text": [
      "Converting seq for ocsort:  25%|██▌       | 10/40 [00:00<00:00, 85.51file/s]"
     ]
    },
    {
     "name": "stdout",
     "output_type": "stream",
     "text": [
      "Data has been written to /media/hbai/data/code/LiteSORT/yolo_tracking/hbai_scripts/DanceTrack-train_fixed_format/ocsort__input_1280__conf_.25__IoU_0.65/data/dancetrack0052.txt\n",
      "Data has been written to /media/hbai/data/code/LiteSORT/yolo_tracking/hbai_scripts/DanceTrack-train_fixed_format/ocsort__input_1280__conf_.25__IoU_0.65/data/dancetrack0055.txt\n",
      "Data has been written to /media/hbai/data/code/LiteSORT/yolo_tracking/hbai_scripts/DanceTrack-train_fixed_format/ocsort__input_1280__conf_.25__IoU_0.65/data/dancetrack0066.txt\n",
      "Data has been written to /media/hbai/data/code/LiteSORT/yolo_tracking/hbai_scripts/DanceTrack-train_fixed_format/ocsort__input_1280__conf_.25__IoU_0.65/data/dancetrack0016.txt\n",
      "Data has been written to /media/hbai/data/code/LiteSORT/yolo_tracking/hbai_scripts/DanceTrack-train_fixed_format/ocsort__input_1280__conf_.25__IoU_0.65/data/dancetrack0087.txt\n",
      "Data has been written to /media/hbai/data/code/LiteSORT/yolo_tracking/hbai_scripts/DanceTrack-train_fixed_format/ocsort__input_1280__conf_.25__IoU_0.65/data/dancetrack0039.txt\n",
      "Data has been written to /media/hbai/data/code/LiteSORT/yolo_tracking/hbai_scripts/DanceTrack-train_fixed_format/ocsort__input_1280__conf_.25__IoU_0.65/data/dancetrack0020.txt\n",
      "Data has been written to /media/hbai/data/code/LiteSORT/yolo_tracking/hbai_scripts/DanceTrack-train_fixed_format/ocsort__input_1280__conf_.25__IoU_0.65/data/dancetrack0082.txt\n",
      "Data has been written to /media/hbai/data/code/LiteSORT/yolo_tracking/hbai_scripts/DanceTrack-train_fixed_format/ocsort__input_1280__conf_.25__IoU_0.65/data/dancetrack0012.txt\n",
      "Data has been written to /media/hbai/data/code/LiteSORT/yolo_tracking/hbai_scripts/DanceTrack-train_fixed_format/ocsort__input_1280__conf_.25__IoU_0.65/data/dancetrack0001.txt\n",
      "Data has been written to /media/hbai/data/code/LiteSORT/yolo_tracking/hbai_scripts/DanceTrack-train_fixed_format/ocsort__input_1280__conf_.25__IoU_0.65/data/dancetrack0075.txt\n"
     ]
    },
    {
     "name": "stderr",
     "output_type": "stream",
     "text": [
      "Converting seq for ocsort:  48%|████▊     | 19/40 [00:00<00:00, 84.52file/s]"
     ]
    },
    {
     "name": "stdout",
     "output_type": "stream",
     "text": [
      "Data has been written to /media/hbai/data/code/LiteSORT/yolo_tracking/hbai_scripts/DanceTrack-train_fixed_format/ocsort__input_1280__conf_.25__IoU_0.65/data/dancetrack0045.txt\n",
      "Data has been written to /media/hbai/data/code/LiteSORT/yolo_tracking/hbai_scripts/DanceTrack-train_fixed_format/ocsort__input_1280__conf_.25__IoU_0.65/data/dancetrack0057.txt\n",
      "Data has been written to /media/hbai/data/code/LiteSORT/yolo_tracking/hbai_scripts/DanceTrack-train_fixed_format/ocsort__input_1280__conf_.25__IoU_0.65/data/dancetrack0074.txt\n",
      "Data has been written to /media/hbai/data/code/LiteSORT/yolo_tracking/hbai_scripts/DanceTrack-train_fixed_format/ocsort__input_1280__conf_.25__IoU_0.65/data/dancetrack0053.txt\n",
      "Data has been written to /media/hbai/data/code/LiteSORT/yolo_tracking/hbai_scripts/DanceTrack-train_fixed_format/ocsort__input_1280__conf_.25__IoU_0.65/data/dancetrack0086.txt\n",
      "Data has been written to /media/hbai/data/code/LiteSORT/yolo_tracking/hbai_scripts/DanceTrack-train_fixed_format/ocsort__input_1280__conf_.25__IoU_0.65/data/dancetrack0083.txt\n",
      "Data has been written to /media/hbai/data/code/LiteSORT/yolo_tracking/hbai_scripts/DanceTrack-train_fixed_format/ocsort__input_1280__conf_.25__IoU_0.65/data/dancetrack0027.txt\n",
      "Data has been written to /media/hbai/data/code/LiteSORT/yolo_tracking/hbai_scripts/DanceTrack-train_fixed_format/ocsort__input_1280__conf_.25__IoU_0.65/data/dancetrack0061.txt\n",
      "Data has been written to /media/hbai/data/code/LiteSORT/yolo_tracking/hbai_scripts/DanceTrack-train_fixed_format/ocsort__input_1280__conf_.25__IoU_0.65/data/dancetrack0068.txt\n",
      "Data has been written to /media/hbai/data/code/LiteSORT/yolo_tracking/hbai_scripts/DanceTrack-train_fixed_format/ocsort__input_1280__conf_.25__IoU_0.65/data/dancetrack0049.txt\n",
      "Data has been written to /media/hbai/data/code/LiteSORT/yolo_tracking/hbai_scripts/DanceTrack-train_fixed_format/ocsort__input_1280__conf_.25__IoU_0.65/data/dancetrack0037.txt\n",
      "Data has been written to /media/hbai/data/code/LiteSORT/yolo_tracking/hbai_scripts/DanceTrack-train_fixed_format/ocsort__input_1280__conf_.25__IoU_0.65/data/dancetrack0006.txt\n",
      "Data has been written to /media/hbai/data/code/LiteSORT/yolo_tracking/hbai_scripts/DanceTrack-train_fixed_format/ocsort__input_1280__conf_.25__IoU_0.65/data/dancetrack0032.txt\n"
     ]
    },
    {
     "name": "stderr",
     "output_type": "stream",
     "text": [
      "Converting seq for ocsort:  78%|███████▊  | 31/40 [00:00<00:00, 97.08file/s]"
     ]
    },
    {
     "name": "stdout",
     "output_type": "stream",
     "text": [
      "Data has been written to /media/hbai/data/code/LiteSORT/yolo_tracking/hbai_scripts/DanceTrack-train_fixed_format/ocsort__input_1280__conf_.25__IoU_0.65/data/dancetrack0044.txt\n",
      "Data has been written to /media/hbai/data/code/LiteSORT/yolo_tracking/hbai_scripts/DanceTrack-train_fixed_format/ocsort__input_1280__conf_.25__IoU_0.65/data/dancetrack0008.txt\n",
      "Data has been written to /media/hbai/data/code/LiteSORT/yolo_tracking/hbai_scripts/DanceTrack-train_fixed_format/ocsort__input_1280__conf_.25__IoU_0.65/data/dancetrack0099.txt\n",
      "Data has been written to /media/hbai/data/code/LiteSORT/yolo_tracking/hbai_scripts/DanceTrack-train_fixed_format/ocsort__input_1280__conf_.25__IoU_0.65/data/dancetrack0002.txt\n",
      "Data has been written to /media/hbai/data/code/LiteSORT/yolo_tracking/hbai_scripts/DanceTrack-train_fixed_format/ocsort__input_1280__conf_.25__IoU_0.65/data/dancetrack0029.txt\n",
      "Data has been written to /media/hbai/data/code/LiteSORT/yolo_tracking/hbai_scripts/DanceTrack-train_fixed_format/ocsort__input_1280__conf_.25__IoU_0.65/data/dancetrack0069.txt\n",
      "Data has been written to /media/hbai/data/code/LiteSORT/yolo_tracking/hbai_scripts/DanceTrack-train_fixed_format/ocsort__input_1280__conf_.25__IoU_0.65/data/dancetrack0033.txt\n",
      "Data has been written to /media/hbai/data/code/LiteSORT/yolo_tracking/hbai_scripts/DanceTrack-train_fixed_format/ocsort__input_1280__conf_.25__IoU_0.65/data/dancetrack0024.txt\n",
      "Data has been written to /media/hbai/data/code/LiteSORT/yolo_tracking/hbai_scripts/DanceTrack-train_fixed_format/ocsort__input_1280__conf_.25__IoU_0.65/data/dancetrack0072.txt\n"
     ]
    },
    {
     "name": "stderr",
     "output_type": "stream",
     "text": [
      "Converting seq for ocsort: 100%|██████████| 40/40 [00:00<00:00, 95.50file/s]\n"
     ]
    },
    {
     "name": "stdout",
     "output_type": "stream",
     "text": [
      "Data has been written to /media/hbai/data/code/LiteSORT/yolo_tracking/hbai_scripts/DanceTrack-train_fixed_format/ocsort__input_1280__conf_.25__IoU_0.65/data/dancetrack0015.txt\n"
     ]
    },
    {
     "name": "stderr",
     "output_type": "stream",
     "text": [
      "Converting seq for ocsort:   0%|          | 0/40 [00:00<?, ?file/s]"
     ]
    },
    {
     "name": "stdout",
     "output_type": "stream",
     "text": [
      "Data has been written to /media/hbai/data/code/LiteSORT/yolo_tracking/hbai_scripts/DanceTrack-train_fixed_format/ocsort__input_1280__conf_.25__IoU_0.7/data/dancetrack0023.txt\n",
      "Data has been written to /media/hbai/data/code/LiteSORT/yolo_tracking/hbai_scripts/DanceTrack-train_fixed_format/ocsort__input_1280__conf_.25__IoU_0.7/data/dancetrack0096.txt\n",
      "Data has been written to /media/hbai/data/code/LiteSORT/yolo_tracking/hbai_scripts/DanceTrack-train_fixed_format/ocsort__input_1280__conf_.25__IoU_0.7/data/dancetrack0062.txt\n",
      "Data has been written to /media/hbai/data/code/LiteSORT/yolo_tracking/hbai_scripts/DanceTrack-train_fixed_format/ocsort__input_1280__conf_.25__IoU_0.7/data/dancetrack0098.txt\n",
      "Data has been written to /media/hbai/data/code/LiteSORT/yolo_tracking/hbai_scripts/DanceTrack-train_fixed_format/ocsort__input_1280__conf_.25__IoU_0.7/data/dancetrack0051.txt\n",
      "Data has been written to /media/hbai/data/code/LiteSORT/yolo_tracking/hbai_scripts/DanceTrack-train_fixed_format/ocsort__input_1280__conf_.25__IoU_0.7/data/dancetrack0080.txt\n",
      "Data has been written to /media/hbai/data/code/LiteSORT/yolo_tracking/hbai_scripts/DanceTrack-train_fixed_format/ocsort__input_1280__conf_.25__IoU_0.7/data/dancetrack0052.txt\n",
      "Data has been written to /media/hbai/data/code/LiteSORT/yolo_tracking/hbai_scripts/DanceTrack-train_fixed_format/ocsort__input_1280__conf_.25__IoU_0.7/data/dancetrack0055.txt\n",
      "Data has been written to /media/hbai/data/code/LiteSORT/yolo_tracking/hbai_scripts/DanceTrack-train_fixed_format/ocsort__input_1280__conf_.25__IoU_0.7/data/dancetrack0066.txt\n",
      "Data has been written to /media/hbai/data/code/LiteSORT/yolo_tracking/hbai_scripts/DanceTrack-train_fixed_format/ocsort__input_1280__conf_.25__IoU_0.7/data/dancetrack0016.txt\n"
     ]
    },
    {
     "name": "stderr",
     "output_type": "stream",
     "text": [
      "Converting seq for ocsort:  25%|██▌       | 10/40 [00:00<00:00, 89.77file/s]"
     ]
    },
    {
     "name": "stdout",
     "output_type": "stream",
     "text": [
      "Data has been written to /media/hbai/data/code/LiteSORT/yolo_tracking/hbai_scripts/DanceTrack-train_fixed_format/ocsort__input_1280__conf_.25__IoU_0.7/data/dancetrack0087.txt\n",
      "Data has been written to /media/hbai/data/code/LiteSORT/yolo_tracking/hbai_scripts/DanceTrack-train_fixed_format/ocsort__input_1280__conf_.25__IoU_0.7/data/dancetrack0039.txt\n",
      "Data has been written to /media/hbai/data/code/LiteSORT/yolo_tracking/hbai_scripts/DanceTrack-train_fixed_format/ocsort__input_1280__conf_.25__IoU_0.7/data/dancetrack0020.txt\n",
      "Data has been written to /media/hbai/data/code/LiteSORT/yolo_tracking/hbai_scripts/DanceTrack-train_fixed_format/ocsort__input_1280__conf_.25__IoU_0.7/data/dancetrack0082.txt\n",
      "Data has been written to /media/hbai/data/code/LiteSORT/yolo_tracking/hbai_scripts/DanceTrack-train_fixed_format/ocsort__input_1280__conf_.25__IoU_0.7/data/dancetrack0012.txt\n",
      "Data has been written to /media/hbai/data/code/LiteSORT/yolo_tracking/hbai_scripts/DanceTrack-train_fixed_format/ocsort__input_1280__conf_.25__IoU_0.7/data/dancetrack0001.txt\n",
      "Data has been written to /media/hbai/data/code/LiteSORT/yolo_tracking/hbai_scripts/DanceTrack-train_fixed_format/ocsort__input_1280__conf_.25__IoU_0.7/data/dancetrack0075.txt\n"
     ]
    },
    {
     "name": "stderr",
     "output_type": "stream",
     "text": [
      "Converting seq for ocsort:  48%|████▊     | 19/40 [00:00<00:00, 88.10file/s]"
     ]
    },
    {
     "name": "stdout",
     "output_type": "stream",
     "text": [
      "Data has been written to /media/hbai/data/code/LiteSORT/yolo_tracking/hbai_scripts/DanceTrack-train_fixed_format/ocsort__input_1280__conf_.25__IoU_0.7/data/dancetrack0045.txt\n",
      "Data has been written to /media/hbai/data/code/LiteSORT/yolo_tracking/hbai_scripts/DanceTrack-train_fixed_format/ocsort__input_1280__conf_.25__IoU_0.7/data/dancetrack0057.txt\n",
      "Data has been written to /media/hbai/data/code/LiteSORT/yolo_tracking/hbai_scripts/DanceTrack-train_fixed_format/ocsort__input_1280__conf_.25__IoU_0.7/data/dancetrack0074.txt\n",
      "Data has been written to /media/hbai/data/code/LiteSORT/yolo_tracking/hbai_scripts/DanceTrack-train_fixed_format/ocsort__input_1280__conf_.25__IoU_0.7/data/dancetrack0053.txt\n",
      "Data has been written to /media/hbai/data/code/LiteSORT/yolo_tracking/hbai_scripts/DanceTrack-train_fixed_format/ocsort__input_1280__conf_.25__IoU_0.7/data/dancetrack0086.txt\n",
      "Data has been written to /media/hbai/data/code/LiteSORT/yolo_tracking/hbai_scripts/DanceTrack-train_fixed_format/ocsort__input_1280__conf_.25__IoU_0.7/data/dancetrack0083.txt\n",
      "Data has been written to /media/hbai/data/code/LiteSORT/yolo_tracking/hbai_scripts/DanceTrack-train_fixed_format/ocsort__input_1280__conf_.25__IoU_0.7/data/dancetrack0027.txt\n",
      "Data has been written to /media/hbai/data/code/LiteSORT/yolo_tracking/hbai_scripts/DanceTrack-train_fixed_format/ocsort__input_1280__conf_.25__IoU_0.7/data/dancetrack0061.txt\n",
      "Data has been written to /media/hbai/data/code/LiteSORT/yolo_tracking/hbai_scripts/DanceTrack-train_fixed_format/ocsort__input_1280__conf_.25__IoU_0.7/data/dancetrack0068.txt\n",
      "Data has been written to /media/hbai/data/code/LiteSORT/yolo_tracking/hbai_scripts/DanceTrack-train_fixed_format/ocsort__input_1280__conf_.25__IoU_0.7/data/dancetrack0049.txt\n"
     ]
    },
    {
     "name": "stderr",
     "output_type": "stream",
     "text": [
      "Converting seq for ocsort:  78%|███████▊  | 31/40 [00:00<00:00, 102.11file/s]"
     ]
    },
    {
     "name": "stdout",
     "output_type": "stream",
     "text": [
      "Data has been written to /media/hbai/data/code/LiteSORT/yolo_tracking/hbai_scripts/DanceTrack-train_fixed_format/ocsort__input_1280__conf_.25__IoU_0.7/data/dancetrack0037.txt\n",
      "Data has been written to /media/hbai/data/code/LiteSORT/yolo_tracking/hbai_scripts/DanceTrack-train_fixed_format/ocsort__input_1280__conf_.25__IoU_0.7/data/dancetrack0006.txt\n",
      "Data has been written to /media/hbai/data/code/LiteSORT/yolo_tracking/hbai_scripts/DanceTrack-train_fixed_format/ocsort__input_1280__conf_.25__IoU_0.7/data/dancetrack0032.txt\n",
      "Data has been written to /media/hbai/data/code/LiteSORT/yolo_tracking/hbai_scripts/DanceTrack-train_fixed_format/ocsort__input_1280__conf_.25__IoU_0.7/data/dancetrack0044.txt\n",
      "Data has been written to /media/hbai/data/code/LiteSORT/yolo_tracking/hbai_scripts/DanceTrack-train_fixed_format/ocsort__input_1280__conf_.25__IoU_0.7/data/dancetrack0008.txt\n",
      "Data has been written to /media/hbai/data/code/LiteSORT/yolo_tracking/hbai_scripts/DanceTrack-train_fixed_format/ocsort__input_1280__conf_.25__IoU_0.7/data/dancetrack0099.txt\n",
      "Data has been written to /media/hbai/data/code/LiteSORT/yolo_tracking/hbai_scripts/DanceTrack-train_fixed_format/ocsort__input_1280__conf_.25__IoU_0.7/data/dancetrack0002.txt\n",
      "Data has been written to /media/hbai/data/code/LiteSORT/yolo_tracking/hbai_scripts/DanceTrack-train_fixed_format/ocsort__input_1280__conf_.25__IoU_0.7/data/dancetrack0029.txt\n",
      "Data has been written to /media/hbai/data/code/LiteSORT/yolo_tracking/hbai_scripts/DanceTrack-train_fixed_format/ocsort__input_1280__conf_.25__IoU_0.7/data/dancetrack0069.txt\n",
      "Data has been written to /media/hbai/data/code/LiteSORT/yolo_tracking/hbai_scripts/DanceTrack-train_fixed_format/ocsort__input_1280__conf_.25__IoU_0.7/data/dancetrack0033.txt\n",
      "Data has been written to /media/hbai/data/code/LiteSORT/yolo_tracking/hbai_scripts/DanceTrack-train_fixed_format/ocsort__input_1280__conf_.25__IoU_0.7/data/dancetrack0024.txt\n"
     ]
    },
    {
     "name": "stderr",
     "output_type": "stream",
     "text": [
      "Converting seq for ocsort: 100%|██████████| 40/40 [00:00<00:00, 100.44file/s]\n"
     ]
    },
    {
     "name": "stdout",
     "output_type": "stream",
     "text": [
      "Data has been written to /media/hbai/data/code/LiteSORT/yolo_tracking/hbai_scripts/DanceTrack-train_fixed_format/ocsort__input_1280__conf_.25__IoU_0.7/data/dancetrack0072.txt\n",
      "Data has been written to /media/hbai/data/code/LiteSORT/yolo_tracking/hbai_scripts/DanceTrack-train_fixed_format/ocsort__input_1280__conf_.25__IoU_0.7/data/dancetrack0015.txt\n"
     ]
    },
    {
     "name": "stderr",
     "output_type": "stream",
     "text": [
      "Converting seq for ocsort:   0%|          | 0/40 [00:00<?, ?file/s]"
     ]
    },
    {
     "name": "stdout",
     "output_type": "stream",
     "text": [
      "Data has been written to /media/hbai/data/code/LiteSORT/yolo_tracking/hbai_scripts/DanceTrack-train_fixed_format/ocsort__input_1280__conf_.25__IoU_0.75/data/dancetrack0023.txt\n",
      "Data has been written to /media/hbai/data/code/LiteSORT/yolo_tracking/hbai_scripts/DanceTrack-train_fixed_format/ocsort__input_1280__conf_.25__IoU_0.75/data/dancetrack0096.txt\n",
      "Data has been written to /media/hbai/data/code/LiteSORT/yolo_tracking/hbai_scripts/DanceTrack-train_fixed_format/ocsort__input_1280__conf_.25__IoU_0.75/data/dancetrack0062.txt\n",
      "Data has been written to /media/hbai/data/code/LiteSORT/yolo_tracking/hbai_scripts/DanceTrack-train_fixed_format/ocsort__input_1280__conf_.25__IoU_0.75/data/dancetrack0098.txt\n",
      "Data has been written to /media/hbai/data/code/LiteSORT/yolo_tracking/hbai_scripts/DanceTrack-train_fixed_format/ocsort__input_1280__conf_.25__IoU_0.75/data/dancetrack0051.txt\n",
      "Data has been written to /media/hbai/data/code/LiteSORT/yolo_tracking/hbai_scripts/DanceTrack-train_fixed_format/ocsort__input_1280__conf_.25__IoU_0.75/data/dancetrack0080.txt\n",
      "Data has been written to /media/hbai/data/code/LiteSORT/yolo_tracking/hbai_scripts/DanceTrack-train_fixed_format/ocsort__input_1280__conf_.25__IoU_0.75/data/dancetrack0052.txt\n",
      "Data has been written to /media/hbai/data/code/LiteSORT/yolo_tracking/hbai_scripts/DanceTrack-train_fixed_format/ocsort__input_1280__conf_.25__IoU_0.75/data/dancetrack0055.txt\n"
     ]
    },
    {
     "name": "stderr",
     "output_type": "stream",
     "text": [
      "Converting seq for ocsort:  25%|██▌       | 10/40 [00:00<00:00, 89.44file/s]"
     ]
    },
    {
     "name": "stdout",
     "output_type": "stream",
     "text": [
      "Data has been written to /media/hbai/data/code/LiteSORT/yolo_tracking/hbai_scripts/DanceTrack-train_fixed_format/ocsort__input_1280__conf_.25__IoU_0.75/data/dancetrack0066.txt\n",
      "Data has been written to /media/hbai/data/code/LiteSORT/yolo_tracking/hbai_scripts/DanceTrack-train_fixed_format/ocsort__input_1280__conf_.25__IoU_0.75/data/dancetrack0016.txt\n",
      "Data has been written to /media/hbai/data/code/LiteSORT/yolo_tracking/hbai_scripts/DanceTrack-train_fixed_format/ocsort__input_1280__conf_.25__IoU_0.75/data/dancetrack0087.txt\n",
      "Data has been written to /media/hbai/data/code/LiteSORT/yolo_tracking/hbai_scripts/DanceTrack-train_fixed_format/ocsort__input_1280__conf_.25__IoU_0.75/data/dancetrack0039.txt\n",
      "Data has been written to /media/hbai/data/code/LiteSORT/yolo_tracking/hbai_scripts/DanceTrack-train_fixed_format/ocsort__input_1280__conf_.25__IoU_0.75/data/dancetrack0020.txt\n",
      "Data has been written to /media/hbai/data/code/LiteSORT/yolo_tracking/hbai_scripts/DanceTrack-train_fixed_format/ocsort__input_1280__conf_.25__IoU_0.75/data/dancetrack0082.txt\n",
      "Data has been written to /media/hbai/data/code/LiteSORT/yolo_tracking/hbai_scripts/DanceTrack-train_fixed_format/ocsort__input_1280__conf_.25__IoU_0.75/data/dancetrack0012.txt\n",
      "Data has been written to /media/hbai/data/code/LiteSORT/yolo_tracking/hbai_scripts/DanceTrack-train_fixed_format/ocsort__input_1280__conf_.25__IoU_0.75/data/dancetrack0001.txt\n",
      "Data has been written to /media/hbai/data/code/LiteSORT/yolo_tracking/hbai_scripts/DanceTrack-train_fixed_format/ocsort__input_1280__conf_.25__IoU_0.75/data/dancetrack0075.txt\n",
      "Data has been written to /media/hbai/data/code/LiteSORT/yolo_tracking/hbai_scripts/DanceTrack-train_fixed_format/ocsort__input_1280__conf_.25__IoU_0.75/data/dancetrack0045.txt\n",
      "Data has been written to /media/hbai/data/code/LiteSORT/yolo_tracking/hbai_scripts/DanceTrack-train_fixed_format/ocsort__input_1280__conf_.25__IoU_0.75/data/dancetrack0057.txt\n"
     ]
    },
    {
     "name": "stderr",
     "output_type": "stream",
     "text": [
      "Converting seq for ocsort:  50%|█████     | 20/40 [00:00<00:00, 93.38file/s]"
     ]
    },
    {
     "name": "stdout",
     "output_type": "stream",
     "text": [
      "Data has been written to /media/hbai/data/code/LiteSORT/yolo_tracking/hbai_scripts/DanceTrack-train_fixed_format/ocsort__input_1280__conf_.25__IoU_0.75/data/dancetrack0074.txt\n",
      "Data has been written to /media/hbai/data/code/LiteSORT/yolo_tracking/hbai_scripts/DanceTrack-train_fixed_format/ocsort__input_1280__conf_.25__IoU_0.75/data/dancetrack0053.txt\n",
      "Data has been written to /media/hbai/data/code/LiteSORT/yolo_tracking/hbai_scripts/DanceTrack-train_fixed_format/ocsort__input_1280__conf_.25__IoU_0.75/data/dancetrack0086.txt\n",
      "Data has been written to /media/hbai/data/code/LiteSORT/yolo_tracking/hbai_scripts/DanceTrack-train_fixed_format/ocsort__input_1280__conf_.25__IoU_0.75/data/dancetrack0083.txt\n",
      "Data has been written to /media/hbai/data/code/LiteSORT/yolo_tracking/hbai_scripts/DanceTrack-train_fixed_format/ocsort__input_1280__conf_.25__IoU_0.75/data/dancetrack0027.txt\n",
      "Data has been written to /media/hbai/data/code/LiteSORT/yolo_tracking/hbai_scripts/DanceTrack-train_fixed_format/ocsort__input_1280__conf_.25__IoU_0.75/data/dancetrack0061.txt\n",
      "Data has been written to /media/hbai/data/code/LiteSORT/yolo_tracking/hbai_scripts/DanceTrack-train_fixed_format/ocsort__input_1280__conf_.25__IoU_0.75/data/dancetrack0068.txt\n",
      "Data has been written to /media/hbai/data/code/LiteSORT/yolo_tracking/hbai_scripts/DanceTrack-train_fixed_format/ocsort__input_1280__conf_.25__IoU_0.75/data/dancetrack0049.txt\n",
      "Data has been written to /media/hbai/data/code/LiteSORT/yolo_tracking/hbai_scripts/DanceTrack-train_fixed_format/ocsort__input_1280__conf_.25__IoU_0.75/data/dancetrack0037.txt\n",
      "Data has been written to /media/hbai/data/code/LiteSORT/yolo_tracking/hbai_scripts/DanceTrack-train_fixed_format/ocsort__input_1280__conf_.25__IoU_0.75/data/dancetrack0006.txt\n"
     ]
    },
    {
     "name": "stderr",
     "output_type": "stream",
     "text": [
      "Converting seq for ocsort:  82%|████████▎ | 33/40 [00:00<00:00, 108.26file/s]"
     ]
    },
    {
     "name": "stdout",
     "output_type": "stream",
     "text": [
      "Data has been written to /media/hbai/data/code/LiteSORT/yolo_tracking/hbai_scripts/DanceTrack-train_fixed_format/ocsort__input_1280__conf_.25__IoU_0.75/data/dancetrack0032.txt\n",
      "Data has been written to /media/hbai/data/code/LiteSORT/yolo_tracking/hbai_scripts/DanceTrack-train_fixed_format/ocsort__input_1280__conf_.25__IoU_0.75/data/dancetrack0044.txt\n",
      "Data has been written to /media/hbai/data/code/LiteSORT/yolo_tracking/hbai_scripts/DanceTrack-train_fixed_format/ocsort__input_1280__conf_.25__IoU_0.75/data/dancetrack0008.txt\n",
      "Data has been written to /media/hbai/data/code/LiteSORT/yolo_tracking/hbai_scripts/DanceTrack-train_fixed_format/ocsort__input_1280__conf_.25__IoU_0.75/data/dancetrack0099.txt\n",
      "Data has been written to /media/hbai/data/code/LiteSORT/yolo_tracking/hbai_scripts/DanceTrack-train_fixed_format/ocsort__input_1280__conf_.25__IoU_0.75/data/dancetrack0002.txt\n"
     ]
    },
    {
     "name": "stderr",
     "output_type": "stream",
     "text": [
      "Converting seq for ocsort: 100%|██████████| 40/40 [00:00<00:00, 105.24file/s]\n"
     ]
    },
    {
     "name": "stdout",
     "output_type": "stream",
     "text": [
      "Data has been written to /media/hbai/data/code/LiteSORT/yolo_tracking/hbai_scripts/DanceTrack-train_fixed_format/ocsort__input_1280__conf_.25__IoU_0.75/data/dancetrack0029.txt\n",
      "Data has been written to /media/hbai/data/code/LiteSORT/yolo_tracking/hbai_scripts/DanceTrack-train_fixed_format/ocsort__input_1280__conf_.25__IoU_0.75/data/dancetrack0069.txt\n",
      "Data has been written to /media/hbai/data/code/LiteSORT/yolo_tracking/hbai_scripts/DanceTrack-train_fixed_format/ocsort__input_1280__conf_.25__IoU_0.75/data/dancetrack0033.txt\n",
      "Data has been written to /media/hbai/data/code/LiteSORT/yolo_tracking/hbai_scripts/DanceTrack-train_fixed_format/ocsort__input_1280__conf_.25__IoU_0.75/data/dancetrack0024.txt\n",
      "Data has been written to /media/hbai/data/code/LiteSORT/yolo_tracking/hbai_scripts/DanceTrack-train_fixed_format/ocsort__input_1280__conf_.25__IoU_0.75/data/dancetrack0072.txt\n",
      "Data has been written to /media/hbai/data/code/LiteSORT/yolo_tracking/hbai_scripts/DanceTrack-train_fixed_format/ocsort__input_1280__conf_.25__IoU_0.75/data/dancetrack0015.txt\n"
     ]
    },
    {
     "name": "stderr",
     "output_type": "stream",
     "text": [
      "Converting seq for ocsort:   0%|          | 0/40 [00:00<?, ?file/s]"
     ]
    },
    {
     "name": "stdout",
     "output_type": "stream",
     "text": [
      "Data has been written to /media/hbai/data/code/LiteSORT/yolo_tracking/hbai_scripts/DanceTrack-train_fixed_format/ocsort__input_1280__conf_.25__IoU_0.8/data/dancetrack0023.txt\n",
      "Data has been written to /media/hbai/data/code/LiteSORT/yolo_tracking/hbai_scripts/DanceTrack-train_fixed_format/ocsort__input_1280__conf_.25__IoU_0.8/data/dancetrack0096.txt\n",
      "Data has been written to /media/hbai/data/code/LiteSORT/yolo_tracking/hbai_scripts/DanceTrack-train_fixed_format/ocsort__input_1280__conf_.25__IoU_0.8/data/dancetrack0062.txt\n",
      "Data has been written to /media/hbai/data/code/LiteSORT/yolo_tracking/hbai_scripts/DanceTrack-train_fixed_format/ocsort__input_1280__conf_.25__IoU_0.8/data/dancetrack0098.txt\n",
      "Data has been written to /media/hbai/data/code/LiteSORT/yolo_tracking/hbai_scripts/DanceTrack-train_fixed_format/ocsort__input_1280__conf_.25__IoU_0.8/data/dancetrack0051.txt\n",
      "Data has been written to /media/hbai/data/code/LiteSORT/yolo_tracking/hbai_scripts/DanceTrack-train_fixed_format/ocsort__input_1280__conf_.25__IoU_0.8/data/dancetrack0080.txt\n",
      "Data has been written to /media/hbai/data/code/LiteSORT/yolo_tracking/hbai_scripts/DanceTrack-train_fixed_format/ocsort__input_1280__conf_.25__IoU_0.8/data/dancetrack0052.txt\n"
     ]
    },
    {
     "name": "stderr",
     "output_type": "stream",
     "text": [
      "Converting seq for ocsort:  30%|███       | 12/40 [00:00<00:00, 118.67file/s]"
     ]
    },
    {
     "name": "stdout",
     "output_type": "stream",
     "text": [
      "Data has been written to /media/hbai/data/code/LiteSORT/yolo_tracking/hbai_scripts/DanceTrack-train_fixed_format/ocsort__input_1280__conf_.25__IoU_0.8/data/dancetrack0055.txt\n",
      "Data has been written to /media/hbai/data/code/LiteSORT/yolo_tracking/hbai_scripts/DanceTrack-train_fixed_format/ocsort__input_1280__conf_.25__IoU_0.8/data/dancetrack0066.txt\n",
      "Data has been written to /media/hbai/data/code/LiteSORT/yolo_tracking/hbai_scripts/DanceTrack-train_fixed_format/ocsort__input_1280__conf_.25__IoU_0.8/data/dancetrack0016.txt\n",
      "Data has been written to /media/hbai/data/code/LiteSORT/yolo_tracking/hbai_scripts/DanceTrack-train_fixed_format/ocsort__input_1280__conf_.25__IoU_0.8/data/dancetrack0087.txt\n",
      "Data has been written to /media/hbai/data/code/LiteSORT/yolo_tracking/hbai_scripts/DanceTrack-train_fixed_format/ocsort__input_1280__conf_.25__IoU_0.8/data/dancetrack0039.txt\n",
      "Data has been written to /media/hbai/data/code/LiteSORT/yolo_tracking/hbai_scripts/DanceTrack-train_fixed_format/ocsort__input_1280__conf_.25__IoU_0.8/data/dancetrack0020.txt\n",
      "Data has been written to /media/hbai/data/code/LiteSORT/yolo_tracking/hbai_scripts/DanceTrack-train_fixed_format/ocsort__input_1280__conf_.25__IoU_0.8/data/dancetrack0082.txt\n",
      "Data has been written to /media/hbai/data/code/LiteSORT/yolo_tracking/hbai_scripts/DanceTrack-train_fixed_format/ocsort__input_1280__conf_.25__IoU_0.8/data/dancetrack0012.txt\n",
      "Data has been written to /media/hbai/data/code/LiteSORT/yolo_tracking/hbai_scripts/DanceTrack-train_fixed_format/ocsort__input_1280__conf_.25__IoU_0.8/data/dancetrack0001.txt\n",
      "Data has been written to /media/hbai/data/code/LiteSORT/yolo_tracking/hbai_scripts/DanceTrack-train_fixed_format/ocsort__input_1280__conf_.25__IoU_0.8/data/dancetrack0075.txt\n"
     ]
    },
    {
     "name": "stderr",
     "output_type": "stream",
     "text": [
      "Converting seq for ocsort:  62%|██████▎   | 25/40 [00:00<00:00, 124.71file/s]"
     ]
    },
    {
     "name": "stdout",
     "output_type": "stream",
     "text": [
      "Data has been written to /media/hbai/data/code/LiteSORT/yolo_tracking/hbai_scripts/DanceTrack-train_fixed_format/ocsort__input_1280__conf_.25__IoU_0.8/data/dancetrack0045.txt\n",
      "Data has been written to /media/hbai/data/code/LiteSORT/yolo_tracking/hbai_scripts/DanceTrack-train_fixed_format/ocsort__input_1280__conf_.25__IoU_0.8/data/dancetrack0057.txt\n",
      "Data has been written to /media/hbai/data/code/LiteSORT/yolo_tracking/hbai_scripts/DanceTrack-train_fixed_format/ocsort__input_1280__conf_.25__IoU_0.8/data/dancetrack0074.txt\n",
      "Data has been written to /media/hbai/data/code/LiteSORT/yolo_tracking/hbai_scripts/DanceTrack-train_fixed_format/ocsort__input_1280__conf_.25__IoU_0.8/data/dancetrack0053.txt\n",
      "Data has been written to /media/hbai/data/code/LiteSORT/yolo_tracking/hbai_scripts/DanceTrack-train_fixed_format/ocsort__input_1280__conf_.25__IoU_0.8/data/dancetrack0086.txt\n",
      "Data has been written to /media/hbai/data/code/LiteSORT/yolo_tracking/hbai_scripts/DanceTrack-train_fixed_format/ocsort__input_1280__conf_.25__IoU_0.8/data/dancetrack0083.txt\n",
      "Data has been written to /media/hbai/data/code/LiteSORT/yolo_tracking/hbai_scripts/DanceTrack-train_fixed_format/ocsort__input_1280__conf_.25__IoU_0.8/data/dancetrack0027.txt\n",
      "Data has been written to /media/hbai/data/code/LiteSORT/yolo_tracking/hbai_scripts/DanceTrack-train_fixed_format/ocsort__input_1280__conf_.25__IoU_0.8/data/dancetrack0061.txt\n",
      "Data has been written to /media/hbai/data/code/LiteSORT/yolo_tracking/hbai_scripts/DanceTrack-train_fixed_format/ocsort__input_1280__conf_.25__IoU_0.8/data/dancetrack0068.txt\n",
      "Data has been written to /media/hbai/data/code/LiteSORT/yolo_tracking/hbai_scripts/DanceTrack-train_fixed_format/ocsort__input_1280__conf_.25__IoU_0.8/data/dancetrack0049.txt\n",
      "Data has been written to /media/hbai/data/code/LiteSORT/yolo_tracking/hbai_scripts/DanceTrack-train_fixed_format/ocsort__input_1280__conf_.25__IoU_0.8/data/dancetrack0037.txt\n",
      "Data has been written to /media/hbai/data/code/LiteSORT/yolo_tracking/hbai_scripts/DanceTrack-train_fixed_format/ocsort__input_1280__conf_.25__IoU_0.8/data/dancetrack0006.txt\n",
      "Data has been written to /media/hbai/data/code/LiteSORT/yolo_tracking/hbai_scripts/DanceTrack-train_fixed_format/ocsort__input_1280__conf_.25__IoU_0.8/data/dancetrack0032.txt\n",
      "Data has been written to /media/hbai/data/code/LiteSORT/yolo_tracking/hbai_scripts/DanceTrack-train_fixed_format/ocsort__input_1280__conf_.25__IoU_0.8/data/dancetrack0044.txt\n",
      "Data has been written to /media/hbai/data/code/LiteSORT/yolo_tracking/hbai_scripts/DanceTrack-train_fixed_format/ocsort__input_1280__conf_.25__IoU_0.8/data/dancetrack0008.txt\n",
      "Data has been written to /media/hbai/data/code/LiteSORT/yolo_tracking/hbai_scripts/DanceTrack-train_fixed_format/ocsort__input_1280__conf_.25__IoU_0.8/data/dancetrack0099.txt\n",
      "Data has been written to /media/hbai/data/code/LiteSORT/yolo_tracking/hbai_scripts/DanceTrack-train_fixed_format/ocsort__input_1280__conf_.25__IoU_0.8/data/dancetrack0002.txt\n"
     ]
    },
    {
     "name": "stderr",
     "output_type": "stream",
     "text": [
      "Converting seq for ocsort: 100%|██████████| 40/40 [00:00<00:00, 128.90file/s]\n"
     ]
    },
    {
     "name": "stdout",
     "output_type": "stream",
     "text": [
      "Data has been written to /media/hbai/data/code/LiteSORT/yolo_tracking/hbai_scripts/DanceTrack-train_fixed_format/ocsort__input_1280__conf_.25__IoU_0.8/data/dancetrack0029.txt\n",
      "Data has been written to /media/hbai/data/code/LiteSORT/yolo_tracking/hbai_scripts/DanceTrack-train_fixed_format/ocsort__input_1280__conf_.25__IoU_0.8/data/dancetrack0069.txt\n",
      "Data has been written to /media/hbai/data/code/LiteSORT/yolo_tracking/hbai_scripts/DanceTrack-train_fixed_format/ocsort__input_1280__conf_.25__IoU_0.8/data/dancetrack0033.txt\n",
      "Data has been written to /media/hbai/data/code/LiteSORT/yolo_tracking/hbai_scripts/DanceTrack-train_fixed_format/ocsort__input_1280__conf_.25__IoU_0.8/data/dancetrack0024.txt\n",
      "Data has been written to /media/hbai/data/code/LiteSORT/yolo_tracking/hbai_scripts/DanceTrack-train_fixed_format/ocsort__input_1280__conf_.25__IoU_0.8/data/dancetrack0072.txt\n",
      "Data has been written to /media/hbai/data/code/LiteSORT/yolo_tracking/hbai_scripts/DanceTrack-train_fixed_format/ocsort__input_1280__conf_.25__IoU_0.8/data/dancetrack0015.txt\n"
     ]
    },
    {
     "name": "stderr",
     "output_type": "stream",
     "text": [
      "Converting seq for deepocsort:   0%|          | 0/40 [00:00<?, ?file/s]"
     ]
    },
    {
     "name": "stdout",
     "output_type": "stream",
     "text": [
      "Data has been written to /media/hbai/data/code/LiteSORT/yolo_tracking/hbai_scripts/DanceTrack-train_fixed_format/deepocsort__input_1280__conf_.25__IoU_0.2/data/dancetrack0023.txt\n",
      "Data has been written to /media/hbai/data/code/LiteSORT/yolo_tracking/hbai_scripts/DanceTrack-train_fixed_format/deepocsort__input_1280__conf_.25__IoU_0.2/data/dancetrack0096.txt\n",
      "Data has been written to /media/hbai/data/code/LiteSORT/yolo_tracking/hbai_scripts/DanceTrack-train_fixed_format/deepocsort__input_1280__conf_.25__IoU_0.2/data/dancetrack0062.txt\n",
      "Data has been written to /media/hbai/data/code/LiteSORT/yolo_tracking/hbai_scripts/DanceTrack-train_fixed_format/deepocsort__input_1280__conf_.25__IoU_0.2/data/dancetrack0098.txt\n",
      "Data has been written to /media/hbai/data/code/LiteSORT/yolo_tracking/hbai_scripts/DanceTrack-train_fixed_format/deepocsort__input_1280__conf_.25__IoU_0.2/data/dancetrack0051.txt\n",
      "Data has been written to /media/hbai/data/code/LiteSORT/yolo_tracking/hbai_scripts/DanceTrack-train_fixed_format/deepocsort__input_1280__conf_.25__IoU_0.2/data/dancetrack0080.txt\n",
      "Data has been written to /media/hbai/data/code/LiteSORT/yolo_tracking/hbai_scripts/DanceTrack-train_fixed_format/deepocsort__input_1280__conf_.25__IoU_0.2/data/dancetrack0052.txt\n",
      "Data has been written to /media/hbai/data/code/LiteSORT/yolo_tracking/hbai_scripts/DanceTrack-train_fixed_format/deepocsort__input_1280__conf_.25__IoU_0.2/data/dancetrack0055.txt\n"
     ]
    },
    {
     "name": "stderr",
     "output_type": "stream",
     "text": [
      "Converting seq for deepocsort:  22%|██▎       | 9/40 [00:00<00:00, 83.34file/s]"
     ]
    },
    {
     "name": "stdout",
     "output_type": "stream",
     "text": [
      "Data has been written to /media/hbai/data/code/LiteSORT/yolo_tracking/hbai_scripts/DanceTrack-train_fixed_format/deepocsort__input_1280__conf_.25__IoU_0.2/data/dancetrack0066.txt\n",
      "Data has been written to /media/hbai/data/code/LiteSORT/yolo_tracking/hbai_scripts/DanceTrack-train_fixed_format/deepocsort__input_1280__conf_.25__IoU_0.2/data/dancetrack0016.txt\n",
      "Data has been written to /media/hbai/data/code/LiteSORT/yolo_tracking/hbai_scripts/DanceTrack-train_fixed_format/deepocsort__input_1280__conf_.25__IoU_0.2/data/dancetrack0087.txt\n",
      "Data has been written to /media/hbai/data/code/LiteSORT/yolo_tracking/hbai_scripts/DanceTrack-train_fixed_format/deepocsort__input_1280__conf_.25__IoU_0.2/data/dancetrack0039.txt\n",
      "Data has been written to /media/hbai/data/code/LiteSORT/yolo_tracking/hbai_scripts/DanceTrack-train_fixed_format/deepocsort__input_1280__conf_.25__IoU_0.2/data/dancetrack0020.txt\n",
      "Data has been written to /media/hbai/data/code/LiteSORT/yolo_tracking/hbai_scripts/DanceTrack-train_fixed_format/deepocsort__input_1280__conf_.25__IoU_0.2/data/dancetrack0082.txt\n",
      "Data has been written to /media/hbai/data/code/LiteSORT/yolo_tracking/hbai_scripts/DanceTrack-train_fixed_format/deepocsort__input_1280__conf_.25__IoU_0.2/data/dancetrack0012.txt\n",
      "Data has been written to /media/hbai/data/code/LiteSORT/yolo_tracking/hbai_scripts/DanceTrack-train_fixed_format/deepocsort__input_1280__conf_.25__IoU_0.2/data/dancetrack0001.txt\n",
      "Data has been written to /media/hbai/data/code/LiteSORT/yolo_tracking/hbai_scripts/DanceTrack-train_fixed_format/deepocsort__input_1280__conf_.25__IoU_0.2/data/dancetrack0075.txt\n"
     ]
    },
    {
     "name": "stderr",
     "output_type": "stream",
     "text": [
      "Converting seq for deepocsort:  45%|████▌     | 18/40 [00:00<00:00, 80.39file/s]"
     ]
    },
    {
     "name": "stdout",
     "output_type": "stream",
     "text": [
      "Data has been written to /media/hbai/data/code/LiteSORT/yolo_tracking/hbai_scripts/DanceTrack-train_fixed_format/deepocsort__input_1280__conf_.25__IoU_0.2/data/dancetrack0045.txt\n",
      "Data has been written to /media/hbai/data/code/LiteSORT/yolo_tracking/hbai_scripts/DanceTrack-train_fixed_format/deepocsort__input_1280__conf_.25__IoU_0.2/data/dancetrack0057.txt\n",
      "Data has been written to /media/hbai/data/code/LiteSORT/yolo_tracking/hbai_scripts/DanceTrack-train_fixed_format/deepocsort__input_1280__conf_.25__IoU_0.2/data/dancetrack0074.txt\n",
      "Data has been written to /media/hbai/data/code/LiteSORT/yolo_tracking/hbai_scripts/DanceTrack-train_fixed_format/deepocsort__input_1280__conf_.25__IoU_0.2/data/dancetrack0053.txt\n",
      "Data has been written to /media/hbai/data/code/LiteSORT/yolo_tracking/hbai_scripts/DanceTrack-train_fixed_format/deepocsort__input_1280__conf_.25__IoU_0.2/data/dancetrack0086.txt\n",
      "Data has been written to /media/hbai/data/code/LiteSORT/yolo_tracking/hbai_scripts/DanceTrack-train_fixed_format/deepocsort__input_1280__conf_.25__IoU_0.2/data/dancetrack0083.txt\n",
      "Data has been written to /media/hbai/data/code/LiteSORT/yolo_tracking/hbai_scripts/DanceTrack-train_fixed_format/deepocsort__input_1280__conf_.25__IoU_0.2/data/dancetrack0027.txt\n",
      "Data has been written to /media/hbai/data/code/LiteSORT/yolo_tracking/hbai_scripts/DanceTrack-train_fixed_format/deepocsort__input_1280__conf_.25__IoU_0.2/data/dancetrack0061.txt\n",
      "Data has been written to /media/hbai/data/code/LiteSORT/yolo_tracking/hbai_scripts/DanceTrack-train_fixed_format/deepocsort__input_1280__conf_.25__IoU_0.2/data/dancetrack0068.txt\n",
      "Data has been written to /media/hbai/data/code/LiteSORT/yolo_tracking/hbai_scripts/DanceTrack-train_fixed_format/deepocsort__input_1280__conf_.25__IoU_0.2/data/dancetrack0049.txt\n",
      "Data has been written to /media/hbai/data/code/LiteSORT/yolo_tracking/hbai_scripts/DanceTrack-train_fixed_format/deepocsort__input_1280__conf_.25__IoU_0.2/data/dancetrack0037.txt\n"
     ]
    },
    {
     "name": "stderr",
     "output_type": "stream",
     "text": [
      "Converting seq for deepocsort:  78%|███████▊  | 31/40 [00:00<00:00, 97.77file/s]"
     ]
    },
    {
     "name": "stdout",
     "output_type": "stream",
     "text": [
      "Data has been written to /media/hbai/data/code/LiteSORT/yolo_tracking/hbai_scripts/DanceTrack-train_fixed_format/deepocsort__input_1280__conf_.25__IoU_0.2/data/dancetrack0006.txt\n",
      "Data has been written to /media/hbai/data/code/LiteSORT/yolo_tracking/hbai_scripts/DanceTrack-train_fixed_format/deepocsort__input_1280__conf_.25__IoU_0.2/data/dancetrack0032.txt\n",
      "Data has been written to /media/hbai/data/code/LiteSORT/yolo_tracking/hbai_scripts/DanceTrack-train_fixed_format/deepocsort__input_1280__conf_.25__IoU_0.2/data/dancetrack0044.txt\n",
      "Data has been written to /media/hbai/data/code/LiteSORT/yolo_tracking/hbai_scripts/DanceTrack-train_fixed_format/deepocsort__input_1280__conf_.25__IoU_0.2/data/dancetrack0008.txt\n",
      "Data has been written to /media/hbai/data/code/LiteSORT/yolo_tracking/hbai_scripts/DanceTrack-train_fixed_format/deepocsort__input_1280__conf_.25__IoU_0.2/data/dancetrack0099.txt\n",
      "Data has been written to /media/hbai/data/code/LiteSORT/yolo_tracking/hbai_scripts/DanceTrack-train_fixed_format/deepocsort__input_1280__conf_.25__IoU_0.2/data/dancetrack0002.txt\n"
     ]
    },
    {
     "name": "stderr",
     "output_type": "stream",
     "text": [
      "Converting seq for deepocsort: 100%|██████████| 40/40 [00:00<00:00, 96.74file/s]\n"
     ]
    },
    {
     "name": "stdout",
     "output_type": "stream",
     "text": [
      "Data has been written to /media/hbai/data/code/LiteSORT/yolo_tracking/hbai_scripts/DanceTrack-train_fixed_format/deepocsort__input_1280__conf_.25__IoU_0.2/data/dancetrack0029.txt\n",
      "Data has been written to /media/hbai/data/code/LiteSORT/yolo_tracking/hbai_scripts/DanceTrack-train_fixed_format/deepocsort__input_1280__conf_.25__IoU_0.2/data/dancetrack0069.txt\n",
      "Data has been written to /media/hbai/data/code/LiteSORT/yolo_tracking/hbai_scripts/DanceTrack-train_fixed_format/deepocsort__input_1280__conf_.25__IoU_0.2/data/dancetrack0033.txt\n",
      "Data has been written to /media/hbai/data/code/LiteSORT/yolo_tracking/hbai_scripts/DanceTrack-train_fixed_format/deepocsort__input_1280__conf_.25__IoU_0.2/data/dancetrack0024.txt\n",
      "Data has been written to /media/hbai/data/code/LiteSORT/yolo_tracking/hbai_scripts/DanceTrack-train_fixed_format/deepocsort__input_1280__conf_.25__IoU_0.2/data/dancetrack0072.txt\n",
      "Data has been written to /media/hbai/data/code/LiteSORT/yolo_tracking/hbai_scripts/DanceTrack-train_fixed_format/deepocsort__input_1280__conf_.25__IoU_0.2/data/dancetrack0015.txt\n"
     ]
    },
    {
     "name": "stderr",
     "output_type": "stream",
     "text": [
      "Converting seq for deepocsort:   0%|          | 0/40 [00:00<?, ?file/s]"
     ]
    },
    {
     "name": "stdout",
     "output_type": "stream",
     "text": [
      "Data has been written to /media/hbai/data/code/LiteSORT/yolo_tracking/hbai_scripts/DanceTrack-train_fixed_format/deepocsort__input_1280__conf_.25__IoU_0.25/data/dancetrack0023.txt\n",
      "Data has been written to /media/hbai/data/code/LiteSORT/yolo_tracking/hbai_scripts/DanceTrack-train_fixed_format/deepocsort__input_1280__conf_.25__IoU_0.25/data/dancetrack0096.txt\n",
      "Data has been written to /media/hbai/data/code/LiteSORT/yolo_tracking/hbai_scripts/DanceTrack-train_fixed_format/deepocsort__input_1280__conf_.25__IoU_0.25/data/dancetrack0062.txt\n",
      "Data has been written to /media/hbai/data/code/LiteSORT/yolo_tracking/hbai_scripts/DanceTrack-train_fixed_format/deepocsort__input_1280__conf_.25__IoU_0.25/data/dancetrack0098.txt\n",
      "Data has been written to /media/hbai/data/code/LiteSORT/yolo_tracking/hbai_scripts/DanceTrack-train_fixed_format/deepocsort__input_1280__conf_.25__IoU_0.25/data/dancetrack0051.txt\n",
      "Data has been written to /media/hbai/data/code/LiteSORT/yolo_tracking/hbai_scripts/DanceTrack-train_fixed_format/deepocsort__input_1280__conf_.25__IoU_0.25/data/dancetrack0080.txt\n",
      "Data has been written to /media/hbai/data/code/LiteSORT/yolo_tracking/hbai_scripts/DanceTrack-train_fixed_format/deepocsort__input_1280__conf_.25__IoU_0.25/data/dancetrack0052.txt\n",
      "Data has been written to /media/hbai/data/code/LiteSORT/yolo_tracking/hbai_scripts/DanceTrack-train_fixed_format/deepocsort__input_1280__conf_.25__IoU_0.25/data/dancetrack0055.txt\n"
     ]
    },
    {
     "name": "stderr",
     "output_type": "stream",
     "text": [
      "Converting seq for deepocsort:  22%|██▎       | 9/40 [00:00<00:00, 86.81file/s]"
     ]
    },
    {
     "name": "stdout",
     "output_type": "stream",
     "text": [
      "Data has been written to /media/hbai/data/code/LiteSORT/yolo_tracking/hbai_scripts/DanceTrack-train_fixed_format/deepocsort__input_1280__conf_.25__IoU_0.25/data/dancetrack0066.txt\n",
      "Data has been written to /media/hbai/data/code/LiteSORT/yolo_tracking/hbai_scripts/DanceTrack-train_fixed_format/deepocsort__input_1280__conf_.25__IoU_0.25/data/dancetrack0016.txt\n",
      "Data has been written to /media/hbai/data/code/LiteSORT/yolo_tracking/hbai_scripts/DanceTrack-train_fixed_format/deepocsort__input_1280__conf_.25__IoU_0.25/data/dancetrack0087.txt\n",
      "Data has been written to /media/hbai/data/code/LiteSORT/yolo_tracking/hbai_scripts/DanceTrack-train_fixed_format/deepocsort__input_1280__conf_.25__IoU_0.25/data/dancetrack0039.txt\n",
      "Data has been written to /media/hbai/data/code/LiteSORT/yolo_tracking/hbai_scripts/DanceTrack-train_fixed_format/deepocsort__input_1280__conf_.25__IoU_0.25/data/dancetrack0020.txt\n",
      "Data has been written to /media/hbai/data/code/LiteSORT/yolo_tracking/hbai_scripts/DanceTrack-train_fixed_format/deepocsort__input_1280__conf_.25__IoU_0.25/data/dancetrack0082.txt\n",
      "Data has been written to /media/hbai/data/code/LiteSORT/yolo_tracking/hbai_scripts/DanceTrack-train_fixed_format/deepocsort__input_1280__conf_.25__IoU_0.25/data/dancetrack0012.txt\n",
      "Data has been written to /media/hbai/data/code/LiteSORT/yolo_tracking/hbai_scripts/DanceTrack-train_fixed_format/deepocsort__input_1280__conf_.25__IoU_0.25/data/dancetrack0001.txt\n",
      "Data has been written to /media/hbai/data/code/LiteSORT/yolo_tracking/hbai_scripts/DanceTrack-train_fixed_format/deepocsort__input_1280__conf_.25__IoU_0.25/data/dancetrack0075.txt\n"
     ]
    },
    {
     "name": "stderr",
     "output_type": "stream",
     "text": [
      "Converting seq for deepocsort:  45%|████▌     | 18/40 [00:00<00:00, 81.37file/s]"
     ]
    },
    {
     "name": "stdout",
     "output_type": "stream",
     "text": [
      "Data has been written to /media/hbai/data/code/LiteSORT/yolo_tracking/hbai_scripts/DanceTrack-train_fixed_format/deepocsort__input_1280__conf_.25__IoU_0.25/data/dancetrack0045.txt\n",
      "Data has been written to /media/hbai/data/code/LiteSORT/yolo_tracking/hbai_scripts/DanceTrack-train_fixed_format/deepocsort__input_1280__conf_.25__IoU_0.25/data/dancetrack0057.txt\n",
      "Data has been written to /media/hbai/data/code/LiteSORT/yolo_tracking/hbai_scripts/DanceTrack-train_fixed_format/deepocsort__input_1280__conf_.25__IoU_0.25/data/dancetrack0074.txt\n",
      "Data has been written to /media/hbai/data/code/LiteSORT/yolo_tracking/hbai_scripts/DanceTrack-train_fixed_format/deepocsort__input_1280__conf_.25__IoU_0.25/data/dancetrack0053.txt\n",
      "Data has been written to /media/hbai/data/code/LiteSORT/yolo_tracking/hbai_scripts/DanceTrack-train_fixed_format/deepocsort__input_1280__conf_.25__IoU_0.25/data/dancetrack0086.txt\n",
      "Data has been written to /media/hbai/data/code/LiteSORT/yolo_tracking/hbai_scripts/DanceTrack-train_fixed_format/deepocsort__input_1280__conf_.25__IoU_0.25/data/dancetrack0083.txt\n",
      "Data has been written to /media/hbai/data/code/LiteSORT/yolo_tracking/hbai_scripts/DanceTrack-train_fixed_format/deepocsort__input_1280__conf_.25__IoU_0.25/data/dancetrack0027.txt\n",
      "Data has been written to /media/hbai/data/code/LiteSORT/yolo_tracking/hbai_scripts/DanceTrack-train_fixed_format/deepocsort__input_1280__conf_.25__IoU_0.25/data/dancetrack0061.txt\n",
      "Data has been written to /media/hbai/data/code/LiteSORT/yolo_tracking/hbai_scripts/DanceTrack-train_fixed_format/deepocsort__input_1280__conf_.25__IoU_0.25/data/dancetrack0068.txt\n",
      "Data has been written to /media/hbai/data/code/LiteSORT/yolo_tracking/hbai_scripts/DanceTrack-train_fixed_format/deepocsort__input_1280__conf_.25__IoU_0.25/data/dancetrack0049.txt\n"
     ]
    },
    {
     "name": "stderr",
     "output_type": "stream",
     "text": [
      "Converting seq for deepocsort:  72%|███████▎  | 29/40 [00:00<00:00, 93.44file/s]"
     ]
    },
    {
     "name": "stdout",
     "output_type": "stream",
     "text": [
      "Data has been written to /media/hbai/data/code/LiteSORT/yolo_tracking/hbai_scripts/DanceTrack-train_fixed_format/deepocsort__input_1280__conf_.25__IoU_0.25/data/dancetrack0037.txt\n",
      "Data has been written to /media/hbai/data/code/LiteSORT/yolo_tracking/hbai_scripts/DanceTrack-train_fixed_format/deepocsort__input_1280__conf_.25__IoU_0.25/data/dancetrack0006.txt\n",
      "Data has been written to /media/hbai/data/code/LiteSORT/yolo_tracking/hbai_scripts/DanceTrack-train_fixed_format/deepocsort__input_1280__conf_.25__IoU_0.25/data/dancetrack0032.txt\n",
      "Data has been written to /media/hbai/data/code/LiteSORT/yolo_tracking/hbai_scripts/DanceTrack-train_fixed_format/deepocsort__input_1280__conf_.25__IoU_0.25/data/dancetrack0044.txt\n",
      "Data has been written to /media/hbai/data/code/LiteSORT/yolo_tracking/hbai_scripts/DanceTrack-train_fixed_format/deepocsort__input_1280__conf_.25__IoU_0.25/data/dancetrack0008.txt\n",
      "Data has been written to /media/hbai/data/code/LiteSORT/yolo_tracking/hbai_scripts/DanceTrack-train_fixed_format/deepocsort__input_1280__conf_.25__IoU_0.25/data/dancetrack0099.txt\n",
      "Data has been written to /media/hbai/data/code/LiteSORT/yolo_tracking/hbai_scripts/DanceTrack-train_fixed_format/deepocsort__input_1280__conf_.25__IoU_0.25/data/dancetrack0002.txt\n",
      "Data has been written to /media/hbai/data/code/LiteSORT/yolo_tracking/hbai_scripts/DanceTrack-train_fixed_format/deepocsort__input_1280__conf_.25__IoU_0.25/data/dancetrack0029.txt\n",
      "Data has been written to /media/hbai/data/code/LiteSORT/yolo_tracking/hbai_scripts/DanceTrack-train_fixed_format/deepocsort__input_1280__conf_.25__IoU_0.25/data/dancetrack0069.txt\n",
      "Data has been written to /media/hbai/data/code/LiteSORT/yolo_tracking/hbai_scripts/DanceTrack-train_fixed_format/deepocsort__input_1280__conf_.25__IoU_0.25/data/dancetrack0033.txt\n",
      "Data has been written to /media/hbai/data/code/LiteSORT/yolo_tracking/hbai_scripts/DanceTrack-train_fixed_format/deepocsort__input_1280__conf_.25__IoU_0.25/data/dancetrack0024.txt\n",
      "Data has been written to /media/hbai/data/code/LiteSORT/yolo_tracking/hbai_scripts/DanceTrack-train_fixed_format/deepocsort__input_1280__conf_.25__IoU_0.25/data/dancetrack0072.txt\n"
     ]
    },
    {
     "name": "stderr",
     "output_type": "stream",
     "text": [
      "Converting seq for deepocsort: 100%|██████████| 40/40 [00:00<00:00, 94.72file/s]\n"
     ]
    },
    {
     "name": "stdout",
     "output_type": "stream",
     "text": [
      "Data has been written to /media/hbai/data/code/LiteSORT/yolo_tracking/hbai_scripts/DanceTrack-train_fixed_format/deepocsort__input_1280__conf_.25__IoU_0.25/data/dancetrack0015.txt\n"
     ]
    },
    {
     "name": "stderr",
     "output_type": "stream",
     "text": [
      "Converting seq for deepocsort:   0%|          | 0/40 [00:00<?, ?file/s]"
     ]
    },
    {
     "name": "stdout",
     "output_type": "stream",
     "text": [
      "Data has been written to /media/hbai/data/code/LiteSORT/yolo_tracking/hbai_scripts/DanceTrack-train_fixed_format/deepocsort__input_1280__conf_.25__IoU_0.3/data/dancetrack0023.txt\n",
      "Data has been written to /media/hbai/data/code/LiteSORT/yolo_tracking/hbai_scripts/DanceTrack-train_fixed_format/deepocsort__input_1280__conf_.25__IoU_0.3/data/dancetrack0096.txt\n",
      "Data has been written to /media/hbai/data/code/LiteSORT/yolo_tracking/hbai_scripts/DanceTrack-train_fixed_format/deepocsort__input_1280__conf_.25__IoU_0.3/data/dancetrack0062.txt\n",
      "Data has been written to /media/hbai/data/code/LiteSORT/yolo_tracking/hbai_scripts/DanceTrack-train_fixed_format/deepocsort__input_1280__conf_.25__IoU_0.3/data/dancetrack0098.txt\n",
      "Data has been written to /media/hbai/data/code/LiteSORT/yolo_tracking/hbai_scripts/DanceTrack-train_fixed_format/deepocsort__input_1280__conf_.25__IoU_0.3/data/dancetrack0051.txt\n"
     ]
    },
    {
     "name": "stderr",
     "output_type": "stream",
     "text": [
      "Converting seq for deepocsort:  22%|██▎       | 9/40 [00:00<00:00, 83.72file/s]"
     ]
    },
    {
     "name": "stdout",
     "output_type": "stream",
     "text": [
      "Data has been written to /media/hbai/data/code/LiteSORT/yolo_tracking/hbai_scripts/DanceTrack-train_fixed_format/deepocsort__input_1280__conf_.25__IoU_0.3/data/dancetrack0080.txt\n",
      "Data has been written to /media/hbai/data/code/LiteSORT/yolo_tracking/hbai_scripts/DanceTrack-train_fixed_format/deepocsort__input_1280__conf_.25__IoU_0.3/data/dancetrack0052.txt\n",
      "Data has been written to /media/hbai/data/code/LiteSORT/yolo_tracking/hbai_scripts/DanceTrack-train_fixed_format/deepocsort__input_1280__conf_.25__IoU_0.3/data/dancetrack0055.txt\n",
      "Data has been written to /media/hbai/data/code/LiteSORT/yolo_tracking/hbai_scripts/DanceTrack-train_fixed_format/deepocsort__input_1280__conf_.25__IoU_0.3/data/dancetrack0066.txt\n",
      "Data has been written to /media/hbai/data/code/LiteSORT/yolo_tracking/hbai_scripts/DanceTrack-train_fixed_format/deepocsort__input_1280__conf_.25__IoU_0.3/data/dancetrack0016.txt\n",
      "Data has been written to /media/hbai/data/code/LiteSORT/yolo_tracking/hbai_scripts/DanceTrack-train_fixed_format/deepocsort__input_1280__conf_.25__IoU_0.3/data/dancetrack0087.txt\n",
      "Data has been written to /media/hbai/data/code/LiteSORT/yolo_tracking/hbai_scripts/DanceTrack-train_fixed_format/deepocsort__input_1280__conf_.25__IoU_0.3/data/dancetrack0039.txt\n",
      "Data has been written to /media/hbai/data/code/LiteSORT/yolo_tracking/hbai_scripts/DanceTrack-train_fixed_format/deepocsort__input_1280__conf_.25__IoU_0.3/data/dancetrack0020.txt\n",
      "Data has been written to /media/hbai/data/code/LiteSORT/yolo_tracking/hbai_scripts/DanceTrack-train_fixed_format/deepocsort__input_1280__conf_.25__IoU_0.3/data/dancetrack0082.txt\n",
      "Data has been written to /media/hbai/data/code/LiteSORT/yolo_tracking/hbai_scripts/DanceTrack-train_fixed_format/deepocsort__input_1280__conf_.25__IoU_0.3/data/dancetrack0012.txt\n",
      "Data has been written to /media/hbai/data/code/LiteSORT/yolo_tracking/hbai_scripts/DanceTrack-train_fixed_format/deepocsort__input_1280__conf_.25__IoU_0.3/data/dancetrack0001.txt\n",
      "Data has been written to /media/hbai/data/code/LiteSORT/yolo_tracking/hbai_scripts/DanceTrack-train_fixed_format/deepocsort__input_1280__conf_.25__IoU_0.3/data/dancetrack0075.txt\n"
     ]
    },
    {
     "name": "stderr",
     "output_type": "stream",
     "text": [
      "Converting seq for deepocsort:  45%|████▌     | 18/40 [00:00<00:00, 77.45file/s]"
     ]
    },
    {
     "name": "stdout",
     "output_type": "stream",
     "text": [
      "Data has been written to /media/hbai/data/code/LiteSORT/yolo_tracking/hbai_scripts/DanceTrack-train_fixed_format/deepocsort__input_1280__conf_.25__IoU_0.3/data/dancetrack0045.txt\n",
      "Data has been written to /media/hbai/data/code/LiteSORT/yolo_tracking/hbai_scripts/DanceTrack-train_fixed_format/deepocsort__input_1280__conf_.25__IoU_0.3/data/dancetrack0057.txt\n",
      "Data has been written to /media/hbai/data/code/LiteSORT/yolo_tracking/hbai_scripts/DanceTrack-train_fixed_format/deepocsort__input_1280__conf_.25__IoU_0.3/data/dancetrack0074.txt\n",
      "Data has been written to /media/hbai/data/code/LiteSORT/yolo_tracking/hbai_scripts/DanceTrack-train_fixed_format/deepocsort__input_1280__conf_.25__IoU_0.3/data/dancetrack0053.txt\n",
      "Data has been written to /media/hbai/data/code/LiteSORT/yolo_tracking/hbai_scripts/DanceTrack-train_fixed_format/deepocsort__input_1280__conf_.25__IoU_0.3/data/dancetrack0086.txt\n",
      "Data has been written to /media/hbai/data/code/LiteSORT/yolo_tracking/hbai_scripts/DanceTrack-train_fixed_format/deepocsort__input_1280__conf_.25__IoU_0.3/data/dancetrack0083.txt\n",
      "Data has been written to /media/hbai/data/code/LiteSORT/yolo_tracking/hbai_scripts/DanceTrack-train_fixed_format/deepocsort__input_1280__conf_.25__IoU_0.3/data/dancetrack0027.txt\n",
      "Data has been written to /media/hbai/data/code/LiteSORT/yolo_tracking/hbai_scripts/DanceTrack-train_fixed_format/deepocsort__input_1280__conf_.25__IoU_0.3/data/dancetrack0061.txt\n",
      "Data has been written to /media/hbai/data/code/LiteSORT/yolo_tracking/hbai_scripts/DanceTrack-train_fixed_format/deepocsort__input_1280__conf_.25__IoU_0.3/data/dancetrack0068.txt\n",
      "Data has been written to /media/hbai/data/code/LiteSORT/yolo_tracking/hbai_scripts/DanceTrack-train_fixed_format/deepocsort__input_1280__conf_.25__IoU_0.3/data/dancetrack0049.txt\n",
      "Data has been written to /media/hbai/data/code/LiteSORT/yolo_tracking/hbai_scripts/DanceTrack-train_fixed_format/deepocsort__input_1280__conf_.25__IoU_0.3/data/dancetrack0037.txt\n"
     ]
    },
    {
     "name": "stderr",
     "output_type": "stream",
     "text": [
      "Converting seq for deepocsort:  72%|███████▎  | 29/40 [00:00<00:00, 89.18file/s]"
     ]
    },
    {
     "name": "stdout",
     "output_type": "stream",
     "text": [
      "Data has been written to /media/hbai/data/code/LiteSORT/yolo_tracking/hbai_scripts/DanceTrack-train_fixed_format/deepocsort__input_1280__conf_.25__IoU_0.3/data/dancetrack0006.txt\n",
      "Data has been written to /media/hbai/data/code/LiteSORT/yolo_tracking/hbai_scripts/DanceTrack-train_fixed_format/deepocsort__input_1280__conf_.25__IoU_0.3/data/dancetrack0032.txt\n",
      "Data has been written to /media/hbai/data/code/LiteSORT/yolo_tracking/hbai_scripts/DanceTrack-train_fixed_format/deepocsort__input_1280__conf_.25__IoU_0.3/data/dancetrack0044.txt\n",
      "Data has been written to /media/hbai/data/code/LiteSORT/yolo_tracking/hbai_scripts/DanceTrack-train_fixed_format/deepocsort__input_1280__conf_.25__IoU_0.3/data/dancetrack0008.txt\n",
      "Data has been written to /media/hbai/data/code/LiteSORT/yolo_tracking/hbai_scripts/DanceTrack-train_fixed_format/deepocsort__input_1280__conf_.25__IoU_0.3/data/dancetrack0099.txt\n",
      "Data has been written to /media/hbai/data/code/LiteSORT/yolo_tracking/hbai_scripts/DanceTrack-train_fixed_format/deepocsort__input_1280__conf_.25__IoU_0.3/data/dancetrack0002.txt\n",
      "Data has been written to /media/hbai/data/code/LiteSORT/yolo_tracking/hbai_scripts/DanceTrack-train_fixed_format/deepocsort__input_1280__conf_.25__IoU_0.3/data/dancetrack0029.txt\n",
      "Data has been written to /media/hbai/data/code/LiteSORT/yolo_tracking/hbai_scripts/DanceTrack-train_fixed_format/deepocsort__input_1280__conf_.25__IoU_0.3/data/dancetrack0069.txt\n",
      "Data has been written to /media/hbai/data/code/LiteSORT/yolo_tracking/hbai_scripts/DanceTrack-train_fixed_format/deepocsort__input_1280__conf_.25__IoU_0.3/data/dancetrack0033.txt\n",
      "Data has been written to /media/hbai/data/code/LiteSORT/yolo_tracking/hbai_scripts/DanceTrack-train_fixed_format/deepocsort__input_1280__conf_.25__IoU_0.3/data/dancetrack0024.txt\n"
     ]
    },
    {
     "name": "stderr",
     "output_type": "stream",
     "text": [
      "Converting seq for deepocsort: 100%|██████████| 40/40 [00:00<00:00, 88.89file/s]"
     ]
    },
    {
     "name": "stdout",
     "output_type": "stream",
     "text": [
      "Data has been written to /media/hbai/data/code/LiteSORT/yolo_tracking/hbai_scripts/DanceTrack-train_fixed_format/deepocsort__input_1280__conf_.25__IoU_0.3/data/dancetrack0072.txt\n",
      "Data has been written to /media/hbai/data/code/LiteSORT/yolo_tracking/hbai_scripts/DanceTrack-train_fixed_format/deepocsort__input_1280__conf_.25__IoU_0.3/data/dancetrack0015.txt\n"
     ]
    },
    {
     "name": "stderr",
     "output_type": "stream",
     "text": [
      "\n",
      "Converting seq for deepocsort:   0%|          | 0/40 [00:00<?, ?file/s]"
     ]
    },
    {
     "name": "stdout",
     "output_type": "stream",
     "text": [
      "Data has been written to /media/hbai/data/code/LiteSORT/yolo_tracking/hbai_scripts/DanceTrack-train_fixed_format/deepocsort__input_1280__conf_.25__IoU_0.35/data/dancetrack0023.txt\n",
      "Data has been written to /media/hbai/data/code/LiteSORT/yolo_tracking/hbai_scripts/DanceTrack-train_fixed_format/deepocsort__input_1280__conf_.25__IoU_0.35/data/dancetrack0096.txt\n",
      "Data has been written to /media/hbai/data/code/LiteSORT/yolo_tracking/hbai_scripts/DanceTrack-train_fixed_format/deepocsort__input_1280__conf_.25__IoU_0.35/data/dancetrack0062.txt\n",
      "Data has been written to /media/hbai/data/code/LiteSORT/yolo_tracking/hbai_scripts/DanceTrack-train_fixed_format/deepocsort__input_1280__conf_.25__IoU_0.35/data/dancetrack0098.txt\n",
      "Data has been written to /media/hbai/data/code/LiteSORT/yolo_tracking/hbai_scripts/DanceTrack-train_fixed_format/deepocsort__input_1280__conf_.25__IoU_0.35/data/dancetrack0051.txt\n"
     ]
    },
    {
     "name": "stderr",
     "output_type": "stream",
     "text": [
      "Converting seq for deepocsort:  20%|██        | 8/40 [00:00<00:00, 77.85file/s]"
     ]
    },
    {
     "name": "stdout",
     "output_type": "stream",
     "text": [
      "Data has been written to /media/hbai/data/code/LiteSORT/yolo_tracking/hbai_scripts/DanceTrack-train_fixed_format/deepocsort__input_1280__conf_.25__IoU_0.35/data/dancetrack0080.txt\n",
      "Data has been written to /media/hbai/data/code/LiteSORT/yolo_tracking/hbai_scripts/DanceTrack-train_fixed_format/deepocsort__input_1280__conf_.25__IoU_0.35/data/dancetrack0052.txt\n",
      "Data has been written to /media/hbai/data/code/LiteSORT/yolo_tracking/hbai_scripts/DanceTrack-train_fixed_format/deepocsort__input_1280__conf_.25__IoU_0.35/data/dancetrack0055.txt\n",
      "Data has been written to /media/hbai/data/code/LiteSORT/yolo_tracking/hbai_scripts/DanceTrack-train_fixed_format/deepocsort__input_1280__conf_.25__IoU_0.35/data/dancetrack0066.txt\n",
      "Data has been written to /media/hbai/data/code/LiteSORT/yolo_tracking/hbai_scripts/DanceTrack-train_fixed_format/deepocsort__input_1280__conf_.25__IoU_0.35/data/dancetrack0016.txt\n",
      "Data has been written to /media/hbai/data/code/LiteSORT/yolo_tracking/hbai_scripts/DanceTrack-train_fixed_format/deepocsort__input_1280__conf_.25__IoU_0.35/data/dancetrack0087.txt\n",
      "Data has been written to /media/hbai/data/code/LiteSORT/yolo_tracking/hbai_scripts/DanceTrack-train_fixed_format/deepocsort__input_1280__conf_.25__IoU_0.35/data/dancetrack0039.txt\n",
      "Data has been written to /media/hbai/data/code/LiteSORT/yolo_tracking/hbai_scripts/DanceTrack-train_fixed_format/deepocsort__input_1280__conf_.25__IoU_0.35/data/dancetrack0020.txt\n"
     ]
    },
    {
     "name": "stderr",
     "output_type": "stream",
     "text": [
      "Converting seq for deepocsort:  40%|████      | 16/40 [00:00<00:00, 75.64file/s]"
     ]
    },
    {
     "name": "stdout",
     "output_type": "stream",
     "text": [
      "Data has been written to /media/hbai/data/code/LiteSORT/yolo_tracking/hbai_scripts/DanceTrack-train_fixed_format/deepocsort__input_1280__conf_.25__IoU_0.35/data/dancetrack0082.txt\n",
      "Data has been written to /media/hbai/data/code/LiteSORT/yolo_tracking/hbai_scripts/DanceTrack-train_fixed_format/deepocsort__input_1280__conf_.25__IoU_0.35/data/dancetrack0012.txt\n",
      "Data has been written to /media/hbai/data/code/LiteSORT/yolo_tracking/hbai_scripts/DanceTrack-train_fixed_format/deepocsort__input_1280__conf_.25__IoU_0.35/data/dancetrack0001.txt\n",
      "Data has been written to /media/hbai/data/code/LiteSORT/yolo_tracking/hbai_scripts/DanceTrack-train_fixed_format/deepocsort__input_1280__conf_.25__IoU_0.35/data/dancetrack0075.txt\n",
      "Data has been written to /media/hbai/data/code/LiteSORT/yolo_tracking/hbai_scripts/DanceTrack-train_fixed_format/deepocsort__input_1280__conf_.25__IoU_0.35/data/dancetrack0045.txt\n",
      "Data has been written to /media/hbai/data/code/LiteSORT/yolo_tracking/hbai_scripts/DanceTrack-train_fixed_format/deepocsort__input_1280__conf_.25__IoU_0.35/data/dancetrack0057.txt\n",
      "Data has been written to /media/hbai/data/code/LiteSORT/yolo_tracking/hbai_scripts/DanceTrack-train_fixed_format/deepocsort__input_1280__conf_.25__IoU_0.35/data/dancetrack0074.txt\n",
      "Data has been written to /media/hbai/data/code/LiteSORT/yolo_tracking/hbai_scripts/DanceTrack-train_fixed_format/deepocsort__input_1280__conf_.25__IoU_0.35/data/dancetrack0053.txt\n",
      "Data has been written to /media/hbai/data/code/LiteSORT/yolo_tracking/hbai_scripts/DanceTrack-train_fixed_format/deepocsort__input_1280__conf_.25__IoU_0.35/data/dancetrack0086.txt\n",
      "Data has been written to /media/hbai/data/code/LiteSORT/yolo_tracking/hbai_scripts/DanceTrack-train_fixed_format/deepocsort__input_1280__conf_.25__IoU_0.35/data/dancetrack0083.txt\n"
     ]
    },
    {
     "name": "stderr",
     "output_type": "stream",
     "text": [
      "Converting seq for deepocsort:  65%|██████▌   | 26/40 [00:00<00:00, 86.40file/s]"
     ]
    },
    {
     "name": "stdout",
     "output_type": "stream",
     "text": [
      "Data has been written to /media/hbai/data/code/LiteSORT/yolo_tracking/hbai_scripts/DanceTrack-train_fixed_format/deepocsort__input_1280__conf_.25__IoU_0.35/data/dancetrack0027.txt\n",
      "Data has been written to /media/hbai/data/code/LiteSORT/yolo_tracking/hbai_scripts/DanceTrack-train_fixed_format/deepocsort__input_1280__conf_.25__IoU_0.35/data/dancetrack0061.txt\n",
      "Data has been written to /media/hbai/data/code/LiteSORT/yolo_tracking/hbai_scripts/DanceTrack-train_fixed_format/deepocsort__input_1280__conf_.25__IoU_0.35/data/dancetrack0068.txt\n",
      "Data has been written to /media/hbai/data/code/LiteSORT/yolo_tracking/hbai_scripts/DanceTrack-train_fixed_format/deepocsort__input_1280__conf_.25__IoU_0.35/data/dancetrack0049.txt\n",
      "Data has been written to /media/hbai/data/code/LiteSORT/yolo_tracking/hbai_scripts/DanceTrack-train_fixed_format/deepocsort__input_1280__conf_.25__IoU_0.35/data/dancetrack0037.txt\n",
      "Data has been written to /media/hbai/data/code/LiteSORT/yolo_tracking/hbai_scripts/DanceTrack-train_fixed_format/deepocsort__input_1280__conf_.25__IoU_0.35/data/dancetrack0006.txt\n",
      "Data has been written to /media/hbai/data/code/LiteSORT/yolo_tracking/hbai_scripts/DanceTrack-train_fixed_format/deepocsort__input_1280__conf_.25__IoU_0.35/data/dancetrack0032.txt\n",
      "Data has been written to /media/hbai/data/code/LiteSORT/yolo_tracking/hbai_scripts/DanceTrack-train_fixed_format/deepocsort__input_1280__conf_.25__IoU_0.35/data/dancetrack0044.txt\n",
      "Data has been written to /media/hbai/data/code/LiteSORT/yolo_tracking/hbai_scripts/DanceTrack-train_fixed_format/deepocsort__input_1280__conf_.25__IoU_0.35/data/dancetrack0008.txt\n",
      "Data has been written to /media/hbai/data/code/LiteSORT/yolo_tracking/hbai_scripts/DanceTrack-train_fixed_format/deepocsort__input_1280__conf_.25__IoU_0.35/data/dancetrack0099.txt\n"
     ]
    },
    {
     "name": "stderr",
     "output_type": "stream",
     "text": [
      "Converting seq for deepocsort:  90%|█████████ | 36/40 [00:00<00:00, 88.29file/s]"
     ]
    },
    {
     "name": "stdout",
     "output_type": "stream",
     "text": [
      "Data has been written to /media/hbai/data/code/LiteSORT/yolo_tracking/hbai_scripts/DanceTrack-train_fixed_format/deepocsort__input_1280__conf_.25__IoU_0.35/data/dancetrack0002.txt\n",
      "Data has been written to /media/hbai/data/code/LiteSORT/yolo_tracking/hbai_scripts/DanceTrack-train_fixed_format/deepocsort__input_1280__conf_.25__IoU_0.35/data/dancetrack0029.txt\n",
      "Data has been written to /media/hbai/data/code/LiteSORT/yolo_tracking/hbai_scripts/DanceTrack-train_fixed_format/deepocsort__input_1280__conf_.25__IoU_0.35/data/dancetrack0069.txt\n",
      "Data has been written to /media/hbai/data/code/LiteSORT/yolo_tracking/hbai_scripts/DanceTrack-train_fixed_format/deepocsort__input_1280__conf_.25__IoU_0.35/data/dancetrack0033.txt\n",
      "Data has been written to /media/hbai/data/code/LiteSORT/yolo_tracking/hbai_scripts/DanceTrack-train_fixed_format/deepocsort__input_1280__conf_.25__IoU_0.35/data/dancetrack0024.txt\n",
      "Data has been written to /media/hbai/data/code/LiteSORT/yolo_tracking/hbai_scripts/DanceTrack-train_fixed_format/deepocsort__input_1280__conf_.25__IoU_0.35/data/dancetrack0072.txt\n"
     ]
    },
    {
     "name": "stderr",
     "output_type": "stream",
     "text": [
      "Converting seq for deepocsort: 100%|██████████| 40/40 [00:00<00:00, 86.79file/s]\n"
     ]
    },
    {
     "name": "stdout",
     "output_type": "stream",
     "text": [
      "Data has been written to /media/hbai/data/code/LiteSORT/yolo_tracking/hbai_scripts/DanceTrack-train_fixed_format/deepocsort__input_1280__conf_.25__IoU_0.35/data/dancetrack0015.txt\n"
     ]
    },
    {
     "name": "stderr",
     "output_type": "stream",
     "text": [
      "Converting seq for deepocsort:   0%|          | 0/40 [00:00<?, ?file/s]"
     ]
    },
    {
     "name": "stdout",
     "output_type": "stream",
     "text": [
      "Data has been written to /media/hbai/data/code/LiteSORT/yolo_tracking/hbai_scripts/DanceTrack-train_fixed_format/deepocsort__input_1280__conf_.25__IoU_0.4/data/dancetrack0023.txt\n",
      "Data has been written to /media/hbai/data/code/LiteSORT/yolo_tracking/hbai_scripts/DanceTrack-train_fixed_format/deepocsort__input_1280__conf_.25__IoU_0.4/data/dancetrack0096.txt\n",
      "Data has been written to /media/hbai/data/code/LiteSORT/yolo_tracking/hbai_scripts/DanceTrack-train_fixed_format/deepocsort__input_1280__conf_.25__IoU_0.4/data/dancetrack0062.txt\n",
      "Data has been written to /media/hbai/data/code/LiteSORT/yolo_tracking/hbai_scripts/DanceTrack-train_fixed_format/deepocsort__input_1280__conf_.25__IoU_0.4/data/dancetrack0098.txt\n"
     ]
    },
    {
     "name": "stderr",
     "output_type": "stream",
     "text": [
      "Converting seq for deepocsort:  20%|██        | 8/40 [00:00<00:00, 75.81file/s]"
     ]
    },
    {
     "name": "stdout",
     "output_type": "stream",
     "text": [
      "Data has been written to /media/hbai/data/code/LiteSORT/yolo_tracking/hbai_scripts/DanceTrack-train_fixed_format/deepocsort__input_1280__conf_.25__IoU_0.4/data/dancetrack0051.txt\n",
      "Data has been written to /media/hbai/data/code/LiteSORT/yolo_tracking/hbai_scripts/DanceTrack-train_fixed_format/deepocsort__input_1280__conf_.25__IoU_0.4/data/dancetrack0080.txt\n",
      "Data has been written to /media/hbai/data/code/LiteSORT/yolo_tracking/hbai_scripts/DanceTrack-train_fixed_format/deepocsort__input_1280__conf_.25__IoU_0.4/data/dancetrack0052.txt\n",
      "Data has been written to /media/hbai/data/code/LiteSORT/yolo_tracking/hbai_scripts/DanceTrack-train_fixed_format/deepocsort__input_1280__conf_.25__IoU_0.4/data/dancetrack0055.txt\n",
      "Data has been written to /media/hbai/data/code/LiteSORT/yolo_tracking/hbai_scripts/DanceTrack-train_fixed_format/deepocsort__input_1280__conf_.25__IoU_0.4/data/dancetrack0066.txt\n",
      "Data has been written to /media/hbai/data/code/LiteSORT/yolo_tracking/hbai_scripts/DanceTrack-train_fixed_format/deepocsort__input_1280__conf_.25__IoU_0.4/data/dancetrack0016.txt\n",
      "Data has been written to /media/hbai/data/code/LiteSORT/yolo_tracking/hbai_scripts/DanceTrack-train_fixed_format/deepocsort__input_1280__conf_.25__IoU_0.4/data/dancetrack0087.txt\n",
      "Data has been written to /media/hbai/data/code/LiteSORT/yolo_tracking/hbai_scripts/DanceTrack-train_fixed_format/deepocsort__input_1280__conf_.25__IoU_0.4/data/dancetrack0039.txt\n",
      "Data has been written to /media/hbai/data/code/LiteSORT/yolo_tracking/hbai_scripts/DanceTrack-train_fixed_format/deepocsort__input_1280__conf_.25__IoU_0.4/data/dancetrack0020.txt\n",
      "Data has been written to /media/hbai/data/code/LiteSORT/yolo_tracking/hbai_scripts/DanceTrack-train_fixed_format/deepocsort__input_1280__conf_.25__IoU_0.4/data/dancetrack0082.txt\n",
      "Data has been written to /media/hbai/data/code/LiteSORT/yolo_tracking/hbai_scripts/DanceTrack-train_fixed_format/deepocsort__input_1280__conf_.25__IoU_0.4/data/dancetrack0012.txt\n",
      "Data has been written to /media/hbai/data/code/LiteSORT/yolo_tracking/hbai_scripts/DanceTrack-train_fixed_format/deepocsort__input_1280__conf_.25__IoU_0.4/data/dancetrack0001.txt\n"
     ]
    },
    {
     "name": "stderr",
     "output_type": "stream",
     "text": [
      "Converting seq for deepocsort:  40%|████      | 16/40 [00:00<00:00, 73.11file/s]"
     ]
    },
    {
     "name": "stdout",
     "output_type": "stream",
     "text": [
      "Data has been written to /media/hbai/data/code/LiteSORT/yolo_tracking/hbai_scripts/DanceTrack-train_fixed_format/deepocsort__input_1280__conf_.25__IoU_0.4/data/dancetrack0075.txt\n",
      "Data has been written to /media/hbai/data/code/LiteSORT/yolo_tracking/hbai_scripts/DanceTrack-train_fixed_format/deepocsort__input_1280__conf_.25__IoU_0.4/data/dancetrack0045.txt\n",
      "Data has been written to /media/hbai/data/code/LiteSORT/yolo_tracking/hbai_scripts/DanceTrack-train_fixed_format/deepocsort__input_1280__conf_.25__IoU_0.4/data/dancetrack0057.txt\n",
      "Data has been written to /media/hbai/data/code/LiteSORT/yolo_tracking/hbai_scripts/DanceTrack-train_fixed_format/deepocsort__input_1280__conf_.25__IoU_0.4/data/dancetrack0074.txt\n",
      "Data has been written to /media/hbai/data/code/LiteSORT/yolo_tracking/hbai_scripts/DanceTrack-train_fixed_format/deepocsort__input_1280__conf_.25__IoU_0.4/data/dancetrack0053.txt\n"
     ]
    },
    {
     "name": "stderr",
     "output_type": "stream",
     "text": [
      "Converting seq for deepocsort:  68%|██████▊   | 27/40 [00:00<00:00, 85.31file/s]"
     ]
    },
    {
     "name": "stdout",
     "output_type": "stream",
     "text": [
      "Data has been written to /media/hbai/data/code/LiteSORT/yolo_tracking/hbai_scripts/DanceTrack-train_fixed_format/deepocsort__input_1280__conf_.25__IoU_0.4/data/dancetrack0086.txt\n",
      "Data has been written to /media/hbai/data/code/LiteSORT/yolo_tracking/hbai_scripts/DanceTrack-train_fixed_format/deepocsort__input_1280__conf_.25__IoU_0.4/data/dancetrack0083.txt\n",
      "Data has been written to /media/hbai/data/code/LiteSORT/yolo_tracking/hbai_scripts/DanceTrack-train_fixed_format/deepocsort__input_1280__conf_.25__IoU_0.4/data/dancetrack0027.txt\n",
      "Data has been written to /media/hbai/data/code/LiteSORT/yolo_tracking/hbai_scripts/DanceTrack-train_fixed_format/deepocsort__input_1280__conf_.25__IoU_0.4/data/dancetrack0061.txt\n",
      "Data has been written to /media/hbai/data/code/LiteSORT/yolo_tracking/hbai_scripts/DanceTrack-train_fixed_format/deepocsort__input_1280__conf_.25__IoU_0.4/data/dancetrack0068.txt\n",
      "Data has been written to /media/hbai/data/code/LiteSORT/yolo_tracking/hbai_scripts/DanceTrack-train_fixed_format/deepocsort__input_1280__conf_.25__IoU_0.4/data/dancetrack0049.txt\n",
      "Data has been written to /media/hbai/data/code/LiteSORT/yolo_tracking/hbai_scripts/DanceTrack-train_fixed_format/deepocsort__input_1280__conf_.25__IoU_0.4/data/dancetrack0037.txt\n",
      "Data has been written to /media/hbai/data/code/LiteSORT/yolo_tracking/hbai_scripts/DanceTrack-train_fixed_format/deepocsort__input_1280__conf_.25__IoU_0.4/data/dancetrack0006.txt\n",
      "Data has been written to /media/hbai/data/code/LiteSORT/yolo_tracking/hbai_scripts/DanceTrack-train_fixed_format/deepocsort__input_1280__conf_.25__IoU_0.4/data/dancetrack0032.txt\n",
      "Data has been written to /media/hbai/data/code/LiteSORT/yolo_tracking/hbai_scripts/DanceTrack-train_fixed_format/deepocsort__input_1280__conf_.25__IoU_0.4/data/dancetrack0044.txt\n",
      "Data has been written to /media/hbai/data/code/LiteSORT/yolo_tracking/hbai_scripts/DanceTrack-train_fixed_format/deepocsort__input_1280__conf_.25__IoU_0.4/data/dancetrack0008.txt\n",
      "Data has been written to /media/hbai/data/code/LiteSORT/yolo_tracking/hbai_scripts/DanceTrack-train_fixed_format/deepocsort__input_1280__conf_.25__IoU_0.4/data/dancetrack0099.txt\n",
      "Data has been written to /media/hbai/data/code/LiteSORT/yolo_tracking/hbai_scripts/DanceTrack-train_fixed_format/deepocsort__input_1280__conf_.25__IoU_0.4/data/dancetrack0002.txt\n"
     ]
    },
    {
     "name": "stderr",
     "output_type": "stream",
     "text": [
      "Converting seq for deepocsort:  90%|█████████ | 36/40 [00:00<00:00, 83.74file/s]"
     ]
    },
    {
     "name": "stdout",
     "output_type": "stream",
     "text": [
      "Data has been written to /media/hbai/data/code/LiteSORT/yolo_tracking/hbai_scripts/DanceTrack-train_fixed_format/deepocsort__input_1280__conf_.25__IoU_0.4/data/dancetrack0029.txt\n",
      "Data has been written to /media/hbai/data/code/LiteSORT/yolo_tracking/hbai_scripts/DanceTrack-train_fixed_format/deepocsort__input_1280__conf_.25__IoU_0.4/data/dancetrack0069.txt\n"
     ]
    },
    {
     "name": "stderr",
     "output_type": "stream",
     "text": [
      "Converting seq for deepocsort: 100%|██████████| 40/40 [00:00<00:00, 83.69file/s]"
     ]
    },
    {
     "name": "stdout",
     "output_type": "stream",
     "text": [
      "Data has been written to /media/hbai/data/code/LiteSORT/yolo_tracking/hbai_scripts/DanceTrack-train_fixed_format/deepocsort__input_1280__conf_.25__IoU_0.4/data/dancetrack0033.txt\n",
      "Data has been written to /media/hbai/data/code/LiteSORT/yolo_tracking/hbai_scripts/DanceTrack-train_fixed_format/deepocsort__input_1280__conf_.25__IoU_0.4/data/dancetrack0024.txt\n",
      "Data has been written to /media/hbai/data/code/LiteSORT/yolo_tracking/hbai_scripts/DanceTrack-train_fixed_format/deepocsort__input_1280__conf_.25__IoU_0.4/data/dancetrack0072.txt\n",
      "Data has been written to /media/hbai/data/code/LiteSORT/yolo_tracking/hbai_scripts/DanceTrack-train_fixed_format/deepocsort__input_1280__conf_.25__IoU_0.4/data/dancetrack0015.txt\n"
     ]
    },
    {
     "name": "stderr",
     "output_type": "stream",
     "text": [
      "\n",
      "Converting seq for deepocsort:   0%|          | 0/40 [00:00<?, ?file/s]"
     ]
    },
    {
     "name": "stdout",
     "output_type": "stream",
     "text": [
      "Data has been written to /media/hbai/data/code/LiteSORT/yolo_tracking/hbai_scripts/DanceTrack-train_fixed_format/deepocsort__input_1280__conf_.25__IoU_0.45/data/dancetrack0023.txt\n",
      "Data has been written to /media/hbai/data/code/LiteSORT/yolo_tracking/hbai_scripts/DanceTrack-train_fixed_format/deepocsort__input_1280__conf_.25__IoU_0.45/data/dancetrack0096.txt\n",
      "Data has been written to /media/hbai/data/code/LiteSORT/yolo_tracking/hbai_scripts/DanceTrack-train_fixed_format/deepocsort__input_1280__conf_.25__IoU_0.45/data/dancetrack0062.txt\n",
      "Data has been written to /media/hbai/data/code/LiteSORT/yolo_tracking/hbai_scripts/DanceTrack-train_fixed_format/deepocsort__input_1280__conf_.25__IoU_0.45/data/dancetrack0098.txt\n"
     ]
    },
    {
     "name": "stderr",
     "output_type": "stream",
     "text": [
      "Converting seq for deepocsort:  20%|██        | 8/40 [00:00<00:00, 76.52file/s]"
     ]
    },
    {
     "name": "stdout",
     "output_type": "stream",
     "text": [
      "Data has been written to /media/hbai/data/code/LiteSORT/yolo_tracking/hbai_scripts/DanceTrack-train_fixed_format/deepocsort__input_1280__conf_.25__IoU_0.45/data/dancetrack0051.txt\n",
      "Data has been written to /media/hbai/data/code/LiteSORT/yolo_tracking/hbai_scripts/DanceTrack-train_fixed_format/deepocsort__input_1280__conf_.25__IoU_0.45/data/dancetrack0080.txt\n",
      "Data has been written to /media/hbai/data/code/LiteSORT/yolo_tracking/hbai_scripts/DanceTrack-train_fixed_format/deepocsort__input_1280__conf_.25__IoU_0.45/data/dancetrack0052.txt\n",
      "Data has been written to /media/hbai/data/code/LiteSORT/yolo_tracking/hbai_scripts/DanceTrack-train_fixed_format/deepocsort__input_1280__conf_.25__IoU_0.45/data/dancetrack0055.txt\n",
      "Data has been written to /media/hbai/data/code/LiteSORT/yolo_tracking/hbai_scripts/DanceTrack-train_fixed_format/deepocsort__input_1280__conf_.25__IoU_0.45/data/dancetrack0066.txt\n",
      "Data has been written to /media/hbai/data/code/LiteSORT/yolo_tracking/hbai_scripts/DanceTrack-train_fixed_format/deepocsort__input_1280__conf_.25__IoU_0.45/data/dancetrack0016.txt\n",
      "Data has been written to /media/hbai/data/code/LiteSORT/yolo_tracking/hbai_scripts/DanceTrack-train_fixed_format/deepocsort__input_1280__conf_.25__IoU_0.45/data/dancetrack0087.txt\n",
      "Data has been written to /media/hbai/data/code/LiteSORT/yolo_tracking/hbai_scripts/DanceTrack-train_fixed_format/deepocsort__input_1280__conf_.25__IoU_0.45/data/dancetrack0039.txt\n"
     ]
    },
    {
     "name": "stderr",
     "output_type": "stream",
     "text": [
      "Converting seq for deepocsort:  40%|████      | 16/40 [00:00<00:00, 72.91file/s]"
     ]
    },
    {
     "name": "stdout",
     "output_type": "stream",
     "text": [
      "Data has been written to /media/hbai/data/code/LiteSORT/yolo_tracking/hbai_scripts/DanceTrack-train_fixed_format/deepocsort__input_1280__conf_.25__IoU_0.45/data/dancetrack0020.txt\n",
      "Data has been written to /media/hbai/data/code/LiteSORT/yolo_tracking/hbai_scripts/DanceTrack-train_fixed_format/deepocsort__input_1280__conf_.25__IoU_0.45/data/dancetrack0082.txt\n",
      "Data has been written to /media/hbai/data/code/LiteSORT/yolo_tracking/hbai_scripts/DanceTrack-train_fixed_format/deepocsort__input_1280__conf_.25__IoU_0.45/data/dancetrack0012.txt\n",
      "Data has been written to /media/hbai/data/code/LiteSORT/yolo_tracking/hbai_scripts/DanceTrack-train_fixed_format/deepocsort__input_1280__conf_.25__IoU_0.45/data/dancetrack0001.txt\n",
      "Data has been written to /media/hbai/data/code/LiteSORT/yolo_tracking/hbai_scripts/DanceTrack-train_fixed_format/deepocsort__input_1280__conf_.25__IoU_0.45/data/dancetrack0075.txt\n",
      "Data has been written to /media/hbai/data/code/LiteSORT/yolo_tracking/hbai_scripts/DanceTrack-train_fixed_format/deepocsort__input_1280__conf_.25__IoU_0.45/data/dancetrack0045.txt\n",
      "Data has been written to /media/hbai/data/code/LiteSORT/yolo_tracking/hbai_scripts/DanceTrack-train_fixed_format/deepocsort__input_1280__conf_.25__IoU_0.45/data/dancetrack0057.txt\n",
      "Data has been written to /media/hbai/data/code/LiteSORT/yolo_tracking/hbai_scripts/DanceTrack-train_fixed_format/deepocsort__input_1280__conf_.25__IoU_0.45/data/dancetrack0074.txt\n",
      "Data has been written to /media/hbai/data/code/LiteSORT/yolo_tracking/hbai_scripts/DanceTrack-train_fixed_format/deepocsort__input_1280__conf_.25__IoU_0.45/data/dancetrack0053.txt\n"
     ]
    },
    {
     "name": "stderr",
     "output_type": "stream",
     "text": [
      "Converting seq for deepocsort:  68%|██████▊   | 27/40 [00:00<00:00, 85.09file/s]"
     ]
    },
    {
     "name": "stdout",
     "output_type": "stream",
     "text": [
      "Data has been written to /media/hbai/data/code/LiteSORT/yolo_tracking/hbai_scripts/DanceTrack-train_fixed_format/deepocsort__input_1280__conf_.25__IoU_0.45/data/dancetrack0086.txt\n",
      "Data has been written to /media/hbai/data/code/LiteSORT/yolo_tracking/hbai_scripts/DanceTrack-train_fixed_format/deepocsort__input_1280__conf_.25__IoU_0.45/data/dancetrack0083.txt\n",
      "Data has been written to /media/hbai/data/code/LiteSORT/yolo_tracking/hbai_scripts/DanceTrack-train_fixed_format/deepocsort__input_1280__conf_.25__IoU_0.45/data/dancetrack0027.txt\n",
      "Data has been written to /media/hbai/data/code/LiteSORT/yolo_tracking/hbai_scripts/DanceTrack-train_fixed_format/deepocsort__input_1280__conf_.25__IoU_0.45/data/dancetrack0061.txt\n",
      "Data has been written to /media/hbai/data/code/LiteSORT/yolo_tracking/hbai_scripts/DanceTrack-train_fixed_format/deepocsort__input_1280__conf_.25__IoU_0.45/data/dancetrack0068.txt\n",
      "Data has been written to /media/hbai/data/code/LiteSORT/yolo_tracking/hbai_scripts/DanceTrack-train_fixed_format/deepocsort__input_1280__conf_.25__IoU_0.45/data/dancetrack0049.txt\n",
      "Data has been written to /media/hbai/data/code/LiteSORT/yolo_tracking/hbai_scripts/DanceTrack-train_fixed_format/deepocsort__input_1280__conf_.25__IoU_0.45/data/dancetrack0037.txt\n",
      "Data has been written to /media/hbai/data/code/LiteSORT/yolo_tracking/hbai_scripts/DanceTrack-train_fixed_format/deepocsort__input_1280__conf_.25__IoU_0.45/data/dancetrack0006.txt\n",
      "Data has been written to /media/hbai/data/code/LiteSORT/yolo_tracking/hbai_scripts/DanceTrack-train_fixed_format/deepocsort__input_1280__conf_.25__IoU_0.45/data/dancetrack0032.txt\n",
      "Data has been written to /media/hbai/data/code/LiteSORT/yolo_tracking/hbai_scripts/DanceTrack-train_fixed_format/deepocsort__input_1280__conf_.25__IoU_0.45/data/dancetrack0044.txt\n",
      "Data has been written to /media/hbai/data/code/LiteSORT/yolo_tracking/hbai_scripts/DanceTrack-train_fixed_format/deepocsort__input_1280__conf_.25__IoU_0.45/data/dancetrack0008.txt\n",
      "Data has been written to /media/hbai/data/code/LiteSORT/yolo_tracking/hbai_scripts/DanceTrack-train_fixed_format/deepocsort__input_1280__conf_.25__IoU_0.45/data/dancetrack0099.txt\n",
      "Data has been written to /media/hbai/data/code/LiteSORT/yolo_tracking/hbai_scripts/DanceTrack-train_fixed_format/deepocsort__input_1280__conf_.25__IoU_0.45/data/dancetrack0002.txt\n",
      "Data has been written to /media/hbai/data/code/LiteSORT/yolo_tracking/hbai_scripts/DanceTrack-train_fixed_format/deepocsort__input_1280__conf_.25__IoU_0.45/data/dancetrack0029.txt\n",
      "Data has been written to /media/hbai/data/code/LiteSORT/yolo_tracking/hbai_scripts/DanceTrack-train_fixed_format/deepocsort__input_1280__conf_.25__IoU_0.45/data/dancetrack0069.txt\n"
     ]
    },
    {
     "name": "stderr",
     "output_type": "stream",
     "text": [
      "Converting seq for deepocsort: 100%|██████████| 40/40 [00:00<00:00, 85.86file/s]\n"
     ]
    },
    {
     "name": "stdout",
     "output_type": "stream",
     "text": [
      "Data has been written to /media/hbai/data/code/LiteSORT/yolo_tracking/hbai_scripts/DanceTrack-train_fixed_format/deepocsort__input_1280__conf_.25__IoU_0.45/data/dancetrack0033.txt\n",
      "Data has been written to /media/hbai/data/code/LiteSORT/yolo_tracking/hbai_scripts/DanceTrack-train_fixed_format/deepocsort__input_1280__conf_.25__IoU_0.45/data/dancetrack0024.txt\n",
      "Data has been written to /media/hbai/data/code/LiteSORT/yolo_tracking/hbai_scripts/DanceTrack-train_fixed_format/deepocsort__input_1280__conf_.25__IoU_0.45/data/dancetrack0072.txt\n",
      "Data has been written to /media/hbai/data/code/LiteSORT/yolo_tracking/hbai_scripts/DanceTrack-train_fixed_format/deepocsort__input_1280__conf_.25__IoU_0.45/data/dancetrack0015.txt\n"
     ]
    },
    {
     "name": "stderr",
     "output_type": "stream",
     "text": [
      "Converting seq for deepocsort:   0%|          | 0/40 [00:00<?, ?file/s]"
     ]
    },
    {
     "name": "stdout",
     "output_type": "stream",
     "text": [
      "Data has been written to /media/hbai/data/code/LiteSORT/yolo_tracking/hbai_scripts/DanceTrack-train_fixed_format/deepocsort__input_1280__conf_.25__IoU_0.5/data/dancetrack0023.txt\n",
      "Data has been written to /media/hbai/data/code/LiteSORT/yolo_tracking/hbai_scripts/DanceTrack-train_fixed_format/deepocsort__input_1280__conf_.25__IoU_0.5/data/dancetrack0096.txt\n",
      "Data has been written to /media/hbai/data/code/LiteSORT/yolo_tracking/hbai_scripts/DanceTrack-train_fixed_format/deepocsort__input_1280__conf_.25__IoU_0.5/data/dancetrack0062.txt\n",
      "Data has been written to /media/hbai/data/code/LiteSORT/yolo_tracking/hbai_scripts/DanceTrack-train_fixed_format/deepocsort__input_1280__conf_.25__IoU_0.5/data/dancetrack0098.txt\n",
      "Data has been written to /media/hbai/data/code/LiteSORT/yolo_tracking/hbai_scripts/DanceTrack-train_fixed_format/deepocsort__input_1280__conf_.25__IoU_0.5/data/dancetrack0051.txt\n",
      "Data has been written to /media/hbai/data/code/LiteSORT/yolo_tracking/hbai_scripts/DanceTrack-train_fixed_format/deepocsort__input_1280__conf_.25__IoU_0.5/data/dancetrack0080.txt\n"
     ]
    },
    {
     "name": "stderr",
     "output_type": "stream",
     "text": [
      "Converting seq for deepocsort:  20%|██        | 8/40 [00:00<00:00, 78.50file/s]"
     ]
    },
    {
     "name": "stdout",
     "output_type": "stream",
     "text": [
      "Data has been written to /media/hbai/data/code/LiteSORT/yolo_tracking/hbai_scripts/DanceTrack-train_fixed_format/deepocsort__input_1280__conf_.25__IoU_0.5/data/dancetrack0052.txt\n",
      "Data has been written to /media/hbai/data/code/LiteSORT/yolo_tracking/hbai_scripts/DanceTrack-train_fixed_format/deepocsort__input_1280__conf_.25__IoU_0.5/data/dancetrack0055.txt\n",
      "Data has been written to /media/hbai/data/code/LiteSORT/yolo_tracking/hbai_scripts/DanceTrack-train_fixed_format/deepocsort__input_1280__conf_.25__IoU_0.5/data/dancetrack0066.txt\n",
      "Data has been written to /media/hbai/data/code/LiteSORT/yolo_tracking/hbai_scripts/DanceTrack-train_fixed_format/deepocsort__input_1280__conf_.25__IoU_0.5/data/dancetrack0016.txt\n",
      "Data has been written to /media/hbai/data/code/LiteSORT/yolo_tracking/hbai_scripts/DanceTrack-train_fixed_format/deepocsort__input_1280__conf_.25__IoU_0.5/data/dancetrack0087.txt\n",
      "Data has been written to /media/hbai/data/code/LiteSORT/yolo_tracking/hbai_scripts/DanceTrack-train_fixed_format/deepocsort__input_1280__conf_.25__IoU_0.5/data/dancetrack0039.txt\n",
      "Data has been written to /media/hbai/data/code/LiteSORT/yolo_tracking/hbai_scripts/DanceTrack-train_fixed_format/deepocsort__input_1280__conf_.25__IoU_0.5/data/dancetrack0020.txt\n",
      "Data has been written to /media/hbai/data/code/LiteSORT/yolo_tracking/hbai_scripts/DanceTrack-train_fixed_format/deepocsort__input_1280__conf_.25__IoU_0.5/data/dancetrack0082.txt\n",
      "Data has been written to /media/hbai/data/code/LiteSORT/yolo_tracking/hbai_scripts/DanceTrack-train_fixed_format/deepocsort__input_1280__conf_.25__IoU_0.5/data/dancetrack0012.txt\n"
     ]
    },
    {
     "name": "stderr",
     "output_type": "stream",
     "text": [
      "Converting seq for deepocsort:  40%|████      | 16/40 [00:00<00:00, 69.50file/s]"
     ]
    },
    {
     "name": "stdout",
     "output_type": "stream",
     "text": [
      "Data has been written to /media/hbai/data/code/LiteSORT/yolo_tracking/hbai_scripts/DanceTrack-train_fixed_format/deepocsort__input_1280__conf_.25__IoU_0.5/data/dancetrack0001.txt\n",
      "Data has been written to /media/hbai/data/code/LiteSORT/yolo_tracking/hbai_scripts/DanceTrack-train_fixed_format/deepocsort__input_1280__conf_.25__IoU_0.5/data/dancetrack0075.txt\n",
      "Data has been written to /media/hbai/data/code/LiteSORT/yolo_tracking/hbai_scripts/DanceTrack-train_fixed_format/deepocsort__input_1280__conf_.25__IoU_0.5/data/dancetrack0045.txt\n",
      "Data has been written to /media/hbai/data/code/LiteSORT/yolo_tracking/hbai_scripts/DanceTrack-train_fixed_format/deepocsort__input_1280__conf_.25__IoU_0.5/data/dancetrack0057.txt\n",
      "Data has been written to /media/hbai/data/code/LiteSORT/yolo_tracking/hbai_scripts/DanceTrack-train_fixed_format/deepocsort__input_1280__conf_.25__IoU_0.5/data/dancetrack0074.txt\n",
      "Data has been written to /media/hbai/data/code/LiteSORT/yolo_tracking/hbai_scripts/DanceTrack-train_fixed_format/deepocsort__input_1280__conf_.25__IoU_0.5/data/dancetrack0053.txt\n",
      "Data has been written to /media/hbai/data/code/LiteSORT/yolo_tracking/hbai_scripts/DanceTrack-train_fixed_format/deepocsort__input_1280__conf_.25__IoU_0.5/data/dancetrack0086.txt\n"
     ]
    },
    {
     "name": "stderr",
     "output_type": "stream",
     "text": [
      "Converting seq for deepocsort:  68%|██████▊   | 27/40 [00:00<00:00, 84.43file/s]"
     ]
    },
    {
     "name": "stdout",
     "output_type": "stream",
     "text": [
      "Data has been written to /media/hbai/data/code/LiteSORT/yolo_tracking/hbai_scripts/DanceTrack-train_fixed_format/deepocsort__input_1280__conf_.25__IoU_0.5/data/dancetrack0083.txt\n",
      "Data has been written to /media/hbai/data/code/LiteSORT/yolo_tracking/hbai_scripts/DanceTrack-train_fixed_format/deepocsort__input_1280__conf_.25__IoU_0.5/data/dancetrack0027.txt\n",
      "Data has been written to /media/hbai/data/code/LiteSORT/yolo_tracking/hbai_scripts/DanceTrack-train_fixed_format/deepocsort__input_1280__conf_.25__IoU_0.5/data/dancetrack0061.txt\n",
      "Data has been written to /media/hbai/data/code/LiteSORT/yolo_tracking/hbai_scripts/DanceTrack-train_fixed_format/deepocsort__input_1280__conf_.25__IoU_0.5/data/dancetrack0068.txt\n",
      "Data has been written to /media/hbai/data/code/LiteSORT/yolo_tracking/hbai_scripts/DanceTrack-train_fixed_format/deepocsort__input_1280__conf_.25__IoU_0.5/data/dancetrack0049.txt\n",
      "Data has been written to /media/hbai/data/code/LiteSORT/yolo_tracking/hbai_scripts/DanceTrack-train_fixed_format/deepocsort__input_1280__conf_.25__IoU_0.5/data/dancetrack0037.txt\n",
      "Data has been written to /media/hbai/data/code/LiteSORT/yolo_tracking/hbai_scripts/DanceTrack-train_fixed_format/deepocsort__input_1280__conf_.25__IoU_0.5/data/dancetrack0006.txt\n",
      "Data has been written to /media/hbai/data/code/LiteSORT/yolo_tracking/hbai_scripts/DanceTrack-train_fixed_format/deepocsort__input_1280__conf_.25__IoU_0.5/data/dancetrack0032.txt\n",
      "Data has been written to /media/hbai/data/code/LiteSORT/yolo_tracking/hbai_scripts/DanceTrack-train_fixed_format/deepocsort__input_1280__conf_.25__IoU_0.5/data/dancetrack0044.txt\n",
      "Data has been written to /media/hbai/data/code/LiteSORT/yolo_tracking/hbai_scripts/DanceTrack-train_fixed_format/deepocsort__input_1280__conf_.25__IoU_0.5/data/dancetrack0008.txt\n",
      "Data has been written to /media/hbai/data/code/LiteSORT/yolo_tracking/hbai_scripts/DanceTrack-train_fixed_format/deepocsort__input_1280__conf_.25__IoU_0.5/data/dancetrack0099.txt\n",
      "Data has been written to /media/hbai/data/code/LiteSORT/yolo_tracking/hbai_scripts/DanceTrack-train_fixed_format/deepocsort__input_1280__conf_.25__IoU_0.5/data/dancetrack0002.txt\n",
      "Data has been written to /media/hbai/data/code/LiteSORT/yolo_tracking/hbai_scripts/DanceTrack-train_fixed_format/deepocsort__input_1280__conf_.25__IoU_0.5/data/dancetrack0029.txt\n"
     ]
    },
    {
     "name": "stderr",
     "output_type": "stream",
     "text": [
      "Converting seq for deepocsort: 100%|██████████| 40/40 [00:00<00:00, 83.86file/s]\n"
     ]
    },
    {
     "name": "stdout",
     "output_type": "stream",
     "text": [
      "Data has been written to /media/hbai/data/code/LiteSORT/yolo_tracking/hbai_scripts/DanceTrack-train_fixed_format/deepocsort__input_1280__conf_.25__IoU_0.5/data/dancetrack0069.txt\n",
      "Data has been written to /media/hbai/data/code/LiteSORT/yolo_tracking/hbai_scripts/DanceTrack-train_fixed_format/deepocsort__input_1280__conf_.25__IoU_0.5/data/dancetrack0033.txt\n",
      "Data has been written to /media/hbai/data/code/LiteSORT/yolo_tracking/hbai_scripts/DanceTrack-train_fixed_format/deepocsort__input_1280__conf_.25__IoU_0.5/data/dancetrack0024.txt\n",
      "Data has been written to /media/hbai/data/code/LiteSORT/yolo_tracking/hbai_scripts/DanceTrack-train_fixed_format/deepocsort__input_1280__conf_.25__IoU_0.5/data/dancetrack0072.txt\n",
      "Data has been written to /media/hbai/data/code/LiteSORT/yolo_tracking/hbai_scripts/DanceTrack-train_fixed_format/deepocsort__input_1280__conf_.25__IoU_0.5/data/dancetrack0015.txt\n"
     ]
    },
    {
     "name": "stderr",
     "output_type": "stream",
     "text": [
      "Converting seq for deepocsort:   0%|          | 0/40 [00:00<?, ?file/s]"
     ]
    },
    {
     "name": "stdout",
     "output_type": "stream",
     "text": [
      "Data has been written to /media/hbai/data/code/LiteSORT/yolo_tracking/hbai_scripts/DanceTrack-train_fixed_format/deepocsort__input_1280__conf_.25__IoU_0.55/data/dancetrack0023.txt\n",
      "Data has been written to /media/hbai/data/code/LiteSORT/yolo_tracking/hbai_scripts/DanceTrack-train_fixed_format/deepocsort__input_1280__conf_.25__IoU_0.55/data/dancetrack0096.txt\n",
      "Data has been written to /media/hbai/data/code/LiteSORT/yolo_tracking/hbai_scripts/DanceTrack-train_fixed_format/deepocsort__input_1280__conf_.25__IoU_0.55/data/dancetrack0062.txt\n",
      "Data has been written to /media/hbai/data/code/LiteSORT/yolo_tracking/hbai_scripts/DanceTrack-train_fixed_format/deepocsort__input_1280__conf_.25__IoU_0.55/data/dancetrack0098.txt\n"
     ]
    },
    {
     "name": "stderr",
     "output_type": "stream",
     "text": [
      "Converting seq for deepocsort:  20%|██        | 8/40 [00:00<00:00, 78.16file/s]"
     ]
    },
    {
     "name": "stdout",
     "output_type": "stream",
     "text": [
      "Data has been written to /media/hbai/data/code/LiteSORT/yolo_tracking/hbai_scripts/DanceTrack-train_fixed_format/deepocsort__input_1280__conf_.25__IoU_0.55/data/dancetrack0051.txt\n",
      "Data has been written to /media/hbai/data/code/LiteSORT/yolo_tracking/hbai_scripts/DanceTrack-train_fixed_format/deepocsort__input_1280__conf_.25__IoU_0.55/data/dancetrack0080.txt\n",
      "Data has been written to /media/hbai/data/code/LiteSORT/yolo_tracking/hbai_scripts/DanceTrack-train_fixed_format/deepocsort__input_1280__conf_.25__IoU_0.55/data/dancetrack0052.txt\n",
      "Data has been written to /media/hbai/data/code/LiteSORT/yolo_tracking/hbai_scripts/DanceTrack-train_fixed_format/deepocsort__input_1280__conf_.25__IoU_0.55/data/dancetrack0055.txt\n",
      "Data has been written to /media/hbai/data/code/LiteSORT/yolo_tracking/hbai_scripts/DanceTrack-train_fixed_format/deepocsort__input_1280__conf_.25__IoU_0.55/data/dancetrack0066.txt\n",
      "Data has been written to /media/hbai/data/code/LiteSORT/yolo_tracking/hbai_scripts/DanceTrack-train_fixed_format/deepocsort__input_1280__conf_.25__IoU_0.55/data/dancetrack0016.txt\n",
      "Data has been written to /media/hbai/data/code/LiteSORT/yolo_tracking/hbai_scripts/DanceTrack-train_fixed_format/deepocsort__input_1280__conf_.25__IoU_0.55/data/dancetrack0087.txt\n",
      "Data has been written to /media/hbai/data/code/LiteSORT/yolo_tracking/hbai_scripts/DanceTrack-train_fixed_format/deepocsort__input_1280__conf_.25__IoU_0.55/data/dancetrack0039.txt\n"
     ]
    },
    {
     "name": "stderr",
     "output_type": "stream",
     "text": [
      "Converting seq for deepocsort:  40%|████      | 16/40 [00:00<00:00, 74.65file/s]"
     ]
    },
    {
     "name": "stdout",
     "output_type": "stream",
     "text": [
      "Data has been written to /media/hbai/data/code/LiteSORT/yolo_tracking/hbai_scripts/DanceTrack-train_fixed_format/deepocsort__input_1280__conf_.25__IoU_0.55/data/dancetrack0020.txt\n",
      "Data has been written to /media/hbai/data/code/LiteSORT/yolo_tracking/hbai_scripts/DanceTrack-train_fixed_format/deepocsort__input_1280__conf_.25__IoU_0.55/data/dancetrack0082.txt\n",
      "Data has been written to /media/hbai/data/code/LiteSORT/yolo_tracking/hbai_scripts/DanceTrack-train_fixed_format/deepocsort__input_1280__conf_.25__IoU_0.55/data/dancetrack0012.txt\n",
      "Data has been written to /media/hbai/data/code/LiteSORT/yolo_tracking/hbai_scripts/DanceTrack-train_fixed_format/deepocsort__input_1280__conf_.25__IoU_0.55/data/dancetrack0001.txt\n",
      "Data has been written to /media/hbai/data/code/LiteSORT/yolo_tracking/hbai_scripts/DanceTrack-train_fixed_format/deepocsort__input_1280__conf_.25__IoU_0.55/data/dancetrack0075.txt\n",
      "Data has been written to /media/hbai/data/code/LiteSORT/yolo_tracking/hbai_scripts/DanceTrack-train_fixed_format/deepocsort__input_1280__conf_.25__IoU_0.55/data/dancetrack0045.txt\n",
      "Data has been written to /media/hbai/data/code/LiteSORT/yolo_tracking/hbai_scripts/DanceTrack-train_fixed_format/deepocsort__input_1280__conf_.25__IoU_0.55/data/dancetrack0057.txt\n",
      "Data has been written to /media/hbai/data/code/LiteSORT/yolo_tracking/hbai_scripts/DanceTrack-train_fixed_format/deepocsort__input_1280__conf_.25__IoU_0.55/data/dancetrack0074.txt\n",
      "Data has been written to /media/hbai/data/code/LiteSORT/yolo_tracking/hbai_scripts/DanceTrack-train_fixed_format/deepocsort__input_1280__conf_.25__IoU_0.55/data/dancetrack0053.txt\n",
      "Data has been written to /media/hbai/data/code/LiteSORT/yolo_tracking/hbai_scripts/DanceTrack-train_fixed_format/deepocsort__input_1280__conf_.25__IoU_0.55/data/dancetrack0086.txt\n",
      "Data has been written to /media/hbai/data/code/LiteSORT/yolo_tracking/hbai_scripts/DanceTrack-train_fixed_format/deepocsort__input_1280__conf_.25__IoU_0.55/data/dancetrack0083.txt\n",
      "Data has been written to /media/hbai/data/code/LiteSORT/yolo_tracking/hbai_scripts/DanceTrack-train_fixed_format/deepocsort__input_1280__conf_.25__IoU_0.55/data/dancetrack0027.txt\n",
      "Data has been written to /media/hbai/data/code/LiteSORT/yolo_tracking/hbai_scripts/DanceTrack-train_fixed_format/deepocsort__input_1280__conf_.25__IoU_0.55/data/dancetrack0061.txt\n",
      "Data has been written to /media/hbai/data/code/LiteSORT/yolo_tracking/hbai_scripts/DanceTrack-train_fixed_format/deepocsort__input_1280__conf_.25__IoU_0.55/data/dancetrack0068.txt\n"
     ]
    },
    {
     "name": "stderr",
     "output_type": "stream",
     "text": [
      "Converting seq for deepocsort:  68%|██████▊   | 27/40 [00:00<00:00, 88.13file/s]"
     ]
    },
    {
     "name": "stdout",
     "output_type": "stream",
     "text": [
      "Data has been written to /media/hbai/data/code/LiteSORT/yolo_tracking/hbai_scripts/DanceTrack-train_fixed_format/deepocsort__input_1280__conf_.25__IoU_0.55/data/dancetrack0049.txt\n",
      "Data has been written to /media/hbai/data/code/LiteSORT/yolo_tracking/hbai_scripts/DanceTrack-train_fixed_format/deepocsort__input_1280__conf_.25__IoU_0.55/data/dancetrack0037.txt\n",
      "Data has been written to /media/hbai/data/code/LiteSORT/yolo_tracking/hbai_scripts/DanceTrack-train_fixed_format/deepocsort__input_1280__conf_.25__IoU_0.55/data/dancetrack0006.txt\n",
      "Data has been written to /media/hbai/data/code/LiteSORT/yolo_tracking/hbai_scripts/DanceTrack-train_fixed_format/deepocsort__input_1280__conf_.25__IoU_0.55/data/dancetrack0032.txt\n",
      "Data has been written to /media/hbai/data/code/LiteSORT/yolo_tracking/hbai_scripts/DanceTrack-train_fixed_format/deepocsort__input_1280__conf_.25__IoU_0.55/data/dancetrack0044.txt\n"
     ]
    },
    {
     "name": "stderr",
     "output_type": "stream",
     "text": [
      "Converting seq for deepocsort:  92%|█████████▎| 37/40 [00:00<00:00, 92.02file/s]"
     ]
    },
    {
     "name": "stdout",
     "output_type": "stream",
     "text": [
      "Data has been written to /media/hbai/data/code/LiteSORT/yolo_tracking/hbai_scripts/DanceTrack-train_fixed_format/deepocsort__input_1280__conf_.25__IoU_0.55/data/dancetrack0008.txt\n",
      "Data has been written to /media/hbai/data/code/LiteSORT/yolo_tracking/hbai_scripts/DanceTrack-train_fixed_format/deepocsort__input_1280__conf_.25__IoU_0.55/data/dancetrack0099.txt\n",
      "Data has been written to /media/hbai/data/code/LiteSORT/yolo_tracking/hbai_scripts/DanceTrack-train_fixed_format/deepocsort__input_1280__conf_.25__IoU_0.55/data/dancetrack0002.txt\n",
      "Data has been written to /media/hbai/data/code/LiteSORT/yolo_tracking/hbai_scripts/DanceTrack-train_fixed_format/deepocsort__input_1280__conf_.25__IoU_0.55/data/dancetrack0029.txt\n",
      "Data has been written to /media/hbai/data/code/LiteSORT/yolo_tracking/hbai_scripts/DanceTrack-train_fixed_format/deepocsort__input_1280__conf_.25__IoU_0.55/data/dancetrack0069.txt\n",
      "Data has been written to /media/hbai/data/code/LiteSORT/yolo_tracking/hbai_scripts/DanceTrack-train_fixed_format/deepocsort__input_1280__conf_.25__IoU_0.55/data/dancetrack0033.txt\n",
      "Data has been written to /media/hbai/data/code/LiteSORT/yolo_tracking/hbai_scripts/DanceTrack-train_fixed_format/deepocsort__input_1280__conf_.25__IoU_0.55/data/dancetrack0024.txt\n",
      "Data has been written to /media/hbai/data/code/LiteSORT/yolo_tracking/hbai_scripts/DanceTrack-train_fixed_format/deepocsort__input_1280__conf_.25__IoU_0.55/data/dancetrack0072.txt\n"
     ]
    },
    {
     "name": "stderr",
     "output_type": "stream",
     "text": [
      "Converting seq for deepocsort: 100%|██████████| 40/40 [00:00<00:00, 88.68file/s]\n"
     ]
    },
    {
     "name": "stdout",
     "output_type": "stream",
     "text": [
      "Data has been written to /media/hbai/data/code/LiteSORT/yolo_tracking/hbai_scripts/DanceTrack-train_fixed_format/deepocsort__input_1280__conf_.25__IoU_0.55/data/dancetrack0015.txt\n"
     ]
    },
    {
     "name": "stderr",
     "output_type": "stream",
     "text": [
      "Converting seq for deepocsort:   0%|          | 0/40 [00:00<?, ?file/s]"
     ]
    },
    {
     "name": "stdout",
     "output_type": "stream",
     "text": [
      "Data has been written to /media/hbai/data/code/LiteSORT/yolo_tracking/hbai_scripts/DanceTrack-train_fixed_format/deepocsort__input_1280__conf_.25__IoU_0.6/data/dancetrack0023.txt\n",
      "Data has been written to /media/hbai/data/code/LiteSORT/yolo_tracking/hbai_scripts/DanceTrack-train_fixed_format/deepocsort__input_1280__conf_.25__IoU_0.6/data/dancetrack0096.txt\n",
      "Data has been written to /media/hbai/data/code/LiteSORT/yolo_tracking/hbai_scripts/DanceTrack-train_fixed_format/deepocsort__input_1280__conf_.25__IoU_0.6/data/dancetrack0062.txt\n",
      "Data has been written to /media/hbai/data/code/LiteSORT/yolo_tracking/hbai_scripts/DanceTrack-train_fixed_format/deepocsort__input_1280__conf_.25__IoU_0.6/data/dancetrack0098.txt\n"
     ]
    },
    {
     "name": "stderr",
     "output_type": "stream",
     "text": [
      "Converting seq for deepocsort:  22%|██▎       | 9/40 [00:00<00:00, 86.88file/s]"
     ]
    },
    {
     "name": "stdout",
     "output_type": "stream",
     "text": [
      "Data has been written to /media/hbai/data/code/LiteSORT/yolo_tracking/hbai_scripts/DanceTrack-train_fixed_format/deepocsort__input_1280__conf_.25__IoU_0.6/data/dancetrack0051.txt\n",
      "Data has been written to /media/hbai/data/code/LiteSORT/yolo_tracking/hbai_scripts/DanceTrack-train_fixed_format/deepocsort__input_1280__conf_.25__IoU_0.6/data/dancetrack0080.txt\n",
      "Data has been written to /media/hbai/data/code/LiteSORT/yolo_tracking/hbai_scripts/DanceTrack-train_fixed_format/deepocsort__input_1280__conf_.25__IoU_0.6/data/dancetrack0052.txt\n",
      "Data has been written to /media/hbai/data/code/LiteSORT/yolo_tracking/hbai_scripts/DanceTrack-train_fixed_format/deepocsort__input_1280__conf_.25__IoU_0.6/data/dancetrack0055.txt\n",
      "Data has been written to /media/hbai/data/code/LiteSORT/yolo_tracking/hbai_scripts/DanceTrack-train_fixed_format/deepocsort__input_1280__conf_.25__IoU_0.6/data/dancetrack0066.txt\n",
      "Data has been written to /media/hbai/data/code/LiteSORT/yolo_tracking/hbai_scripts/DanceTrack-train_fixed_format/deepocsort__input_1280__conf_.25__IoU_0.6/data/dancetrack0016.txt\n",
      "Data has been written to /media/hbai/data/code/LiteSORT/yolo_tracking/hbai_scripts/DanceTrack-train_fixed_format/deepocsort__input_1280__conf_.25__IoU_0.6/data/dancetrack0087.txt\n",
      "Data has been written to /media/hbai/data/code/LiteSORT/yolo_tracking/hbai_scripts/DanceTrack-train_fixed_format/deepocsort__input_1280__conf_.25__IoU_0.6/data/dancetrack0039.txt\n",
      "Data has been written to /media/hbai/data/code/LiteSORT/yolo_tracking/hbai_scripts/DanceTrack-train_fixed_format/deepocsort__input_1280__conf_.25__IoU_0.6/data/dancetrack0020.txt\n",
      "Data has been written to /media/hbai/data/code/LiteSORT/yolo_tracking/hbai_scripts/DanceTrack-train_fixed_format/deepocsort__input_1280__conf_.25__IoU_0.6/data/dancetrack0082.txt\n",
      "Data has been written to /media/hbai/data/code/LiteSORT/yolo_tracking/hbai_scripts/DanceTrack-train_fixed_format/deepocsort__input_1280__conf_.25__IoU_0.6/data/dancetrack0012.txt\n",
      "Data has been written to /media/hbai/data/code/LiteSORT/yolo_tracking/hbai_scripts/DanceTrack-train_fixed_format/deepocsort__input_1280__conf_.25__IoU_0.6/data/dancetrack0001.txt\n",
      "Data has been written to /media/hbai/data/code/LiteSORT/yolo_tracking/hbai_scripts/DanceTrack-train_fixed_format/deepocsort__input_1280__conf_.25__IoU_0.6/data/dancetrack0075.txt\n"
     ]
    },
    {
     "name": "stderr",
     "output_type": "stream",
     "text": [
      "Converting seq for deepocsort:  45%|████▌     | 18/40 [00:00<00:00, 79.74file/s]"
     ]
    },
    {
     "name": "stdout",
     "output_type": "stream",
     "text": [
      "Data has been written to /media/hbai/data/code/LiteSORT/yolo_tracking/hbai_scripts/DanceTrack-train_fixed_format/deepocsort__input_1280__conf_.25__IoU_0.6/data/dancetrack0045.txt\n",
      "Data has been written to /media/hbai/data/code/LiteSORT/yolo_tracking/hbai_scripts/DanceTrack-train_fixed_format/deepocsort__input_1280__conf_.25__IoU_0.6/data/dancetrack0057.txt\n",
      "Data has been written to /media/hbai/data/code/LiteSORT/yolo_tracking/hbai_scripts/DanceTrack-train_fixed_format/deepocsort__input_1280__conf_.25__IoU_0.6/data/dancetrack0074.txt\n",
      "Data has been written to /media/hbai/data/code/LiteSORT/yolo_tracking/hbai_scripts/DanceTrack-train_fixed_format/deepocsort__input_1280__conf_.25__IoU_0.6/data/dancetrack0053.txt\n",
      "Data has been written to /media/hbai/data/code/LiteSORT/yolo_tracking/hbai_scripts/DanceTrack-train_fixed_format/deepocsort__input_1280__conf_.25__IoU_0.6/data/dancetrack0086.txt\n",
      "Data has been written to /media/hbai/data/code/LiteSORT/yolo_tracking/hbai_scripts/DanceTrack-train_fixed_format/deepocsort__input_1280__conf_.25__IoU_0.6/data/dancetrack0083.txt\n",
      "Data has been written to /media/hbai/data/code/LiteSORT/yolo_tracking/hbai_scripts/DanceTrack-train_fixed_format/deepocsort__input_1280__conf_.25__IoU_0.6/data/dancetrack0027.txt\n",
      "Data has been written to /media/hbai/data/code/LiteSORT/yolo_tracking/hbai_scripts/DanceTrack-train_fixed_format/deepocsort__input_1280__conf_.25__IoU_0.6/data/dancetrack0061.txt\n",
      "Data has been written to /media/hbai/data/code/LiteSORT/yolo_tracking/hbai_scripts/DanceTrack-train_fixed_format/deepocsort__input_1280__conf_.25__IoU_0.6/data/dancetrack0068.txt\n",
      "Data has been written to /media/hbai/data/code/LiteSORT/yolo_tracking/hbai_scripts/DanceTrack-train_fixed_format/deepocsort__input_1280__conf_.25__IoU_0.6/data/dancetrack0049.txt\n",
      "Data has been written to /media/hbai/data/code/LiteSORT/yolo_tracking/hbai_scripts/DanceTrack-train_fixed_format/deepocsort__input_1280__conf_.25__IoU_0.6/data/dancetrack0037.txt\n",
      "Data has been written to /media/hbai/data/code/LiteSORT/yolo_tracking/hbai_scripts/DanceTrack-train_fixed_format/deepocsort__input_1280__conf_.25__IoU_0.6/data/dancetrack0006.txt\n"
     ]
    },
    {
     "name": "stderr",
     "output_type": "stream",
     "text": [
      "Converting seq for deepocsort:  75%|███████▌  | 30/40 [00:00<00:00, 95.61file/s]"
     ]
    },
    {
     "name": "stdout",
     "output_type": "stream",
     "text": [
      "Data has been written to /media/hbai/data/code/LiteSORT/yolo_tracking/hbai_scripts/DanceTrack-train_fixed_format/deepocsort__input_1280__conf_.25__IoU_0.6/data/dancetrack0032.txt\n",
      "Data has been written to /media/hbai/data/code/LiteSORT/yolo_tracking/hbai_scripts/DanceTrack-train_fixed_format/deepocsort__input_1280__conf_.25__IoU_0.6/data/dancetrack0044.txt\n",
      "Data has been written to /media/hbai/data/code/LiteSORT/yolo_tracking/hbai_scripts/DanceTrack-train_fixed_format/deepocsort__input_1280__conf_.25__IoU_0.6/data/dancetrack0008.txt\n",
      "Data has been written to /media/hbai/data/code/LiteSORT/yolo_tracking/hbai_scripts/DanceTrack-train_fixed_format/deepocsort__input_1280__conf_.25__IoU_0.6/data/dancetrack0099.txt\n",
      "Data has been written to /media/hbai/data/code/LiteSORT/yolo_tracking/hbai_scripts/DanceTrack-train_fixed_format/deepocsort__input_1280__conf_.25__IoU_0.6/data/dancetrack0002.txt\n",
      "Data has been written to /media/hbai/data/code/LiteSORT/yolo_tracking/hbai_scripts/DanceTrack-train_fixed_format/deepocsort__input_1280__conf_.25__IoU_0.6/data/dancetrack0029.txt\n",
      "Data has been written to /media/hbai/data/code/LiteSORT/yolo_tracking/hbai_scripts/DanceTrack-train_fixed_format/deepocsort__input_1280__conf_.25__IoU_0.6/data/dancetrack0069.txt\n",
      "Data has been written to /media/hbai/data/code/LiteSORT/yolo_tracking/hbai_scripts/DanceTrack-train_fixed_format/deepocsort__input_1280__conf_.25__IoU_0.6/data/dancetrack0033.txt\n",
      "Data has been written to /media/hbai/data/code/LiteSORT/yolo_tracking/hbai_scripts/DanceTrack-train_fixed_format/deepocsort__input_1280__conf_.25__IoU_0.6/data/dancetrack0024.txt\n",
      "Data has been written to /media/hbai/data/code/LiteSORT/yolo_tracking/hbai_scripts/DanceTrack-train_fixed_format/deepocsort__input_1280__conf_.25__IoU_0.6/data/dancetrack0072.txt\n"
     ]
    },
    {
     "name": "stderr",
     "output_type": "stream",
     "text": [
      "Converting seq for deepocsort: 100%|██████████| 40/40 [00:00<00:00, 94.28file/s]\n"
     ]
    },
    {
     "name": "stdout",
     "output_type": "stream",
     "text": [
      "Data has been written to /media/hbai/data/code/LiteSORT/yolo_tracking/hbai_scripts/DanceTrack-train_fixed_format/deepocsort__input_1280__conf_.25__IoU_0.6/data/dancetrack0015.txt\n"
     ]
    },
    {
     "name": "stderr",
     "output_type": "stream",
     "text": [
      "Converting seq for deepocsort:   0%|          | 0/40 [00:00<?, ?file/s]"
     ]
    },
    {
     "name": "stdout",
     "output_type": "stream",
     "text": [
      "Data has been written to /media/hbai/data/code/LiteSORT/yolo_tracking/hbai_scripts/DanceTrack-train_fixed_format/deepocsort__input_1280__conf_.25__IoU_0.65/data/dancetrack0023.txt\n",
      "Data has been written to /media/hbai/data/code/LiteSORT/yolo_tracking/hbai_scripts/DanceTrack-train_fixed_format/deepocsort__input_1280__conf_.25__IoU_0.65/data/dancetrack0096.txt\n",
      "Data has been written to /media/hbai/data/code/LiteSORT/yolo_tracking/hbai_scripts/DanceTrack-train_fixed_format/deepocsort__input_1280__conf_.25__IoU_0.65/data/dancetrack0062.txt\n",
      "Data has been written to /media/hbai/data/code/LiteSORT/yolo_tracking/hbai_scripts/DanceTrack-train_fixed_format/deepocsort__input_1280__conf_.25__IoU_0.65/data/dancetrack0098.txt\n",
      "Data has been written to /media/hbai/data/code/LiteSORT/yolo_tracking/hbai_scripts/DanceTrack-train_fixed_format/deepocsort__input_1280__conf_.25__IoU_0.65/data/dancetrack0051.txt\n",
      "Data has been written to /media/hbai/data/code/LiteSORT/yolo_tracking/hbai_scripts/DanceTrack-train_fixed_format/deepocsort__input_1280__conf_.25__IoU_0.65/data/dancetrack0080.txt\n",
      "Data has been written to /media/hbai/data/code/LiteSORT/yolo_tracking/hbai_scripts/DanceTrack-train_fixed_format/deepocsort__input_1280__conf_.25__IoU_0.65/data/dancetrack0052.txt\n",
      "Data has been written to /media/hbai/data/code/LiteSORT/yolo_tracking/hbai_scripts/DanceTrack-train_fixed_format/deepocsort__input_1280__conf_.25__IoU_0.65/data/dancetrack0055.txt\n",
      "Data has been written to /media/hbai/data/code/LiteSORT/yolo_tracking/hbai_scripts/DanceTrack-train_fixed_format/deepocsort__input_1280__conf_.25__IoU_0.65/data/dancetrack0066.txt\n"
     ]
    },
    {
     "name": "stderr",
     "output_type": "stream",
     "text": [
      "Converting seq for deepocsort:  25%|██▌       | 10/40 [00:00<00:00, 86.07file/s]"
     ]
    },
    {
     "name": "stdout",
     "output_type": "stream",
     "text": [
      "Data has been written to /media/hbai/data/code/LiteSORT/yolo_tracking/hbai_scripts/DanceTrack-train_fixed_format/deepocsort__input_1280__conf_.25__IoU_0.65/data/dancetrack0016.txt\n",
      "Data has been written to /media/hbai/data/code/LiteSORT/yolo_tracking/hbai_scripts/DanceTrack-train_fixed_format/deepocsort__input_1280__conf_.25__IoU_0.65/data/dancetrack0087.txt\n",
      "Data has been written to /media/hbai/data/code/LiteSORT/yolo_tracking/hbai_scripts/DanceTrack-train_fixed_format/deepocsort__input_1280__conf_.25__IoU_0.65/data/dancetrack0039.txt\n",
      "Data has been written to /media/hbai/data/code/LiteSORT/yolo_tracking/hbai_scripts/DanceTrack-train_fixed_format/deepocsort__input_1280__conf_.25__IoU_0.65/data/dancetrack0020.txt\n",
      "Data has been written to /media/hbai/data/code/LiteSORT/yolo_tracking/hbai_scripts/DanceTrack-train_fixed_format/deepocsort__input_1280__conf_.25__IoU_0.65/data/dancetrack0082.txt\n",
      "Data has been written to /media/hbai/data/code/LiteSORT/yolo_tracking/hbai_scripts/DanceTrack-train_fixed_format/deepocsort__input_1280__conf_.25__IoU_0.65/data/dancetrack0012.txt\n",
      "Data has been written to /media/hbai/data/code/LiteSORT/yolo_tracking/hbai_scripts/DanceTrack-train_fixed_format/deepocsort__input_1280__conf_.25__IoU_0.65/data/dancetrack0001.txt\n",
      "Data has been written to /media/hbai/data/code/LiteSORT/yolo_tracking/hbai_scripts/DanceTrack-train_fixed_format/deepocsort__input_1280__conf_.25__IoU_0.65/data/dancetrack0075.txt\n"
     ]
    },
    {
     "name": "stderr",
     "output_type": "stream",
     "text": [
      "Converting seq for deepocsort:  48%|████▊     | 19/40 [00:00<00:00, 85.10file/s]"
     ]
    },
    {
     "name": "stdout",
     "output_type": "stream",
     "text": [
      "Data has been written to /media/hbai/data/code/LiteSORT/yolo_tracking/hbai_scripts/DanceTrack-train_fixed_format/deepocsort__input_1280__conf_.25__IoU_0.65/data/dancetrack0045.txt\n",
      "Data has been written to /media/hbai/data/code/LiteSORT/yolo_tracking/hbai_scripts/DanceTrack-train_fixed_format/deepocsort__input_1280__conf_.25__IoU_0.65/data/dancetrack0057.txt\n",
      "Data has been written to /media/hbai/data/code/LiteSORT/yolo_tracking/hbai_scripts/DanceTrack-train_fixed_format/deepocsort__input_1280__conf_.25__IoU_0.65/data/dancetrack0074.txt\n",
      "Data has been written to /media/hbai/data/code/LiteSORT/yolo_tracking/hbai_scripts/DanceTrack-train_fixed_format/deepocsort__input_1280__conf_.25__IoU_0.65/data/dancetrack0053.txt\n",
      "Data has been written to /media/hbai/data/code/LiteSORT/yolo_tracking/hbai_scripts/DanceTrack-train_fixed_format/deepocsort__input_1280__conf_.25__IoU_0.65/data/dancetrack0086.txt\n",
      "Data has been written to /media/hbai/data/code/LiteSORT/yolo_tracking/hbai_scripts/DanceTrack-train_fixed_format/deepocsort__input_1280__conf_.25__IoU_0.65/data/dancetrack0083.txt\n",
      "Data has been written to /media/hbai/data/code/LiteSORT/yolo_tracking/hbai_scripts/DanceTrack-train_fixed_format/deepocsort__input_1280__conf_.25__IoU_0.65/data/dancetrack0027.txt\n",
      "Data has been written to /media/hbai/data/code/LiteSORT/yolo_tracking/hbai_scripts/DanceTrack-train_fixed_format/deepocsort__input_1280__conf_.25__IoU_0.65/data/dancetrack0061.txt\n",
      "Data has been written to /media/hbai/data/code/LiteSORT/yolo_tracking/hbai_scripts/DanceTrack-train_fixed_format/deepocsort__input_1280__conf_.25__IoU_0.65/data/dancetrack0068.txt\n",
      "Data has been written to /media/hbai/data/code/LiteSORT/yolo_tracking/hbai_scripts/DanceTrack-train_fixed_format/deepocsort__input_1280__conf_.25__IoU_0.65/data/dancetrack0049.txt\n",
      "Data has been written to /media/hbai/data/code/LiteSORT/yolo_tracking/hbai_scripts/DanceTrack-train_fixed_format/deepocsort__input_1280__conf_.25__IoU_0.65/data/dancetrack0037.txt\n",
      "Data has been written to /media/hbai/data/code/LiteSORT/yolo_tracking/hbai_scripts/DanceTrack-train_fixed_format/deepocsort__input_1280__conf_.25__IoU_0.65/data/dancetrack0006.txt\n"
     ]
    },
    {
     "name": "stderr",
     "output_type": "stream",
     "text": [
      "Converting seq for deepocsort:  78%|███████▊  | 31/40 [00:00<00:00, 97.72file/s]"
     ]
    },
    {
     "name": "stdout",
     "output_type": "stream",
     "text": [
      "Data has been written to /media/hbai/data/code/LiteSORT/yolo_tracking/hbai_scripts/DanceTrack-train_fixed_format/deepocsort__input_1280__conf_.25__IoU_0.65/data/dancetrack0032.txt\n",
      "Data has been written to /media/hbai/data/code/LiteSORT/yolo_tracking/hbai_scripts/DanceTrack-train_fixed_format/deepocsort__input_1280__conf_.25__IoU_0.65/data/dancetrack0044.txt\n",
      "Data has been written to /media/hbai/data/code/LiteSORT/yolo_tracking/hbai_scripts/DanceTrack-train_fixed_format/deepocsort__input_1280__conf_.25__IoU_0.65/data/dancetrack0008.txt\n",
      "Data has been written to /media/hbai/data/code/LiteSORT/yolo_tracking/hbai_scripts/DanceTrack-train_fixed_format/deepocsort__input_1280__conf_.25__IoU_0.65/data/dancetrack0099.txt\n",
      "Data has been written to /media/hbai/data/code/LiteSORT/yolo_tracking/hbai_scripts/DanceTrack-train_fixed_format/deepocsort__input_1280__conf_.25__IoU_0.65/data/dancetrack0002.txt\n",
      "Data has been written to /media/hbai/data/code/LiteSORT/yolo_tracking/hbai_scripts/DanceTrack-train_fixed_format/deepocsort__input_1280__conf_.25__IoU_0.65/data/dancetrack0029.txt\n",
      "Data has been written to /media/hbai/data/code/LiteSORT/yolo_tracking/hbai_scripts/DanceTrack-train_fixed_format/deepocsort__input_1280__conf_.25__IoU_0.65/data/dancetrack0069.txt\n",
      "Data has been written to /media/hbai/data/code/LiteSORT/yolo_tracking/hbai_scripts/DanceTrack-train_fixed_format/deepocsort__input_1280__conf_.25__IoU_0.65/data/dancetrack0033.txt\n",
      "Data has been written to /media/hbai/data/code/LiteSORT/yolo_tracking/hbai_scripts/DanceTrack-train_fixed_format/deepocsort__input_1280__conf_.25__IoU_0.65/data/dancetrack0024.txt\n",
      "Data has been written to /media/hbai/data/code/LiteSORT/yolo_tracking/hbai_scripts/DanceTrack-train_fixed_format/deepocsort__input_1280__conf_.25__IoU_0.65/data/dancetrack0072.txt\n"
     ]
    },
    {
     "name": "stderr",
     "output_type": "stream",
     "text": [
      "Converting seq for deepocsort: 100%|██████████| 40/40 [00:00<00:00, 96.40file/s]\n"
     ]
    },
    {
     "name": "stdout",
     "output_type": "stream",
     "text": [
      "Data has been written to /media/hbai/data/code/LiteSORT/yolo_tracking/hbai_scripts/DanceTrack-train_fixed_format/deepocsort__input_1280__conf_.25__IoU_0.65/data/dancetrack0015.txt\n"
     ]
    },
    {
     "name": "stderr",
     "output_type": "stream",
     "text": [
      "Converting seq for deepocsort:   0%|          | 0/40 [00:00<?, ?file/s]"
     ]
    },
    {
     "name": "stdout",
     "output_type": "stream",
     "text": [
      "Data has been written to /media/hbai/data/code/LiteSORT/yolo_tracking/hbai_scripts/DanceTrack-train_fixed_format/deepocsort__input_1280__conf_.25__IoU_0.7/data/dancetrack0023.txt\n",
      "Data has been written to /media/hbai/data/code/LiteSORT/yolo_tracking/hbai_scripts/DanceTrack-train_fixed_format/deepocsort__input_1280__conf_.25__IoU_0.7/data/dancetrack0096.txt\n",
      "Data has been written to /media/hbai/data/code/LiteSORT/yolo_tracking/hbai_scripts/DanceTrack-train_fixed_format/deepocsort__input_1280__conf_.25__IoU_0.7/data/dancetrack0062.txt\n",
      "Data has been written to /media/hbai/data/code/LiteSORT/yolo_tracking/hbai_scripts/DanceTrack-train_fixed_format/deepocsort__input_1280__conf_.25__IoU_0.7/data/dancetrack0098.txt\n",
      "Data has been written to /media/hbai/data/code/LiteSORT/yolo_tracking/hbai_scripts/DanceTrack-train_fixed_format/deepocsort__input_1280__conf_.25__IoU_0.7/data/dancetrack0051.txt\n",
      "Data has been written to /media/hbai/data/code/LiteSORT/yolo_tracking/hbai_scripts/DanceTrack-train_fixed_format/deepocsort__input_1280__conf_.25__IoU_0.7/data/dancetrack0080.txt\n",
      "Data has been written to /media/hbai/data/code/LiteSORT/yolo_tracking/hbai_scripts/DanceTrack-train_fixed_format/deepocsort__input_1280__conf_.25__IoU_0.7/data/dancetrack0052.txt\n",
      "Data has been written to /media/hbai/data/code/LiteSORT/yolo_tracking/hbai_scripts/DanceTrack-train_fixed_format/deepocsort__input_1280__conf_.25__IoU_0.7/data/dancetrack0055.txt\n",
      "Data has been written to /media/hbai/data/code/LiteSORT/yolo_tracking/hbai_scripts/DanceTrack-train_fixed_format/deepocsort__input_1280__conf_.25__IoU_0.7/data/dancetrack0066.txt\n"
     ]
    },
    {
     "name": "stderr",
     "output_type": "stream",
     "text": [
      "Converting seq for deepocsort:  25%|██▌       | 10/40 [00:00<00:00, 89.50file/s]"
     ]
    },
    {
     "name": "stdout",
     "output_type": "stream",
     "text": [
      "Data has been written to /media/hbai/data/code/LiteSORT/yolo_tracking/hbai_scripts/DanceTrack-train_fixed_format/deepocsort__input_1280__conf_.25__IoU_0.7/data/dancetrack0016.txt\n",
      "Data has been written to /media/hbai/data/code/LiteSORT/yolo_tracking/hbai_scripts/DanceTrack-train_fixed_format/deepocsort__input_1280__conf_.25__IoU_0.7/data/dancetrack0087.txt\n",
      "Data has been written to /media/hbai/data/code/LiteSORT/yolo_tracking/hbai_scripts/DanceTrack-train_fixed_format/deepocsort__input_1280__conf_.25__IoU_0.7/data/dancetrack0039.txt\n",
      "Data has been written to /media/hbai/data/code/LiteSORT/yolo_tracking/hbai_scripts/DanceTrack-train_fixed_format/deepocsort__input_1280__conf_.25__IoU_0.7/data/dancetrack0020.txt\n",
      "Data has been written to /media/hbai/data/code/LiteSORT/yolo_tracking/hbai_scripts/DanceTrack-train_fixed_format/deepocsort__input_1280__conf_.25__IoU_0.7/data/dancetrack0082.txt\n",
      "Data has been written to /media/hbai/data/code/LiteSORT/yolo_tracking/hbai_scripts/DanceTrack-train_fixed_format/deepocsort__input_1280__conf_.25__IoU_0.7/data/dancetrack0012.txt\n",
      "Data has been written to /media/hbai/data/code/LiteSORT/yolo_tracking/hbai_scripts/DanceTrack-train_fixed_format/deepocsort__input_1280__conf_.25__IoU_0.7/data/dancetrack0001.txt\n",
      "Data has been written to /media/hbai/data/code/LiteSORT/yolo_tracking/hbai_scripts/DanceTrack-train_fixed_format/deepocsort__input_1280__conf_.25__IoU_0.7/data/dancetrack0075.txt\n"
     ]
    },
    {
     "name": "stderr",
     "output_type": "stream",
     "text": [
      "Converting seq for deepocsort:  48%|████▊     | 19/40 [00:00<00:00, 89.41file/s]"
     ]
    },
    {
     "name": "stdout",
     "output_type": "stream",
     "text": [
      "Data has been written to /media/hbai/data/code/LiteSORT/yolo_tracking/hbai_scripts/DanceTrack-train_fixed_format/deepocsort__input_1280__conf_.25__IoU_0.7/data/dancetrack0045.txt\n",
      "Data has been written to /media/hbai/data/code/LiteSORT/yolo_tracking/hbai_scripts/DanceTrack-train_fixed_format/deepocsort__input_1280__conf_.25__IoU_0.7/data/dancetrack0057.txt\n",
      "Data has been written to /media/hbai/data/code/LiteSORT/yolo_tracking/hbai_scripts/DanceTrack-train_fixed_format/deepocsort__input_1280__conf_.25__IoU_0.7/data/dancetrack0074.txt\n",
      "Data has been written to /media/hbai/data/code/LiteSORT/yolo_tracking/hbai_scripts/DanceTrack-train_fixed_format/deepocsort__input_1280__conf_.25__IoU_0.7/data/dancetrack0053.txt\n",
      "Data has been written to /media/hbai/data/code/LiteSORT/yolo_tracking/hbai_scripts/DanceTrack-train_fixed_format/deepocsort__input_1280__conf_.25__IoU_0.7/data/dancetrack0086.txt\n",
      "Data has been written to /media/hbai/data/code/LiteSORT/yolo_tracking/hbai_scripts/DanceTrack-train_fixed_format/deepocsort__input_1280__conf_.25__IoU_0.7/data/dancetrack0083.txt\n",
      "Data has been written to /media/hbai/data/code/LiteSORT/yolo_tracking/hbai_scripts/DanceTrack-train_fixed_format/deepocsort__input_1280__conf_.25__IoU_0.7/data/dancetrack0027.txt\n",
      "Data has been written to /media/hbai/data/code/LiteSORT/yolo_tracking/hbai_scripts/DanceTrack-train_fixed_format/deepocsort__input_1280__conf_.25__IoU_0.7/data/dancetrack0061.txt\n",
      "Data has been written to /media/hbai/data/code/LiteSORT/yolo_tracking/hbai_scripts/DanceTrack-train_fixed_format/deepocsort__input_1280__conf_.25__IoU_0.7/data/dancetrack0068.txt\n",
      "Data has been written to /media/hbai/data/code/LiteSORT/yolo_tracking/hbai_scripts/DanceTrack-train_fixed_format/deepocsort__input_1280__conf_.25__IoU_0.7/data/dancetrack0049.txt\n",
      "Data has been written to /media/hbai/data/code/LiteSORT/yolo_tracking/hbai_scripts/DanceTrack-train_fixed_format/deepocsort__input_1280__conf_.25__IoU_0.7/data/dancetrack0037.txt\n",
      "Data has been written to /media/hbai/data/code/LiteSORT/yolo_tracking/hbai_scripts/DanceTrack-train_fixed_format/deepocsort__input_1280__conf_.25__IoU_0.7/data/dancetrack0006.txt\n",
      "Data has been written to /media/hbai/data/code/LiteSORT/yolo_tracking/hbai_scripts/DanceTrack-train_fixed_format/deepocsort__input_1280__conf_.25__IoU_0.7/data/dancetrack0032.txt\n",
      "Data has been written to /media/hbai/data/code/LiteSORT/yolo_tracking/hbai_scripts/DanceTrack-train_fixed_format/deepocsort__input_1280__conf_.25__IoU_0.7/data/dancetrack0044.txt\n"
     ]
    },
    {
     "name": "stderr",
     "output_type": "stream",
     "text": [
      "Converting seq for deepocsort:  80%|████████  | 32/40 [00:00<00:00, 104.14file/s]"
     ]
    },
    {
     "name": "stdout",
     "output_type": "stream",
     "text": [
      "Data has been written to /media/hbai/data/code/LiteSORT/yolo_tracking/hbai_scripts/DanceTrack-train_fixed_format/deepocsort__input_1280__conf_.25__IoU_0.7/data/dancetrack0008.txt\n",
      "Data has been written to /media/hbai/data/code/LiteSORT/yolo_tracking/hbai_scripts/DanceTrack-train_fixed_format/deepocsort__input_1280__conf_.25__IoU_0.7/data/dancetrack0099.txt\n",
      "Data has been written to /media/hbai/data/code/LiteSORT/yolo_tracking/hbai_scripts/DanceTrack-train_fixed_format/deepocsort__input_1280__conf_.25__IoU_0.7/data/dancetrack0002.txt\n",
      "Data has been written to /media/hbai/data/code/LiteSORT/yolo_tracking/hbai_scripts/DanceTrack-train_fixed_format/deepocsort__input_1280__conf_.25__IoU_0.7/data/dancetrack0029.txt\n",
      "Data has been written to /media/hbai/data/code/LiteSORT/yolo_tracking/hbai_scripts/DanceTrack-train_fixed_format/deepocsort__input_1280__conf_.25__IoU_0.7/data/dancetrack0069.txt\n",
      "Data has been written to /media/hbai/data/code/LiteSORT/yolo_tracking/hbai_scripts/DanceTrack-train_fixed_format/deepocsort__input_1280__conf_.25__IoU_0.7/data/dancetrack0033.txt\n",
      "Data has been written to /media/hbai/data/code/LiteSORT/yolo_tracking/hbai_scripts/DanceTrack-train_fixed_format/deepocsort__input_1280__conf_.25__IoU_0.7/data/dancetrack0024.txt\n",
      "Data has been written to /media/hbai/data/code/LiteSORT/yolo_tracking/hbai_scripts/DanceTrack-train_fixed_format/deepocsort__input_1280__conf_.25__IoU_0.7/data/dancetrack0072.txt\n"
     ]
    },
    {
     "name": "stderr",
     "output_type": "stream",
     "text": [
      "Converting seq for deepocsort: 100%|██████████| 40/40 [00:00<00:00, 101.63file/s]\n"
     ]
    },
    {
     "name": "stdout",
     "output_type": "stream",
     "text": [
      "Data has been written to /media/hbai/data/code/LiteSORT/yolo_tracking/hbai_scripts/DanceTrack-train_fixed_format/deepocsort__input_1280__conf_.25__IoU_0.7/data/dancetrack0015.txt\n"
     ]
    },
    {
     "name": "stderr",
     "output_type": "stream",
     "text": [
      "Converting seq for deepocsort:   0%|          | 0/40 [00:00<?, ?file/s]"
     ]
    },
    {
     "name": "stdout",
     "output_type": "stream",
     "text": [
      "Data has been written to /media/hbai/data/code/LiteSORT/yolo_tracking/hbai_scripts/DanceTrack-train_fixed_format/deepocsort__input_1280__conf_.25__IoU_0.75/data/dancetrack0023.txt\n",
      "Data has been written to /media/hbai/data/code/LiteSORT/yolo_tracking/hbai_scripts/DanceTrack-train_fixed_format/deepocsort__input_1280__conf_.25__IoU_0.75/data/dancetrack0096.txt\n",
      "Data has been written to /media/hbai/data/code/LiteSORT/yolo_tracking/hbai_scripts/DanceTrack-train_fixed_format/deepocsort__input_1280__conf_.25__IoU_0.75/data/dancetrack0062.txt\n",
      "Data has been written to /media/hbai/data/code/LiteSORT/yolo_tracking/hbai_scripts/DanceTrack-train_fixed_format/deepocsort__input_1280__conf_.25__IoU_0.75/data/dancetrack0098.txt\n",
      "Data has been written to /media/hbai/data/code/LiteSORT/yolo_tracking/hbai_scripts/DanceTrack-train_fixed_format/deepocsort__input_1280__conf_.25__IoU_0.75/data/dancetrack0051.txt\n"
     ]
    },
    {
     "name": "stderr",
     "output_type": "stream",
     "text": [
      "Converting seq for deepocsort:  25%|██▌       | 10/40 [00:00<00:00, 96.04file/s]"
     ]
    },
    {
     "name": "stdout",
     "output_type": "stream",
     "text": [
      "Data has been written to /media/hbai/data/code/LiteSORT/yolo_tracking/hbai_scripts/DanceTrack-train_fixed_format/deepocsort__input_1280__conf_.25__IoU_0.75/data/dancetrack0080.txt\n",
      "Data has been written to /media/hbai/data/code/LiteSORT/yolo_tracking/hbai_scripts/DanceTrack-train_fixed_format/deepocsort__input_1280__conf_.25__IoU_0.75/data/dancetrack0052.txt\n",
      "Data has been written to /media/hbai/data/code/LiteSORT/yolo_tracking/hbai_scripts/DanceTrack-train_fixed_format/deepocsort__input_1280__conf_.25__IoU_0.75/data/dancetrack0055.txt\n",
      "Data has been written to /media/hbai/data/code/LiteSORT/yolo_tracking/hbai_scripts/DanceTrack-train_fixed_format/deepocsort__input_1280__conf_.25__IoU_0.75/data/dancetrack0066.txt\n",
      "Data has been written to /media/hbai/data/code/LiteSORT/yolo_tracking/hbai_scripts/DanceTrack-train_fixed_format/deepocsort__input_1280__conf_.25__IoU_0.75/data/dancetrack0016.txt\n",
      "Data has been written to /media/hbai/data/code/LiteSORT/yolo_tracking/hbai_scripts/DanceTrack-train_fixed_format/deepocsort__input_1280__conf_.25__IoU_0.75/data/dancetrack0087.txt\n",
      "Data has been written to /media/hbai/data/code/LiteSORT/yolo_tracking/hbai_scripts/DanceTrack-train_fixed_format/deepocsort__input_1280__conf_.25__IoU_0.75/data/dancetrack0039.txt\n",
      "Data has been written to /media/hbai/data/code/LiteSORT/yolo_tracking/hbai_scripts/DanceTrack-train_fixed_format/deepocsort__input_1280__conf_.25__IoU_0.75/data/dancetrack0020.txt\n",
      "Data has been written to /media/hbai/data/code/LiteSORT/yolo_tracking/hbai_scripts/DanceTrack-train_fixed_format/deepocsort__input_1280__conf_.25__IoU_0.75/data/dancetrack0082.txt\n",
      "Data has been written to /media/hbai/data/code/LiteSORT/yolo_tracking/hbai_scripts/DanceTrack-train_fixed_format/deepocsort__input_1280__conf_.25__IoU_0.75/data/dancetrack0012.txt\n",
      "Data has been written to /media/hbai/data/code/LiteSORT/yolo_tracking/hbai_scripts/DanceTrack-train_fixed_format/deepocsort__input_1280__conf_.25__IoU_0.75/data/dancetrack0001.txt\n",
      "Data has been written to /media/hbai/data/code/LiteSORT/yolo_tracking/hbai_scripts/DanceTrack-train_fixed_format/deepocsort__input_1280__conf_.25__IoU_0.75/data/dancetrack0075.txt\n",
      "Data has been written to /media/hbai/data/code/LiteSORT/yolo_tracking/hbai_scripts/DanceTrack-train_fixed_format/deepocsort__input_1280__conf_.25__IoU_0.75/data/dancetrack0045.txt\n",
      "Data has been written to /media/hbai/data/code/LiteSORT/yolo_tracking/hbai_scripts/DanceTrack-train_fixed_format/deepocsort__input_1280__conf_.25__IoU_0.75/data/dancetrack0057.txt\n"
     ]
    },
    {
     "name": "stderr",
     "output_type": "stream",
     "text": [
      "Converting seq for deepocsort:  50%|█████     | 20/40 [00:00<00:00, 98.24file/s]"
     ]
    },
    {
     "name": "stdout",
     "output_type": "stream",
     "text": [
      "Data has been written to /media/hbai/data/code/LiteSORT/yolo_tracking/hbai_scripts/DanceTrack-train_fixed_format/deepocsort__input_1280__conf_.25__IoU_0.75/data/dancetrack0074.txt\n",
      "Data has been written to /media/hbai/data/code/LiteSORT/yolo_tracking/hbai_scripts/DanceTrack-train_fixed_format/deepocsort__input_1280__conf_.25__IoU_0.75/data/dancetrack0053.txt\n",
      "Data has been written to /media/hbai/data/code/LiteSORT/yolo_tracking/hbai_scripts/DanceTrack-train_fixed_format/deepocsort__input_1280__conf_.25__IoU_0.75/data/dancetrack0086.txt\n",
      "Data has been written to /media/hbai/data/code/LiteSORT/yolo_tracking/hbai_scripts/DanceTrack-train_fixed_format/deepocsort__input_1280__conf_.25__IoU_0.75/data/dancetrack0083.txt\n",
      "Data has been written to /media/hbai/data/code/LiteSORT/yolo_tracking/hbai_scripts/DanceTrack-train_fixed_format/deepocsort__input_1280__conf_.25__IoU_0.75/data/dancetrack0027.txt\n",
      "Data has been written to /media/hbai/data/code/LiteSORT/yolo_tracking/hbai_scripts/DanceTrack-train_fixed_format/deepocsort__input_1280__conf_.25__IoU_0.75/data/dancetrack0061.txt\n",
      "Data has been written to /media/hbai/data/code/LiteSORT/yolo_tracking/hbai_scripts/DanceTrack-train_fixed_format/deepocsort__input_1280__conf_.25__IoU_0.75/data/dancetrack0068.txt\n",
      "Data has been written to /media/hbai/data/code/LiteSORT/yolo_tracking/hbai_scripts/DanceTrack-train_fixed_format/deepocsort__input_1280__conf_.25__IoU_0.75/data/dancetrack0049.txt\n",
      "Data has been written to /media/hbai/data/code/LiteSORT/yolo_tracking/hbai_scripts/DanceTrack-train_fixed_format/deepocsort__input_1280__conf_.25__IoU_0.75/data/dancetrack0037.txt\n"
     ]
    },
    {
     "name": "stderr",
     "output_type": "stream",
     "text": [
      "Converting seq for deepocsort:  85%|████████▌ | 34/40 [00:00<00:00, 112.58file/s]"
     ]
    },
    {
     "name": "stdout",
     "output_type": "stream",
     "text": [
      "Data has been written to /media/hbai/data/code/LiteSORT/yolo_tracking/hbai_scripts/DanceTrack-train_fixed_format/deepocsort__input_1280__conf_.25__IoU_0.75/data/dancetrack0006.txt\n",
      "Data has been written to /media/hbai/data/code/LiteSORT/yolo_tracking/hbai_scripts/DanceTrack-train_fixed_format/deepocsort__input_1280__conf_.25__IoU_0.75/data/dancetrack0032.txt\n",
      "Data has been written to /media/hbai/data/code/LiteSORT/yolo_tracking/hbai_scripts/DanceTrack-train_fixed_format/deepocsort__input_1280__conf_.25__IoU_0.75/data/dancetrack0044.txt\n",
      "Data has been written to /media/hbai/data/code/LiteSORT/yolo_tracking/hbai_scripts/DanceTrack-train_fixed_format/deepocsort__input_1280__conf_.25__IoU_0.75/data/dancetrack0008.txt\n",
      "Data has been written to /media/hbai/data/code/LiteSORT/yolo_tracking/hbai_scripts/DanceTrack-train_fixed_format/deepocsort__input_1280__conf_.25__IoU_0.75/data/dancetrack0099.txt\n",
      "Data has been written to /media/hbai/data/code/LiteSORT/yolo_tracking/hbai_scripts/DanceTrack-train_fixed_format/deepocsort__input_1280__conf_.25__IoU_0.75/data/dancetrack0002.txt\n",
      "Data has been written to /media/hbai/data/code/LiteSORT/yolo_tracking/hbai_scripts/DanceTrack-train_fixed_format/deepocsort__input_1280__conf_.25__IoU_0.75/data/dancetrack0029.txt\n",
      "Data has been written to /media/hbai/data/code/LiteSORT/yolo_tracking/hbai_scripts/DanceTrack-train_fixed_format/deepocsort__input_1280__conf_.25__IoU_0.75/data/dancetrack0069.txt\n",
      "Data has been written to /media/hbai/data/code/LiteSORT/yolo_tracking/hbai_scripts/DanceTrack-train_fixed_format/deepocsort__input_1280__conf_.25__IoU_0.75/data/dancetrack0033.txt\n"
     ]
    },
    {
     "name": "stderr",
     "output_type": "stream",
     "text": [
      "Converting seq for deepocsort: 100%|██████████| 40/40 [00:00<00:00, 110.29file/s]\n"
     ]
    },
    {
     "name": "stdout",
     "output_type": "stream",
     "text": [
      "Data has been written to /media/hbai/data/code/LiteSORT/yolo_tracking/hbai_scripts/DanceTrack-train_fixed_format/deepocsort__input_1280__conf_.25__IoU_0.75/data/dancetrack0024.txt\n",
      "Data has been written to /media/hbai/data/code/LiteSORT/yolo_tracking/hbai_scripts/DanceTrack-train_fixed_format/deepocsort__input_1280__conf_.25__IoU_0.75/data/dancetrack0072.txt\n",
      "Data has been written to /media/hbai/data/code/LiteSORT/yolo_tracking/hbai_scripts/DanceTrack-train_fixed_format/deepocsort__input_1280__conf_.25__IoU_0.75/data/dancetrack0015.txt\n"
     ]
    },
    {
     "name": "stderr",
     "output_type": "stream",
     "text": [
      "Converting seq for deepocsort:   0%|          | 0/40 [00:00<?, ?file/s]"
     ]
    },
    {
     "name": "stdout",
     "output_type": "stream",
     "text": [
      "Data has been written to /media/hbai/data/code/LiteSORT/yolo_tracking/hbai_scripts/DanceTrack-train_fixed_format/deepocsort__input_1280__conf_.25__IoU_0.8/data/dancetrack0023.txt\n",
      "Data has been written to /media/hbai/data/code/LiteSORT/yolo_tracking/hbai_scripts/DanceTrack-train_fixed_format/deepocsort__input_1280__conf_.25__IoU_0.8/data/dancetrack0096.txt\n",
      "Data has been written to /media/hbai/data/code/LiteSORT/yolo_tracking/hbai_scripts/DanceTrack-train_fixed_format/deepocsort__input_1280__conf_.25__IoU_0.8/data/dancetrack0062.txt\n",
      "Data has been written to /media/hbai/data/code/LiteSORT/yolo_tracking/hbai_scripts/DanceTrack-train_fixed_format/deepocsort__input_1280__conf_.25__IoU_0.8/data/dancetrack0098.txt\n",
      "Data has been written to /media/hbai/data/code/LiteSORT/yolo_tracking/hbai_scripts/DanceTrack-train_fixed_format/deepocsort__input_1280__conf_.25__IoU_0.8/data/dancetrack0051.txt\n",
      "Data has been written to /media/hbai/data/code/LiteSORT/yolo_tracking/hbai_scripts/DanceTrack-train_fixed_format/deepocsort__input_1280__conf_.25__IoU_0.8/data/dancetrack0080.txt\n",
      "Data has been written to /media/hbai/data/code/LiteSORT/yolo_tracking/hbai_scripts/DanceTrack-train_fixed_format/deepocsort__input_1280__conf_.25__IoU_0.8/data/dancetrack0052.txt\n",
      "Data has been written to /media/hbai/data/code/LiteSORT/yolo_tracking/hbai_scripts/DanceTrack-train_fixed_format/deepocsort__input_1280__conf_.25__IoU_0.8/data/dancetrack0055.txt\n",
      "Data has been written to /media/hbai/data/code/LiteSORT/yolo_tracking/hbai_scripts/DanceTrack-train_fixed_format/deepocsort__input_1280__conf_.25__IoU_0.8/data/dancetrack0066.txt\n",
      "Data has been written to /media/hbai/data/code/LiteSORT/yolo_tracking/hbai_scripts/DanceTrack-train_fixed_format/deepocsort__input_1280__conf_.25__IoU_0.8/data/dancetrack0016.txt\n"
     ]
    },
    {
     "name": "stderr",
     "output_type": "stream",
     "text": [
      "Converting seq for deepocsort:  30%|███       | 12/40 [00:00<00:00, 115.76file/s]"
     ]
    },
    {
     "name": "stdout",
     "output_type": "stream",
     "text": [
      "Data has been written to /media/hbai/data/code/LiteSORT/yolo_tracking/hbai_scripts/DanceTrack-train_fixed_format/deepocsort__input_1280__conf_.25__IoU_0.8/data/dancetrack0087.txt\n",
      "Data has been written to /media/hbai/data/code/LiteSORT/yolo_tracking/hbai_scripts/DanceTrack-train_fixed_format/deepocsort__input_1280__conf_.25__IoU_0.8/data/dancetrack0039.txt\n",
      "Data has been written to /media/hbai/data/code/LiteSORT/yolo_tracking/hbai_scripts/DanceTrack-train_fixed_format/deepocsort__input_1280__conf_.25__IoU_0.8/data/dancetrack0020.txt\n",
      "Data has been written to /media/hbai/data/code/LiteSORT/yolo_tracking/hbai_scripts/DanceTrack-train_fixed_format/deepocsort__input_1280__conf_.25__IoU_0.8/data/dancetrack0082.txt\n",
      "Data has been written to /media/hbai/data/code/LiteSORT/yolo_tracking/hbai_scripts/DanceTrack-train_fixed_format/deepocsort__input_1280__conf_.25__IoU_0.8/data/dancetrack0012.txt\n",
      "Data has been written to /media/hbai/data/code/LiteSORT/yolo_tracking/hbai_scripts/DanceTrack-train_fixed_format/deepocsort__input_1280__conf_.25__IoU_0.8/data/dancetrack0001.txt\n",
      "Data has been written to /media/hbai/data/code/LiteSORT/yolo_tracking/hbai_scripts/DanceTrack-train_fixed_format/deepocsort__input_1280__conf_.25__IoU_0.8/data/dancetrack0075.txt\n",
      "Data has been written to /media/hbai/data/code/LiteSORT/yolo_tracking/hbai_scripts/DanceTrack-train_fixed_format/deepocsort__input_1280__conf_.25__IoU_0.8/data/dancetrack0045.txt\n",
      "Data has been written to /media/hbai/data/code/LiteSORT/yolo_tracking/hbai_scripts/DanceTrack-train_fixed_format/deepocsort__input_1280__conf_.25__IoU_0.8/data/dancetrack0057.txt\n",
      "Data has been written to /media/hbai/data/code/LiteSORT/yolo_tracking/hbai_scripts/DanceTrack-train_fixed_format/deepocsort__input_1280__conf_.25__IoU_0.8/data/dancetrack0074.txt\n",
      "Data has been written to /media/hbai/data/code/LiteSORT/yolo_tracking/hbai_scripts/DanceTrack-train_fixed_format/deepocsort__input_1280__conf_.25__IoU_0.8/data/dancetrack0053.txt\n"
     ]
    },
    {
     "name": "stderr",
     "output_type": "stream",
     "text": [
      "Converting seq for deepocsort:  65%|██████▌   | 26/40 [00:00<00:00, 128.37file/s]"
     ]
    },
    {
     "name": "stdout",
     "output_type": "stream",
     "text": [
      "Data has been written to /media/hbai/data/code/LiteSORT/yolo_tracking/hbai_scripts/DanceTrack-train_fixed_format/deepocsort__input_1280__conf_.25__IoU_0.8/data/dancetrack0086.txt\n",
      "Data has been written to /media/hbai/data/code/LiteSORT/yolo_tracking/hbai_scripts/DanceTrack-train_fixed_format/deepocsort__input_1280__conf_.25__IoU_0.8/data/dancetrack0083.txt\n",
      "Data has been written to /media/hbai/data/code/LiteSORT/yolo_tracking/hbai_scripts/DanceTrack-train_fixed_format/deepocsort__input_1280__conf_.25__IoU_0.8/data/dancetrack0027.txt\n",
      "Data has been written to /media/hbai/data/code/LiteSORT/yolo_tracking/hbai_scripts/DanceTrack-train_fixed_format/deepocsort__input_1280__conf_.25__IoU_0.8/data/dancetrack0061.txt\n",
      "Data has been written to /media/hbai/data/code/LiteSORT/yolo_tracking/hbai_scripts/DanceTrack-train_fixed_format/deepocsort__input_1280__conf_.25__IoU_0.8/data/dancetrack0068.txt\n",
      "Data has been written to /media/hbai/data/code/LiteSORT/yolo_tracking/hbai_scripts/DanceTrack-train_fixed_format/deepocsort__input_1280__conf_.25__IoU_0.8/data/dancetrack0049.txt\n",
      "Data has been written to /media/hbai/data/code/LiteSORT/yolo_tracking/hbai_scripts/DanceTrack-train_fixed_format/deepocsort__input_1280__conf_.25__IoU_0.8/data/dancetrack0037.txt\n",
      "Data has been written to /media/hbai/data/code/LiteSORT/yolo_tracking/hbai_scripts/DanceTrack-train_fixed_format/deepocsort__input_1280__conf_.25__IoU_0.8/data/dancetrack0006.txt\n",
      "Data has been written to /media/hbai/data/code/LiteSORT/yolo_tracking/hbai_scripts/DanceTrack-train_fixed_format/deepocsort__input_1280__conf_.25__IoU_0.8/data/dancetrack0032.txt\n",
      "Data has been written to /media/hbai/data/code/LiteSORT/yolo_tracking/hbai_scripts/DanceTrack-train_fixed_format/deepocsort__input_1280__conf_.25__IoU_0.8/data/dancetrack0044.txt\n",
      "Data has been written to /media/hbai/data/code/LiteSORT/yolo_tracking/hbai_scripts/DanceTrack-train_fixed_format/deepocsort__input_1280__conf_.25__IoU_0.8/data/dancetrack0008.txt\n",
      "Data has been written to /media/hbai/data/code/LiteSORT/yolo_tracking/hbai_scripts/DanceTrack-train_fixed_format/deepocsort__input_1280__conf_.25__IoU_0.8/data/dancetrack0099.txt\n",
      "Data has been written to /media/hbai/data/code/LiteSORT/yolo_tracking/hbai_scripts/DanceTrack-train_fixed_format/deepocsort__input_1280__conf_.25__IoU_0.8/data/dancetrack0002.txt\n",
      "Data has been written to /media/hbai/data/code/LiteSORT/yolo_tracking/hbai_scripts/DanceTrack-train_fixed_format/deepocsort__input_1280__conf_.25__IoU_0.8/data/dancetrack0029.txt\n",
      "Data has been written to /media/hbai/data/code/LiteSORT/yolo_tracking/hbai_scripts/DanceTrack-train_fixed_format/deepocsort__input_1280__conf_.25__IoU_0.8/data/dancetrack0069.txt\n",
      "Data has been written to /media/hbai/data/code/LiteSORT/yolo_tracking/hbai_scripts/DanceTrack-train_fixed_format/deepocsort__input_1280__conf_.25__IoU_0.8/data/dancetrack0033.txt\n",
      "Data has been written to /media/hbai/data/code/LiteSORT/yolo_tracking/hbai_scripts/DanceTrack-train_fixed_format/deepocsort__input_1280__conf_.25__IoU_0.8/data/dancetrack0024.txt\n",
      "Data has been written to /media/hbai/data/code/LiteSORT/yolo_tracking/hbai_scripts/DanceTrack-train_fixed_format/deepocsort__input_1280__conf_.25__IoU_0.8/data/dancetrack0072.txt\n"
     ]
    },
    {
     "name": "stderr",
     "output_type": "stream",
     "text": [
      "Converting seq for deepocsort: 100%|██████████| 40/40 [00:00<00:00, 131.06file/s]"
     ]
    },
    {
     "name": "stdout",
     "output_type": "stream",
     "text": [
      "Data has been written to /media/hbai/data/code/LiteSORT/yolo_tracking/hbai_scripts/DanceTrack-train_fixed_format/deepocsort__input_1280__conf_.25__IoU_0.8/data/dancetrack0015.txt\n"
     ]
    },
    {
     "name": "stderr",
     "output_type": "stream",
     "text": [
      "\n"
     ]
    }
   ],
   "source": [
    "import os\n",
    "import re\n",
    "from tqdm import tqdm\n",
    "\n",
    "def process_file(file_path):\n",
    "    output_data = []\n",
    "    \n",
    "    with open(file_path, 'r') as file:\n",
    "        lines = file.readlines()  # Read all lines\n",
    "        if not lines:\n",
    "            print(f\"File {file_path} is empty.\")\n",
    "        for line in lines:\n",
    "            data = line.strip().split(',')\n",
    "            if len(data) == 10:\n",
    "                try:\n",
    "                    frame_number, track_id, x_center, y_center, width, height = map(float, data[:6])\n",
    "                    \n",
    "                    # Convert center coordinates to top-left coordinates\n",
    "                    x_top_left = x_center - (width / 2)\n",
    "                    y_top_left = y_center - (height / 2)\n",
    "                    \n",
    "                    output_line = f\"{int(frame_number)},{int(track_id)},{x_top_left:.2f},{y_top_left:.2f},{width:.2f},{height:.2f},1,-1,-1,-1\"\n",
    "                    output_data.append(output_line)\n",
    "                except ValueError as e:\n",
    "                    print(f\"Error processing line in file {file_path}: {line} -> {e}\")\n",
    "    \n",
    "    return output_data\n",
    "\n",
    "def process_video(sequence_file, input_directory, output_directory):\n",
    "    input_file = os.path.join(input_directory, sequence_file)\n",
    "    if not os.path.exists(input_file):\n",
    "        print(f\"Input file does not exist: {input_file}\")\n",
    "        return\n",
    "    \n",
    "    output_file = os.path.join(output_directory, sequence_file)\n",
    "    \n",
    "    output_data = process_file(input_file)  # Process the entire sequence file\n",
    "    if not output_data:\n",
    "        print(f\"No data processed for file: {input_file}\")\n",
    "        return\n",
    "    \n",
    "    with open(output_file, 'w') as out_file:\n",
    "        for line in output_data:\n",
    "            out_file.write(line + '\\n')\n",
    "    \n",
    "    print(f\"Data has been written to {output_file}\")\n",
    "\n",
    "def main(result_base_dir, output_base_dir):\n",
    "    trackers = ['ocsort', 'deepocsort']\n",
    "    \n",
    "    for tracker in trackers:\n",
    "        # from 0.2 to 0.8 with 0.05 step\n",
    "        for iou in [0.2, 0.25, 0.3, 0.35, 0.4, 0.45, 0.5, 0.55, 0.6, 0.65, 0.7, 0.75, 0.8]:\n",
    "        \n",
    "            result_dir = os.path.join(result_base_dir, f\"{tracker}__input_1280__conf_.25__IoU_{iou}\", 'data')\n",
    "            output_dir = os.path.join(output_base_dir, f\"{tracker}__input_1280__conf_.25__IoU_{iou}\", \"data\")\n",
    "            \n",
    "            # Ensure the output directory exists\n",
    "            os.makedirs(output_dir, exist_ok=True)\n",
    "            \n",
    "            sequence_files = [f for f in os.listdir(result_dir) if f.endswith('.txt')]\n",
    "            \n",
    "            for sequence_file in tqdm(sequence_files, desc=f\"Converting seq for {tracker}\", unit=\"file\"):\n",
    "                process_video(sequence_file, result_dir, output_dir)\n",
    "\n",
    "# Specify the base result directory, and base output directory\n",
    "result_base_dir = '/media/hbai/data/code/LiteSORT/yolo_tracking/hbai_scripts/DanceTrack-train_IoU'\n",
    "output_base_dir = '/media/hbai/data/code/LiteSORT/yolo_tracking/hbai_scripts/DanceTrack-train_fixed_format'\n",
    "\n",
    "# Run the processing for all sequences for all trackers\n",
    "main(result_base_dir, output_base_dir)\n"
   ]
  }
 ],
 "metadata": {
  "kernelspec": {
   "display_name": "myenv",
   "language": "python",
   "name": "python3"
  },
  "language_info": {
   "codemirror_mode": {
    "name": "ipython",
    "version": 3
   },
   "file_extension": ".py",
   "mimetype": "text/x-python",
   "name": "python",
   "nbconvert_exporter": "python",
   "pygments_lexer": "ipython3",
   "version": "3.10.12"
  }
 },
 "nbformat": 4,
 "nbformat_minor": 2
}
