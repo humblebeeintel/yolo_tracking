{
 "cells": [
  {
   "cell_type": "markdown",
   "metadata": {},
   "source": [
    "### MOT17"
   ]
  },
  {
   "cell_type": "code",
   "execution_count": 3,
   "metadata": {},
   "outputs": [
    {
     "name": "stdout",
     "output_type": "stream",
     "text": [
      "seq_dir  MOT17-04-FRCNN\n"
     ]
    },
    {
     "name": "stderr",
     "output_type": "stream",
     "text": [
      "  0%|          | 0/1050 [00:00<?, ?it/s]"
     ]
    },
    {
     "name": "stderr",
     "output_type": "stream",
     "text": [
      "100%|██████████| 1050/1050 [00:17<00:00, 60.97it/s]\n"
     ]
    },
    {
     "name": "stdout",
     "output_type": "stream",
     "text": [
      "seq_dir  MOT17-02-FRCNN\n"
     ]
    },
    {
     "name": "stderr",
     "output_type": "stream",
     "text": [
      "100%|██████████| 600/600 [00:08<00:00, 70.22it/s]\n"
     ]
    },
    {
     "name": "stdout",
     "output_type": "stream",
     "text": [
      "seq_dir  MOT17-13-FRCNN\n"
     ]
    },
    {
     "name": "stderr",
     "output_type": "stream",
     "text": [
      "100%|██████████| 750/750 [00:12<00:00, 57.71it/s]\n"
     ]
    },
    {
     "name": "stdout",
     "output_type": "stream",
     "text": [
      "seq_dir  MOT17-09-FRCNN\n"
     ]
    },
    {
     "name": "stderr",
     "output_type": "stream",
     "text": [
      "100%|██████████| 525/525 [00:08<00:00, 61.07it/s]\n"
     ]
    },
    {
     "name": "stdout",
     "output_type": "stream",
     "text": [
      "seq_dir  MOT17-11-FRCNN\n"
     ]
    },
    {
     "name": "stderr",
     "output_type": "stream",
     "text": [
      "100%|██████████| 900/900 [00:15<00:00, 56.95it/s]\n"
     ]
    },
    {
     "name": "stdout",
     "output_type": "stream",
     "text": [
      "seq_dir  MOT17-10-FRCNN\n"
     ]
    },
    {
     "name": "stderr",
     "output_type": "stream",
     "text": [
      "100%|██████████| 654/654 [00:10<00:00, 60.34it/s]\n"
     ]
    },
    {
     "name": "stdout",
     "output_type": "stream",
     "text": [
      "seq_dir  MOT17-05-FRCNN\n"
     ]
    },
    {
     "name": "stderr",
     "output_type": "stream",
     "text": [
      "100%|██████████| 837/837 [00:02<00:00, 344.08it/s]\n"
     ]
    }
   ],
   "source": [
    "import os\n",
    "import cv2\n",
    "from tqdm import tqdm\n",
    "\n",
    "benchmark_folder = '/workspace/LiteSORT/datasets/MOT17/train'\n",
    "\n",
    "# Check if the benchmark folder exists\n",
    "if os.path.exists(benchmark_folder):\n",
    "    # List all subdirectories in the benchmark folder\n",
    "    for seq_dir in os.listdir(benchmark_folder):\n",
    "        print(\"seq_dir \",seq_dir)\n",
    "        seq_path = os.path.join(benchmark_folder, seq_dir)\n",
    "        image_dir = os.path.join(seq_path, 'img1')\n",
    "        \n",
    "        # Check if the image directory exists\n",
    "        if os.path.exists(image_dir) and os.path.isdir(image_dir):\n",
    "            images = [img for img in sorted(os.listdir(image_dir)) if img.endswith(\".jpg\")]\n",
    "            if not images:\n",
    "                continue  # Skip if no images are found\n",
    "            \n",
    "            # Create a VideoWriter object\n",
    "            first_image = cv2.imread(os.path.join(image_dir, images[0]))\n",
    "            height, width, layers = first_image.shape\n",
    "            video_name = os.path.join(seq_path, f'{seq_dir}.mp4')\n",
    "            fourcc = cv2.VideoWriter_fourcc(*'mp4v')  # codec\n",
    "            video = cv2.VideoWriter(video_name, fourcc, 30, (width, height))\n",
    "            \n",
    "            for image in tqdm(images):\n",
    "                img_path = os.path.join(image_dir, image)\n",
    "                img = cv2.imread(img_path)\n",
    "                video.write(img)\n",
    "            \n",
    "            video.release()\n",
    "else:\n",
    "    print(f\"The directory {benchmark_folder} does not exist.\")\n"
   ]
  },
  {
   "cell_type": "markdown",
   "metadata": {},
   "source": [
    "### MOT20"
   ]
  },
  {
   "cell_type": "code",
   "execution_count": 1,
   "metadata": {},
   "outputs": [
    {
     "name": "stdout",
     "output_type": "stream",
     "text": [
      "seq_dir  MOT20-02\n"
     ]
    },
    {
     "name": "stderr",
     "output_type": "stream",
     "text": [
      "100%|██████████| 2782/2782 [00:51<00:00, 54.01it/s]\n"
     ]
    },
    {
     "name": "stdout",
     "output_type": "stream",
     "text": [
      "seq_dir  MOT20-03\n"
     ]
    },
    {
     "name": "stderr",
     "output_type": "stream",
     "text": [
      "100%|██████████| 2405/2405 [00:22<00:00, 105.40it/s]\n"
     ]
    },
    {
     "name": "stdout",
     "output_type": "stream",
     "text": [
      "seq_dir  MOT20-05\n"
     ]
    },
    {
     "name": "stderr",
     "output_type": "stream",
     "text": [
      "100%|██████████| 3315/3315 [00:57<00:00, 57.29it/s]\n"
     ]
    },
    {
     "name": "stdout",
     "output_type": "stream",
     "text": [
      "seq_dir  MOT20-01\n"
     ]
    },
    {
     "name": "stderr",
     "output_type": "stream",
     "text": [
      "100%|██████████| 429/429 [00:08<00:00, 52.92it/s]\n"
     ]
    }
   ],
   "source": [
    "import os\n",
    "import cv2\n",
    "from tqdm import tqdm\n",
    "\n",
    "benchmark_folder = '/workspace/LiteSORT/datasets/MOT20/train'\n",
    "\n",
    "# Check if the benchmark folder exists\n",
    "if os.path.exists(benchmark_folder):\n",
    "    # List all subdirectories in the benchmark folder\n",
    "    for seq_dir in os.listdir(benchmark_folder):\n",
    "        print(\"seq_dir \",seq_dir)\n",
    "        seq_path = os.path.join(benchmark_folder, seq_dir)\n",
    "        image_dir = os.path.join(seq_path, 'img1')\n",
    "        \n",
    "        # Check if the image directory exists\n",
    "        if os.path.exists(image_dir) and os.path.isdir(image_dir):\n",
    "            images = [img for img in sorted(os.listdir(image_dir)) if img.endswith(\".jpg\")]\n",
    "            if not images:\n",
    "                continue  # Skip if no images are found\n",
    "            \n",
    "            # Create a VideoWriter object\n",
    "            first_image = cv2.imread(os.path.join(image_dir, images[0]))\n",
    "            height, width, layers = first_image.shape\n",
    "            video_name = os.path.join(seq_path, f'{seq_dir}.mp4')\n",
    "            fourcc = cv2.VideoWriter_fourcc(*'mp4v')  # codec\n",
    "            video = cv2.VideoWriter(video_name, fourcc, 30, (width, height))\n",
    "            \n",
    "            for image in tqdm(images):\n",
    "                img_path = os.path.join(image_dir, image)\n",
    "                img = cv2.imread(img_path)\n",
    "                video.write(img)\n",
    "            \n",
    "            video.release()\n",
    "else:\n",
    "    print(f\"The directory {benchmark_folder} does not exist.\")\n"
   ]
  }
 ],
 "metadata": {
  "kernelspec": {
   "display_name": "myenv",
   "language": "python",
   "name": "python3"
  },
  "language_info": {
   "codemirror_mode": {
    "name": "ipython",
    "version": 3
   },
   "file_extension": ".py",
   "mimetype": "text/x-python",
   "name": "python",
   "nbconvert_exporter": "python",
   "pygments_lexer": "ipython3",
   "version": "3.8.8"
  }
 },
 "nbformat": 4,
 "nbformat_minor": 2
}
